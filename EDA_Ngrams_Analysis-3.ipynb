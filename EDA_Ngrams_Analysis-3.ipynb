{
 "cells": [
  {
   "cell_type": "code",
   "execution_count": 1,
   "metadata": {},
   "outputs": [],
   "source": [
    "import pandas as pd\n",
    "import numpy as np\n",
    "import matplotlib.pyplot as plt"
   ]
  },
  {
   "cell_type": "code",
   "execution_count": 2,
   "metadata": {},
   "outputs": [],
   "source": [
    "df = pd.read_excel('../Data/Merged_onehot.xlsx')"
   ]
  },
  {
   "cell_type": "code",
   "execution_count": 3,
   "metadata": {},
   "outputs": [
    {
     "data": {
      "text/html": [
       "<div>\n",
       "<style scoped>\n",
       "    .dataframe tbody tr th:only-of-type {\n",
       "        vertical-align: middle;\n",
       "    }\n",
       "\n",
       "    .dataframe tbody tr th {\n",
       "        vertical-align: top;\n",
       "    }\n",
       "\n",
       "    .dataframe thead th {\n",
       "        text-align: right;\n",
       "    }\n",
       "</style>\n",
       "<table border=\"1\" class=\"dataframe\">\n",
       "  <thead>\n",
       "    <tr style=\"text-align: right;\">\n",
       "      <th></th>\n",
       "      <th>Unnamed: 0</th>\n",
       "      <th>PIN</th>\n",
       "      <th>Solution_points</th>\n",
       "      <th>case_assigned_to</th>\n",
       "      <th>timestamp</th>\n",
       "      <th>EDA</th>\n",
       "    </tr>\n",
       "  </thead>\n",
       "  <tbody>\n",
       "    <tr>\n",
       "      <th>0</th>\n",
       "      <td>0</td>\n",
       "      <td>AEOGCR7</td>\n",
       "      <td>1</td>\n",
       "      <td>Goettlich</td>\n",
       "      <td>2018-05-08 15:12:22</td>\n",
       "      <td>1</td>\n",
       "    </tr>\n",
       "    <tr>\n",
       "      <th>1</th>\n",
       "      <td>1</td>\n",
       "      <td>AEOGCR7</td>\n",
       "      <td>1</td>\n",
       "      <td>Goettlich</td>\n",
       "      <td>2018-05-08 15:12:26</td>\n",
       "      <td>1</td>\n",
       "    </tr>\n",
       "    <tr>\n",
       "      <th>2</th>\n",
       "      <td>2</td>\n",
       "      <td>AEOGCR7</td>\n",
       "      <td>1</td>\n",
       "      <td>Goettlich</td>\n",
       "      <td>2018-05-08 15:12:52</td>\n",
       "      <td>1</td>\n",
       "    </tr>\n",
       "    <tr>\n",
       "      <th>3</th>\n",
       "      <td>3</td>\n",
       "      <td>AEOGCR7</td>\n",
       "      <td>1</td>\n",
       "      <td>Goettlich</td>\n",
       "      <td>2018-05-08 15:13:50</td>\n",
       "      <td>1</td>\n",
       "    </tr>\n",
       "    <tr>\n",
       "      <th>4</th>\n",
       "      <td>4</td>\n",
       "      <td>AEOGCR7</td>\n",
       "      <td>1</td>\n",
       "      <td>Goettlich</td>\n",
       "      <td>2018-05-08 15:14:05</td>\n",
       "      <td>1</td>\n",
       "    </tr>\n",
       "  </tbody>\n",
       "</table>\n",
       "</div>"
      ],
      "text/plain": [
       "   Unnamed: 0      PIN  Solution_points case_assigned_to           timestamp  \\\n",
       "0           0  AEOGCR7                1        Goettlich 2018-05-08 15:12:22   \n",
       "1           1  AEOGCR7                1        Goettlich 2018-05-08 15:12:26   \n",
       "2           2  AEOGCR7                1        Goettlich 2018-05-08 15:12:52   \n",
       "3           3  AEOGCR7                1        Goettlich 2018-05-08 15:13:50   \n",
       "4           4  AEOGCR7                1        Goettlich 2018-05-08 15:14:05   \n",
       "\n",
       "   EDA  \n",
       "0    1  \n",
       "1    1  \n",
       "2    1  \n",
       "3    1  \n",
       "4    1  "
      ]
     },
     "execution_count": 3,
     "metadata": {},
     "output_type": "execute_result"
    }
   ],
   "source": [
    "df.head()"
   ]
  },
  {
   "cell_type": "code",
   "execution_count": 4,
   "metadata": {},
   "outputs": [],
   "source": [
    "df2 = df.copy()"
   ]
  },
  {
   "cell_type": "code",
   "execution_count": 5,
   "metadata": {},
   "outputs": [],
   "source": [
    "df2.sort_values('timestamp', inplace=True)"
   ]
  },
  {
   "cell_type": "code",
   "execution_count": 6,
   "metadata": {},
   "outputs": [
    {
     "data": {
      "text/html": [
       "<div>\n",
       "<style scoped>\n",
       "    .dataframe tbody tr th:only-of-type {\n",
       "        vertical-align: middle;\n",
       "    }\n",
       "\n",
       "    .dataframe tbody tr th {\n",
       "        vertical-align: top;\n",
       "    }\n",
       "\n",
       "    .dataframe thead th {\n",
       "        text-align: right;\n",
       "    }\n",
       "</style>\n",
       "<table border=\"1\" class=\"dataframe\">\n",
       "  <thead>\n",
       "    <tr style=\"text-align: right;\">\n",
       "      <th></th>\n",
       "      <th>Unnamed: 0</th>\n",
       "      <th>PIN</th>\n",
       "      <th>Solution_points</th>\n",
       "      <th>case_assigned_to</th>\n",
       "      <th>timestamp</th>\n",
       "      <th>EDA</th>\n",
       "    </tr>\n",
       "  </thead>\n",
       "  <tbody>\n",
       "    <tr>\n",
       "      <th>577</th>\n",
       "      <td>613</td>\n",
       "      <td>DII62UI</td>\n",
       "      <td>0</td>\n",
       "      <td>Goettlich</td>\n",
       "      <td>2018-05-08 14:55:08</td>\n",
       "      <td>1</td>\n",
       "    </tr>\n",
       "    <tr>\n",
       "      <th>578</th>\n",
       "      <td>614</td>\n",
       "      <td>DII62UI</td>\n",
       "      <td>0</td>\n",
       "      <td>Goettlich</td>\n",
       "      <td>2018-05-08 14:56:15</td>\n",
       "      <td>1</td>\n",
       "    </tr>\n",
       "    <tr>\n",
       "      <th>579</th>\n",
       "      <td>615</td>\n",
       "      <td>DII62UI</td>\n",
       "      <td>0</td>\n",
       "      <td>Goettlich</td>\n",
       "      <td>2018-05-08 14:56:16</td>\n",
       "      <td>1</td>\n",
       "    </tr>\n",
       "    <tr>\n",
       "      <th>580</th>\n",
       "      <td>616</td>\n",
       "      <td>DII62UI</td>\n",
       "      <td>0</td>\n",
       "      <td>Goettlich</td>\n",
       "      <td>2018-05-08 14:57:14</td>\n",
       "      <td>1</td>\n",
       "    </tr>\n",
       "    <tr>\n",
       "      <th>581</th>\n",
       "      <td>617</td>\n",
       "      <td>DII62UI</td>\n",
       "      <td>0</td>\n",
       "      <td>Goettlich</td>\n",
       "      <td>2018-05-08 14:57:24</td>\n",
       "      <td>1</td>\n",
       "    </tr>\n",
       "  </tbody>\n",
       "</table>\n",
       "</div>"
      ],
      "text/plain": [
       "     Unnamed: 0      PIN  Solution_points case_assigned_to  \\\n",
       "577         613  DII62UI                0        Goettlich   \n",
       "578         614  DII62UI                0        Goettlich   \n",
       "579         615  DII62UI                0        Goettlich   \n",
       "580         616  DII62UI                0        Goettlich   \n",
       "581         617  DII62UI                0        Goettlich   \n",
       "\n",
       "              timestamp  EDA  \n",
       "577 2018-05-08 14:55:08    1  \n",
       "578 2018-05-08 14:56:15    1  \n",
       "579 2018-05-08 14:56:16    1  \n",
       "580 2018-05-08 14:57:14    1  \n",
       "581 2018-05-08 14:57:24    1  "
      ]
     },
     "execution_count": 6,
     "metadata": {},
     "output_type": "execute_result"
    }
   ],
   "source": [
    "df2.head()"
   ]
  },
  {
   "cell_type": "code",
   "execution_count": 7,
   "metadata": {},
   "outputs": [],
   "source": [
    "## Removing with 0 EDA values\n",
    "del_indexes = df2[df2['EDA'] == 0].index\n",
    "df2.drop(del_indexes, inplace = True)"
   ]
  },
  {
   "cell_type": "markdown",
   "metadata": {},
   "source": [
    "### Making EDA into a list for correct and wrong results"
   ]
  },
  {
   "cell_type": "code",
   "execution_count": 8,
   "metadata": {},
   "outputs": [
    {
     "data": {
      "text/html": [
       "<div>\n",
       "<style scoped>\n",
       "    .dataframe tbody tr th:only-of-type {\n",
       "        vertical-align: middle;\n",
       "    }\n",
       "\n",
       "    .dataframe tbody tr th {\n",
       "        vertical-align: top;\n",
       "    }\n",
       "\n",
       "    .dataframe thead th {\n",
       "        text-align: right;\n",
       "    }\n",
       "</style>\n",
       "<table border=\"1\" class=\"dataframe\">\n",
       "  <thead>\n",
       "    <tr style=\"text-align: right;\">\n",
       "      <th></th>\n",
       "      <th>Unnamed: 0</th>\n",
       "      <th>PIN</th>\n",
       "      <th>Solution_points</th>\n",
       "      <th>case_assigned_to</th>\n",
       "      <th>timestamp</th>\n",
       "      <th>EDA</th>\n",
       "    </tr>\n",
       "  </thead>\n",
       "  <tbody>\n",
       "    <tr>\n",
       "      <th>577</th>\n",
       "      <td>613</td>\n",
       "      <td>DII62UI</td>\n",
       "      <td>0</td>\n",
       "      <td>Goettlich</td>\n",
       "      <td>2018-05-08 14:55:08</td>\n",
       "      <td>1</td>\n",
       "    </tr>\n",
       "    <tr>\n",
       "      <th>578</th>\n",
       "      <td>614</td>\n",
       "      <td>DII62UI</td>\n",
       "      <td>0</td>\n",
       "      <td>Goettlich</td>\n",
       "      <td>2018-05-08 14:56:15</td>\n",
       "      <td>1</td>\n",
       "    </tr>\n",
       "    <tr>\n",
       "      <th>579</th>\n",
       "      <td>615</td>\n",
       "      <td>DII62UI</td>\n",
       "      <td>0</td>\n",
       "      <td>Goettlich</td>\n",
       "      <td>2018-05-08 14:56:16</td>\n",
       "      <td>1</td>\n",
       "    </tr>\n",
       "    <tr>\n",
       "      <th>580</th>\n",
       "      <td>616</td>\n",
       "      <td>DII62UI</td>\n",
       "      <td>0</td>\n",
       "      <td>Goettlich</td>\n",
       "      <td>2018-05-08 14:57:14</td>\n",
       "      <td>1</td>\n",
       "    </tr>\n",
       "    <tr>\n",
       "      <th>581</th>\n",
       "      <td>617</td>\n",
       "      <td>DII62UI</td>\n",
       "      <td>0</td>\n",
       "      <td>Goettlich</td>\n",
       "      <td>2018-05-08 14:57:24</td>\n",
       "      <td>1</td>\n",
       "    </tr>\n",
       "  </tbody>\n",
       "</table>\n",
       "</div>"
      ],
      "text/plain": [
       "     Unnamed: 0      PIN  Solution_points case_assigned_to  \\\n",
       "577         613  DII62UI                0        Goettlich   \n",
       "578         614  DII62UI                0        Goettlich   \n",
       "579         615  DII62UI                0        Goettlich   \n",
       "580         616  DII62UI                0        Goettlich   \n",
       "581         617  DII62UI                0        Goettlich   \n",
       "\n",
       "              timestamp  EDA  \n",
       "577 2018-05-08 14:55:08    1  \n",
       "578 2018-05-08 14:56:15    1  \n",
       "579 2018-05-08 14:56:16    1  \n",
       "580 2018-05-08 14:57:14    1  \n",
       "581 2018-05-08 14:57:24    1  "
      ]
     },
     "execution_count": 8,
     "metadata": {},
     "output_type": "execute_result"
    }
   ],
   "source": [
    "df2.head()"
   ]
  },
  {
   "cell_type": "code",
   "execution_count": 9,
   "metadata": {},
   "outputs": [
    {
     "data": {
      "text/plain": [
       "1    14196\n",
       "0    10480\n",
       "Name: Solution_points, dtype: int64"
      ]
     },
     "execution_count": 9,
     "metadata": {},
     "output_type": "execute_result"
    }
   ],
   "source": [
    "df2.Solution_points.value_counts()"
   ]
  },
  {
   "cell_type": "code",
   "execution_count": 10,
   "metadata": {},
   "outputs": [],
   "source": [
    "right = df2[df2['Solution_points'] == 1]['EDA'].tolist()"
   ]
  },
  {
   "cell_type": "code",
   "execution_count": 11,
   "metadata": {},
   "outputs": [
    {
     "data": {
      "text/plain": [
       "14196"
      ]
     },
     "execution_count": 11,
     "metadata": {},
     "output_type": "execute_result"
    }
   ],
   "source": [
    "len(right)"
   ]
  },
  {
   "cell_type": "code",
   "execution_count": 12,
   "metadata": {},
   "outputs": [],
   "source": [
    "wrong = df2[df2['Solution_points'] == 0]['EDA'].tolist()"
   ]
  },
  {
   "cell_type": "code",
   "execution_count": 13,
   "metadata": {},
   "outputs": [
    {
     "data": {
      "text/plain": [
       "10480"
      ]
     },
     "execution_count": 13,
     "metadata": {},
     "output_type": "execute_result"
    }
   ],
   "source": [
    "len(wrong)"
   ]
  },
  {
   "cell_type": "markdown",
   "metadata": {},
   "source": [
    "Knowing about epistemic data\n",
    "- iEE = Problem Identification - 1\n",
    "- EG = Evidence Generation - 2\n",
    "- cEE = Evidence evaluation - 3\n",
    "- CHG = - Hypothesis Generation - 4\n",
    "- DC = Drawing conclusion - 5\n",
    "- none = 0"
   ]
  },
  {
   "cell_type": "markdown",
   "metadata": {},
   "source": [
    "#### Ngrams"
   ]
  },
  {
   "cell_type": "code",
   "execution_count": 14,
   "metadata": {},
   "outputs": [],
   "source": [
    "import collections\n",
    "from nltk.util import ngrams"
   ]
  },
  {
   "cell_type": "markdown",
   "metadata": {},
   "source": [
    "#### Correct solution Ngrams"
   ]
  },
  {
   "cell_type": "code",
   "execution_count": 15,
   "metadata": {},
   "outputs": [
    {
     "data": {
      "text/plain": [
       "14196"
      ]
     },
     "execution_count": 15,
     "metadata": {},
     "output_type": "execute_result"
    }
   ],
   "source": [
    "len(right)"
   ]
  },
  {
   "cell_type": "code",
   "execution_count": 16,
   "metadata": {},
   "outputs": [],
   "source": [
    "ngram_right = ngrams(right, 2)"
   ]
  },
  {
   "cell_type": "code",
   "execution_count": 17,
   "metadata": {},
   "outputs": [],
   "source": [
    "# list(fiveGrams)[:5] "
   ]
  },
  {
   "cell_type": "code",
   "execution_count": 18,
   "metadata": {},
   "outputs": [],
   "source": [
    "freq_right = collections.Counter(ngram_right)"
   ]
  },
  {
   "cell_type": "code",
   "execution_count": 19,
   "metadata": {},
   "outputs": [],
   "source": [
    "# freq_right.most_common(15)"
   ]
  },
  {
   "cell_type": "code",
   "execution_count": 20,
   "metadata": {},
   "outputs": [
    {
     "name": "stdout",
     "output_type": "stream",
     "text": [
      "((3, 3), 6485) 45.68188222034376\n",
      "((1, 1), 2028) 14.285714285714285\n",
      "((4, 4), 1093) 7.699351930121161\n",
      "((2, 2), 711) 5.008453085376162\n",
      "((3, 4), 507) 3.571428571428571\n",
      "((1, 2), 465) 3.2755705832628905\n",
      "((4, 1), 455) 3.205128205128205\n",
      "((2, 3), 450) 3.169907016060862\n"
     ]
    }
   ],
   "source": [
    "for i in freq_right.most_common(8):\n",
    "    print(i, i[1]/len(right)*100)"
   ]
  },
  {
   "cell_type": "markdown",
   "metadata": {},
   "source": [
    "#### Wrong solution Ngrams"
   ]
  },
  {
   "cell_type": "code",
   "execution_count": 21,
   "metadata": {},
   "outputs": [
    {
     "data": {
      "text/plain": [
       "10480"
      ]
     },
     "execution_count": 21,
     "metadata": {},
     "output_type": "execute_result"
    }
   ],
   "source": [
    "len(wrong)"
   ]
  },
  {
   "cell_type": "code",
   "execution_count": 92,
   "metadata": {},
   "outputs": [],
   "source": [
    "ngram_wrong = ngrams(wrong, 2)"
   ]
  },
  {
   "cell_type": "code",
   "execution_count": 93,
   "metadata": {},
   "outputs": [],
   "source": [
    "# list(fiveGrams)[:5] "
   ]
  },
  {
   "cell_type": "code",
   "execution_count": 94,
   "metadata": {},
   "outputs": [],
   "source": [
    "freq_wrong = collections.Counter(ngram_wrong)"
   ]
  },
  {
   "cell_type": "code",
   "execution_count": 95,
   "metadata": {},
   "outputs": [],
   "source": [
    "# freq_wrong.most_common(15)"
   ]
  },
  {
   "cell_type": "code",
   "execution_count": 96,
   "metadata": {},
   "outputs": [
    {
     "name": "stdout",
     "output_type": "stream",
     "text": [
      "((3, 3), 4589) 43.7881679389313\n",
      "((1, 1), 1530) 14.599236641221374\n",
      "((2, 2), 713) 6.8034351145038165\n",
      "((4, 4), 636) 6.068702290076336\n",
      "((2, 3), 385) 3.6736641221374047\n",
      "((1, 2), 362) 3.454198473282443\n",
      "((3, 4), 329) 3.1393129770992365\n",
      "((4, 1), 291) 2.7767175572519083\n"
     ]
    }
   ],
   "source": [
    "for i in freq_wrong.most_common(8):\n",
    "    print(i, i[1]/len(wrong)*100)"
   ]
  },
  {
   "cell_type": "markdown",
   "metadata": {},
   "source": [
    "#### not much of a difference found in the most commonly occuring sequence for right and wrong solution"
   ]
  }
 ],
 "metadata": {
  "kernelspec": {
   "display_name": "Python 3",
   "language": "python",
   "name": "python3"
  },
  "language_info": {
   "codemirror_mode": {
    "name": "ipython",
    "version": 3
   },
   "file_extension": ".py",
   "mimetype": "text/x-python",
   "name": "python",
   "nbconvert_exporter": "python",
   "pygments_lexer": "ipython3",
   "version": "3.8.5"
  }
 },
 "nbformat": 4,
 "nbformat_minor": 4
}
