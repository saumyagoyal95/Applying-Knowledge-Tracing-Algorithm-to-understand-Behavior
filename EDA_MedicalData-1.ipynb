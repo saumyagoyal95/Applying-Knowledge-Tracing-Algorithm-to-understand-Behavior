{
 "cells": [
  {
   "cell_type": "code",
   "execution_count": 1,
   "metadata": {},
   "outputs": [],
   "source": [
    "import numpy as np\n",
    "import pandas as pd"
   ]
  },
  {
   "cell_type": "code",
   "execution_count": 2,
   "metadata": {},
   "outputs": [],
   "source": [
    "# getting data into dataframe\n",
    "df_diagnosis = pd.read_excel('../Data/Diagnoseakkuratheit.xlsx')\n",
    "df_s1 = pd.read_csv('../Data/S1a_Data_EDAs.csv')"
   ]
  },
  {
   "cell_type": "markdown",
   "metadata": {},
   "source": [
    "## Knowing data: df_diagnosis => containing loesung points"
   ]
  },
  {
   "cell_type": "code",
   "execution_count": 3,
   "metadata": {},
   "outputs": [
    {
     "data": {
      "text/plain": [
       "(530, 10)"
      ]
     },
     "execution_count": 3,
     "metadata": {},
     "output_type": "execute_result"
    }
   ],
   "source": [
    "df_diagnosis.shape"
   ]
  },
  {
   "cell_type": "code",
   "execution_count": 4,
   "metadata": {},
   "outputs": [
    {
     "data": {
      "text/html": [
       "<div>\n",
       "<style scoped>\n",
       "    .dataframe tbody tr th:only-of-type {\n",
       "        vertical-align: middle;\n",
       "    }\n",
       "\n",
       "    .dataframe tbody tr th {\n",
       "        vertical-align: top;\n",
       "    }\n",
       "\n",
       "    .dataframe thead th {\n",
       "        text-align: right;\n",
       "    }\n",
       "</style>\n",
       "<table border=\"1\" class=\"dataframe\">\n",
       "  <thead>\n",
       "    <tr style=\"text-align: right;\">\n",
       "      <th></th>\n",
       "      <th>loesung_pkt</th>\n",
       "      <th>bgrd_pkt</th>\n",
       "      <th>dd_pkt</th>\n",
       "      <th>steps_pkt</th>\n",
       "    </tr>\n",
       "  </thead>\n",
       "  <tbody>\n",
       "    <tr>\n",
       "      <th>count</th>\n",
       "      <td>530.000000</td>\n",
       "      <td>528.000000</td>\n",
       "      <td>528.000000</td>\n",
       "      <td>530.000000</td>\n",
       "    </tr>\n",
       "    <tr>\n",
       "      <th>mean</th>\n",
       "      <td>-8.503774</td>\n",
       "      <td>-21.975379</td>\n",
       "      <td>-5.255682</td>\n",
       "      <td>-7.271698</td>\n",
       "    </tr>\n",
       "    <tr>\n",
       "      <th>std</th>\n",
       "      <td>28.913975</td>\n",
       "      <td>36.630176</td>\n",
       "      <td>22.624083</td>\n",
       "      <td>28.324106</td>\n",
       "    </tr>\n",
       "    <tr>\n",
       "      <th>min</th>\n",
       "      <td>-99.000000</td>\n",
       "      <td>-99.000000</td>\n",
       "      <td>-99.000000</td>\n",
       "      <td>-99.000000</td>\n",
       "    </tr>\n",
       "    <tr>\n",
       "      <th>25%</th>\n",
       "      <td>0.000000</td>\n",
       "      <td>-66.000000</td>\n",
       "      <td>0.000000</td>\n",
       "      <td>0.000000</td>\n",
       "    </tr>\n",
       "    <tr>\n",
       "      <th>50%</th>\n",
       "      <td>1.000000</td>\n",
       "      <td>1.000000</td>\n",
       "      <td>0.000000</td>\n",
       "      <td>1.000000</td>\n",
       "    </tr>\n",
       "    <tr>\n",
       "      <th>75%</th>\n",
       "      <td>1.000000</td>\n",
       "      <td>3.000000</td>\n",
       "      <td>0.000000</td>\n",
       "      <td>2.000000</td>\n",
       "    </tr>\n",
       "    <tr>\n",
       "      <th>max</th>\n",
       "      <td>1.000000</td>\n",
       "      <td>8.000000</td>\n",
       "      <td>2.000000</td>\n",
       "      <td>5.000000</td>\n",
       "    </tr>\n",
       "  </tbody>\n",
       "</table>\n",
       "</div>"
      ],
      "text/plain": [
       "       loesung_pkt    bgrd_pkt      dd_pkt   steps_pkt\n",
       "count   530.000000  528.000000  528.000000  530.000000\n",
       "mean     -8.503774  -21.975379   -5.255682   -7.271698\n",
       "std      28.913975   36.630176   22.624083   28.324106\n",
       "min     -99.000000  -99.000000  -99.000000  -99.000000\n",
       "25%       0.000000  -66.000000    0.000000    0.000000\n",
       "50%       1.000000    1.000000    0.000000    1.000000\n",
       "75%       1.000000    3.000000    0.000000    2.000000\n",
       "max       1.000000    8.000000    2.000000    5.000000"
      ]
     },
     "execution_count": 4,
     "metadata": {},
     "output_type": "execute_result"
    }
   ],
   "source": [
    "df_diagnosis.describe()"
   ]
  },
  {
   "cell_type": "code",
   "execution_count": 5,
   "metadata": {},
   "outputs": [
    {
     "name": "stdout",
     "output_type": "stream",
     "text": [
      "<class 'pandas.core.frame.DataFrame'>\n",
      "RangeIndex: 530 entries, 0 to 529\n",
      "Data columns (total 10 columns):\n",
      " #   Column       Non-Null Count  Dtype  \n",
      "---  ------       --------------  -----  \n",
      " 0   PIN          530 non-null    object \n",
      " 1   Loesung_Ant  479 non-null    object \n",
      " 2   loesung_pkt  530 non-null    float64\n",
      " 3   bgrd_ant     488 non-null    object \n",
      " 4   bgrd_pkt     528 non-null    float64\n",
      " 5   DD_Ant       451 non-null    object \n",
      " 6   dd_pkt       528 non-null    float64\n",
      " 7   steps_ant    484 non-null    object \n",
      " 8   steps_pkt    530 non-null    int64  \n",
      " 9   Fall         530 non-null    object \n",
      "dtypes: float64(3), int64(1), object(6)\n",
      "memory usage: 41.5+ KB\n"
     ]
    }
   ],
   "source": [
    "df_diagnosis.info()"
   ]
  },
  {
   "cell_type": "code",
   "execution_count": 6,
   "metadata": {},
   "outputs": [
    {
     "data": {
      "text/html": [
       "<div>\n",
       "<style scoped>\n",
       "    .dataframe tbody tr th:only-of-type {\n",
       "        vertical-align: middle;\n",
       "    }\n",
       "\n",
       "    .dataframe tbody tr th {\n",
       "        vertical-align: top;\n",
       "    }\n",
       "\n",
       "    .dataframe thead th {\n",
       "        text-align: right;\n",
       "    }\n",
       "</style>\n",
       "<table border=\"1\" class=\"dataframe\">\n",
       "  <thead>\n",
       "    <tr style=\"text-align: right;\">\n",
       "      <th></th>\n",
       "      <th>PIN</th>\n",
       "      <th>Loesung_Ant</th>\n",
       "      <th>loesung_pkt</th>\n",
       "      <th>bgrd_ant</th>\n",
       "      <th>bgrd_pkt</th>\n",
       "      <th>DD_Ant</th>\n",
       "      <th>dd_pkt</th>\n",
       "      <th>steps_ant</th>\n",
       "      <th>steps_pkt</th>\n",
       "      <th>Fall</th>\n",
       "    </tr>\n",
       "  </thead>\n",
       "  <tbody>\n",
       "  </tbody>\n",
       "</table>\n",
       "</div>"
      ],
      "text/plain": [
       "Empty DataFrame\n",
       "Columns: [PIN, Loesung_Ant, loesung_pkt, bgrd_ant, bgrd_pkt, DD_Ant, dd_pkt, steps_ant, steps_pkt, Fall]\n",
       "Index: []"
      ]
     },
     "execution_count": 6,
     "metadata": {},
     "output_type": "execute_result"
    }
   ],
   "source": [
    "# no duplicates found\n",
    "df_diagnosis[df_diagnosis.duplicated()]"
   ]
  },
  {
   "cell_type": "code",
   "execution_count": 7,
   "metadata": {},
   "outputs": [
    {
     "data": {
      "text/html": [
       "<div>\n",
       "<style scoped>\n",
       "    .dataframe tbody tr th:only-of-type {\n",
       "        vertical-align: middle;\n",
       "    }\n",
       "\n",
       "    .dataframe tbody tr th {\n",
       "        vertical-align: top;\n",
       "    }\n",
       "\n",
       "    .dataframe thead th {\n",
       "        text-align: right;\n",
       "    }\n",
       "</style>\n",
       "<table border=\"1\" class=\"dataframe\">\n",
       "  <thead>\n",
       "    <tr style=\"text-align: right;\">\n",
       "      <th></th>\n",
       "      <th>PIN</th>\n",
       "      <th>Loesung_Ant</th>\n",
       "      <th>loesung_pkt</th>\n",
       "      <th>bgrd_ant</th>\n",
       "      <th>bgrd_pkt</th>\n",
       "      <th>DD_Ant</th>\n",
       "      <th>dd_pkt</th>\n",
       "      <th>steps_ant</th>\n",
       "      <th>steps_pkt</th>\n",
       "      <th>Fall</th>\n",
       "    </tr>\n",
       "  </thead>\n",
       "  <tbody>\n",
       "    <tr>\n",
       "      <th>0</th>\n",
       "      <td>AEOGCR7</td>\n",
       "      <td>Pneumonie, Apirationspneumonie</td>\n",
       "      <td>1.0</td>\n",
       "      <td>körperliche Untersuchung: Lunge mit grobblasig...</td>\n",
       "      <td>4.0</td>\n",
       "      <td>Carcinom, Bronchialkarzinom - Kleinzelliges Ka...</td>\n",
       "      <td>0.0</td>\n",
       "      <td>Antibiotika-Therapie, Fiebersenkung, Schmerzth...</td>\n",
       "      <td>1</td>\n",
       "      <td>Goettlich</td>\n",
       "    </tr>\n",
       "    <tr>\n",
       "      <th>1</th>\n",
       "      <td>AKVVO8S</td>\n",
       "      <td>Pneumonie, Apirationspneumonie</td>\n",
       "      <td>1.0</td>\n",
       "      <td>Hinweise in der Amnamnese bei Zn Stroke und Dy...</td>\n",
       "      <td>5.0</td>\n",
       "      <td>Herzinsuffizienz,Lungenödem,Pneumonie, bakteriell</td>\n",
       "      <td>0.0</td>\n",
       "      <td>Maßnahmen &gt; Patientin auf Intensiv, Vorsicht v...</td>\n",
       "      <td>3</td>\n",
       "      <td>Goettlich</td>\n",
       "    </tr>\n",
       "  </tbody>\n",
       "</table>\n",
       "</div>"
      ],
      "text/plain": [
       "       PIN                     Loesung_Ant  loesung_pkt  \\\n",
       "0  AEOGCR7  Pneumonie, Apirationspneumonie          1.0   \n",
       "1  AKVVO8S  Pneumonie, Apirationspneumonie          1.0   \n",
       "\n",
       "                                            bgrd_ant  bgrd_pkt  \\\n",
       "0  körperliche Untersuchung: Lunge mit grobblasig...       4.0   \n",
       "1  Hinweise in der Amnamnese bei Zn Stroke und Dy...       5.0   \n",
       "\n",
       "                                              DD_Ant  dd_pkt  \\\n",
       "0  Carcinom, Bronchialkarzinom - Kleinzelliges Ka...     0.0   \n",
       "1  Herzinsuffizienz,Lungenödem,Pneumonie, bakteriell     0.0   \n",
       "\n",
       "                                           steps_ant  steps_pkt       Fall  \n",
       "0  Antibiotika-Therapie, Fiebersenkung, Schmerzth...          1  Goettlich  \n",
       "1  Maßnahmen > Patientin auf Intensiv, Vorsicht v...          3  Goettlich  "
      ]
     },
     "execution_count": 7,
     "metadata": {},
     "output_type": "execute_result"
    }
   ],
   "source": [
    "df_diagnosis.head(2)"
   ]
  },
  {
   "cell_type": "code",
   "execution_count": 8,
   "metadata": {},
   "outputs": [],
   "source": [
    "# changing the column names for better understanding\n",
    "df_diagnosis.rename(columns={'Loesung_Ant':'Solution',\n",
    "                             'loesung_pkt': 'Solution_points',\n",
    "                             'Fall':'case_assigned_to' }, inplace = True)"
   ]
  },
  {
   "cell_type": "code",
   "execution_count": 9,
   "metadata": {},
   "outputs": [
    {
     "data": {
      "text/plain": [
       "Index(['PIN', 'Solution', 'Solution_points', 'bgrd_ant', 'bgrd_pkt', 'DD_Ant',\n",
       "       'dd_pkt', 'steps_ant', 'steps_pkt', 'case_assigned_to'],\n",
       "      dtype='object')"
      ]
     },
     "execution_count": 9,
     "metadata": {},
     "output_type": "execute_result"
    }
   ],
   "source": [
    "df_diagnosis.columns"
   ]
  },
  {
   "cell_type": "code",
   "execution_count": 10,
   "metadata": {},
   "outputs": [
    {
     "data": {
      "text/plain": [
       "106"
      ]
     },
     "execution_count": 10,
     "metadata": {},
     "output_type": "execute_result"
    }
   ],
   "source": [
    "##### 106 unique PIN found\n",
    "df_diagnosis['PIN'].nunique()"
   ]
  },
  {
   "cell_type": "code",
   "execution_count": 11,
   "metadata": {},
   "outputs": [
    {
     "data": {
      "text/plain": [
       "20.0"
      ]
     },
     "execution_count": 11,
     "metadata": {},
     "output_type": "execute_result"
    }
   ],
   "source": [
    "# 20 percent unique cases => less data\n",
    "df_diagnosis['PIN'].nunique()/530*100"
   ]
  },
  {
   "cell_type": "markdown",
   "metadata": {},
   "source": [
    "<div class=\"alert alert-warning\">\n",
    "<b> 20 percent unique cases => less data</b>\n",
    "</div>"
   ]
  },
  {
   "cell_type": "code",
   "execution_count": 12,
   "metadata": {},
   "outputs": [
    {
     "data": {
      "text/plain": [
       "L4MJVOU    5\n",
       "FKA4M44    5\n",
       "0T7A1UK    5\n",
       "K3P4Z3T    5\n",
       "8NPH959    5\n",
       "          ..\n",
       "UBMC6CN    5\n",
       "B5MKCBD    5\n",
       "NDA4BJM    5\n",
       "J8GECST    5\n",
       "SU0AIG8    5\n",
       "Name: PIN, Length: 106, dtype: int64"
      ]
     },
     "execution_count": 12,
     "metadata": {},
     "output_type": "execute_result"
    }
   ],
   "source": [
    "# 5 steps for each PIN ------------------------------what does PIN tell?\n",
    "df_diagnosis['PIN'].value_counts()"
   ]
  },
  {
   "cell_type": "code",
   "execution_count": 13,
   "metadata": {},
   "outputs": [
    {
     "data": {
      "text/plain": [
       "array(['Goettlich', 'Freundorf', 'Binder', 'Wenninger', 'Schenker'],\n",
       "      dtype=object)"
      ]
     },
     "execution_count": 13,
     "metadata": {},
     "output_type": "execute_result"
    }
   ],
   "source": [
    "# 5 doctors data\n",
    "df_diagnosis['case_assigned_to'].unique()"
   ]
  },
  {
   "cell_type": "code",
   "execution_count": 14,
   "metadata": {},
   "outputs": [
    {
     "data": {
      "text/plain": [
       "Wenninger    106\n",
       "Binder       106\n",
       "Schenker     106\n",
       "Goettlich    106\n",
       "Freundorf    106\n",
       "Name: case_assigned_to, dtype: int64"
      ]
     },
     "execution_count": 14,
     "metadata": {},
     "output_type": "execute_result"
    }
   ],
   "source": [
    "# evenly distributed data among Doctors/diagnoser\n",
    "df_diagnosis['case_assigned_to'].value_counts()"
   ]
  },
  {
   "cell_type": "code",
   "execution_count": 15,
   "metadata": {},
   "outputs": [
    {
     "data": {
      "text/plain": [
       "array([  1. ,   0.5, -99. ,   0. ])"
      ]
     },
     "execution_count": 15,
     "metadata": {},
     "output_type": "execute_result"
    }
   ],
   "source": [
    "df_diagnosis['Solution_points'].unique()\n",
    "\n",
    "# 0 => wrong\n",
    "# 1 => correct\n",
    "# -99 => missing\n",
    "# 0.5 => partially correct"
   ]
  },
  {
   "cell_type": "code",
   "execution_count": 16,
   "metadata": {},
   "outputs": [
    {
     "data": {
      "text/plain": [
       " 1.0     318\n",
       " 0.0     111\n",
       " 0.5      52\n",
       "-99.0     49\n",
       "Name: Solution_points, dtype: int64"
      ]
     },
     "execution_count": 16,
     "metadata": {},
     "output_type": "execute_result"
    }
   ],
   "source": [
    "df_diagnosis['Solution_points'].value_counts()"
   ]
  },
  {
   "cell_type": "markdown",
   "metadata": {},
   "source": [
    "<div class=\"alert alert-warning\">\n",
    "<b>------------ 49 missig values ---------EDA</b>\n",
    "</div>"
   ]
  },
  {
   "cell_type": "markdown",
   "metadata": {},
   "source": [
    "## Knowing data: df_s1 => containing EDA"
   ]
  },
  {
   "cell_type": "code",
   "execution_count": 17,
   "metadata": {},
   "outputs": [
    {
     "data": {
      "text/html": [
       "<div>\n",
       "<style scoped>\n",
       "    .dataframe tbody tr th:only-of-type {\n",
       "        vertical-align: middle;\n",
       "    }\n",
       "\n",
       "    .dataframe tbody tr th {\n",
       "        vertical-align: top;\n",
       "    }\n",
       "\n",
       "    .dataframe thead th {\n",
       "        text-align: right;\n",
       "    }\n",
       "</style>\n",
       "<table border=\"1\" class=\"dataframe\">\n",
       "  <thead>\n",
       "    <tr style=\"text-align: right;\">\n",
       "      <th></th>\n",
       "      <th>PIN</th>\n",
       "      <th>timestamp</th>\n",
       "      <th>case_name</th>\n",
       "      <th>ref_name</th>\n",
       "      <th>data</th>\n",
       "      <th>EDA</th>\n",
       "    </tr>\n",
       "  </thead>\n",
       "  <tbody>\n",
       "    <tr>\n",
       "      <th>0</th>\n",
       "      <td>04D91VS</td>\n",
       "      <td>2018-05-28 14:38:30.0</td>\n",
       "      <td>Goettlich</td>\n",
       "      <td>Vorstellung der Patientin</td>\n",
       "      <td>NaN</td>\n",
       "      <td>iEE</td>\n",
       "    </tr>\n",
       "    <tr>\n",
       "      <th>1</th>\n",
       "      <td>04D91VS</td>\n",
       "      <td>2018-05-28 14:38:51.0</td>\n",
       "      <td>Goettlich</td>\n",
       "      <td>Rettungsdienstprotokoll</td>\n",
       "      <td>NaN</td>\n",
       "      <td>iEE</td>\n",
       "    </tr>\n",
       "    <tr>\n",
       "      <th>2</th>\n",
       "      <td>04D91VS</td>\n",
       "      <td>2018-05-28 14:39:22.0</td>\n",
       "      <td>Goettlich</td>\n",
       "      <td>Anamnese</td>\n",
       "      <td>NaN</td>\n",
       "      <td>iEE</td>\n",
       "    </tr>\n",
       "    <tr>\n",
       "      <th>3</th>\n",
       "      <td>04D91VS</td>\n",
       "      <td>2018-05-28 14:39:33.0</td>\n",
       "      <td>Goettlich</td>\n",
       "      <td>Vorerkrankungen</td>\n",
       "      <td>NaN</td>\n",
       "      <td>iEE</td>\n",
       "    </tr>\n",
       "    <tr>\n",
       "      <th>4</th>\n",
       "      <td>04D91VS</td>\n",
       "      <td>2018-05-28 14:40:45.0</td>\n",
       "      <td>Goettlich</td>\n",
       "      <td>Körperliche Untersuchung</td>\n",
       "      <td>NaN</td>\n",
       "      <td>iEE</td>\n",
       "    </tr>\n",
       "  </tbody>\n",
       "</table>\n",
       "</div>"
      ],
      "text/plain": [
       "       PIN              timestamp  case_name                   ref_name data  \\\n",
       "0  04D91VS  2018-05-28 14:38:30.0  Goettlich  Vorstellung der Patientin  NaN   \n",
       "1  04D91VS  2018-05-28 14:38:51.0  Goettlich    Rettungsdienstprotokoll  NaN   \n",
       "2  04D91VS  2018-05-28 14:39:22.0  Goettlich                   Anamnese  NaN   \n",
       "3  04D91VS  2018-05-28 14:39:33.0  Goettlich            Vorerkrankungen  NaN   \n",
       "4  04D91VS  2018-05-28 14:40:45.0  Goettlich   Körperliche Untersuchung  NaN   \n",
       "\n",
       "   EDA  \n",
       "0  iEE  \n",
       "1  iEE  \n",
       "2  iEE  \n",
       "3  iEE  \n",
       "4  iEE  "
      ]
     },
     "execution_count": 17,
     "metadata": {},
     "output_type": "execute_result"
    }
   ],
   "source": [
    "df_s1.head()"
   ]
  },
  {
   "cell_type": "code",
   "execution_count": 18,
   "metadata": {},
   "outputs": [
    {
     "data": {
      "text/plain": [
       "(38740, 6)"
      ]
     },
     "execution_count": 18,
     "metadata": {},
     "output_type": "execute_result"
    }
   ],
   "source": [
    "df_s1.shape"
   ]
  },
  {
   "cell_type": "code",
   "execution_count": 19,
   "metadata": {},
   "outputs": [
    {
     "data": {
      "text/html": [
       "<div>\n",
       "<style scoped>\n",
       "    .dataframe tbody tr th:only-of-type {\n",
       "        vertical-align: middle;\n",
       "    }\n",
       "\n",
       "    .dataframe tbody tr th {\n",
       "        vertical-align: top;\n",
       "    }\n",
       "\n",
       "    .dataframe thead th {\n",
       "        text-align: right;\n",
       "    }\n",
       "</style>\n",
       "<table border=\"1\" class=\"dataframe\">\n",
       "  <thead>\n",
       "    <tr style=\"text-align: right;\">\n",
       "      <th></th>\n",
       "      <th>PIN</th>\n",
       "      <th>timestamp</th>\n",
       "      <th>case_name</th>\n",
       "      <th>ref_name</th>\n",
       "      <th>data</th>\n",
       "      <th>EDA</th>\n",
       "    </tr>\n",
       "  </thead>\n",
       "  <tbody>\n",
       "    <tr>\n",
       "      <th>count</th>\n",
       "      <td>38740</td>\n",
       "      <td>38740</td>\n",
       "      <td>38738</td>\n",
       "      <td>38740</td>\n",
       "      <td>29876</td>\n",
       "      <td>26154</td>\n",
       "    </tr>\n",
       "    <tr>\n",
       "      <th>unique</th>\n",
       "      <td>103</td>\n",
       "      <td>31612</td>\n",
       "      <td>5</td>\n",
       "      <td>25</td>\n",
       "      <td>3221</td>\n",
       "      <td>5</td>\n",
       "    </tr>\n",
       "    <tr>\n",
       "      <th>top</th>\n",
       "      <td>FJM4N3C</td>\n",
       "      <td>2018-05-28 07:49:06.0</td>\n",
       "      <td>Schenker</td>\n",
       "      <td>1. Anforderungsschein</td>\n",
       "      <td>bt_status0_submit</td>\n",
       "      <td>cEE</td>\n",
       "    </tr>\n",
       "    <tr>\n",
       "      <th>freq</th>\n",
       "      <td>820</td>\n",
       "      <td>7</td>\n",
       "      <td>10817</td>\n",
       "      <td>15613</td>\n",
       "      <td>1570</td>\n",
       "      <td>13458</td>\n",
       "    </tr>\n",
       "  </tbody>\n",
       "</table>\n",
       "</div>"
      ],
      "text/plain": [
       "            PIN              timestamp case_name               ref_name  \\\n",
       "count     38740                  38740     38738                  38740   \n",
       "unique      103                  31612         5                     25   \n",
       "top     FJM4N3C  2018-05-28 07:49:06.0  Schenker  1. Anforderungsschein   \n",
       "freq        820                      7     10817                  15613   \n",
       "\n",
       "                     data    EDA  \n",
       "count               29876  26154  \n",
       "unique               3221      5  \n",
       "top     bt_status0_submit    cEE  \n",
       "freq                 1570  13458  "
      ]
     },
     "execution_count": 19,
     "metadata": {},
     "output_type": "execute_result"
    }
   ],
   "source": [
    "df_s1.describe()"
   ]
  },
  {
   "cell_type": "code",
   "execution_count": 20,
   "metadata": {},
   "outputs": [
    {
     "name": "stdout",
     "output_type": "stream",
     "text": [
      "<class 'pandas.core.frame.DataFrame'>\n",
      "RangeIndex: 38740 entries, 0 to 38739\n",
      "Data columns (total 6 columns):\n",
      " #   Column     Non-Null Count  Dtype \n",
      "---  ------     --------------  ----- \n",
      " 0   PIN        38740 non-null  object\n",
      " 1   timestamp  38740 non-null  object\n",
      " 2   case_name  38738 non-null  object\n",
      " 3   ref_name   38740 non-null  object\n",
      " 4   data       29876 non-null  object\n",
      " 5   EDA        26154 non-null  object\n",
      "dtypes: object(6)\n",
      "memory usage: 1.8+ MB\n"
     ]
    }
   ],
   "source": [
    "df_s1.info()"
   ]
  },
  {
   "cell_type": "code",
   "execution_count": 21,
   "metadata": {},
   "outputs": [
    {
     "data": {
      "text/plain": [
       "Index(['PIN', 'timestamp', 'case_name', 'ref_name', 'data', 'EDA'], dtype='object')"
      ]
     },
     "execution_count": 21,
     "metadata": {},
     "output_type": "execute_result"
    }
   ],
   "source": [
    "## changing column names for better understanding\n",
    "df_s1.columns"
   ]
  },
  {
   "cell_type": "code",
   "execution_count": 22,
   "metadata": {},
   "outputs": [],
   "source": [
    "df_s1.rename(columns={'ref_name':'prev_reference',\n",
    "                             'data': 'doc_remark',\n",
    "                             'case_name':'case_assigned_to' }, inplace = True)"
   ]
  },
  {
   "cell_type": "code",
   "execution_count": 23,
   "metadata": {},
   "outputs": [
    {
     "data": {
      "text/plain": [
       "Index(['PIN', 'timestamp', 'case_assigned_to', 'prev_reference', 'doc_remark',\n",
       "       'EDA'],\n",
       "      dtype='object')"
      ]
     },
     "execution_count": 23,
     "metadata": {},
     "output_type": "execute_result"
    }
   ],
   "source": [
    "df_s1.columns"
   ]
  },
  {
   "cell_type": "code",
   "execution_count": 24,
   "metadata": {},
   "outputs": [
    {
     "data": {
      "text/plain": [
       "103"
      ]
     },
     "execution_count": 24,
     "metadata": {},
     "output_type": "execute_result"
    }
   ],
   "source": [
    "###### 103 unique PIN found\n",
    "\n",
    "df_s1['PIN'].nunique()"
   ]
  },
  {
   "cell_type": "markdown",
   "metadata": {},
   "source": [
    "<div class=\"alert alert-warning\">\n",
    "<b>df_diagnosis = 106 and df_s1 = 103; PIN ---------mismatch</b>\n",
    "</div>"
   ]
  },
  {
   "cell_type": "code",
   "execution_count": 25,
   "metadata": {},
   "outputs": [
    {
     "data": {
      "text/plain": [
       "Schenker     10817\n",
       "Binder        9261\n",
       "Freundorf     7590\n",
       "Wenninger     6336\n",
       "Goettlich     4734\n",
       "Name: case_assigned_to, dtype: int64"
      ]
     },
     "execution_count": 25,
     "metadata": {},
     "output_type": "execute_result"
    }
   ],
   "source": [
    "# cases assigned to doc\n",
    "df_s1['case_assigned_to'].value_counts()"
   ]
  },
  {
   "cell_type": "markdown",
   "metadata": {},
   "source": [
    "<div class=\"alert alert-warning\">\n",
    "<b>Uneven distribution of cases</b>\n",
    "</div>"
   ]
  },
  {
   "cell_type": "code",
   "execution_count": 26,
   "metadata": {},
   "outputs": [
    {
     "data": {
      "text/plain": [
       "array(['iEE', 'EG', 'cEE', 'cHG', nan, 'DC'], dtype=object)"
      ]
     },
     "execution_count": 26,
     "metadata": {},
     "output_type": "execute_result"
    }
   ],
   "source": [
    "# types of EDA - epistemic data analysis\n",
    "df_s1['EDA'].unique()"
   ]
  },
  {
   "cell_type": "markdown",
   "metadata": {},
   "source": [
    "<div class=\"alert alert-block alert-info\">\n",
    "<h4>Knowing about epistemic data</h4>\n",
    "<li> iEE = Individual evidence elicitation </li>\n",
    "<li> EG = Evidence Generation </li>\n",
    "<li> cEE = Evidence evaluation </li>\n",
    "<li> CHG = Hypothesis Generation</li>\n",
    "<li> nan = </li>\n",
    "<li> DC = Drawing conclusion </li>\n",
    "</li>\n",
    "</div>"
   ]
  },
  {
   "cell_type": "code",
   "execution_count": 27,
   "metadata": {},
   "outputs": [
    {
     "data": {
      "text/plain": [
       "cEE    13458\n",
       "iEE     5956\n",
       "cHG     3189\n",
       "EG      2908\n",
       "DC       643\n",
       "Name: EDA, dtype: int64"
      ]
     },
     "execution_count": 27,
     "metadata": {},
     "output_type": "execute_result"
    }
   ],
   "source": [
    "### Exploring EDA\n",
    "df_s1['EDA'].value_counts()"
   ]
  },
  {
   "cell_type": "code",
   "execution_count": 28,
   "metadata": {},
   "outputs": [
    {
     "data": {
      "text/plain": [
       "cEE    0.514568\n",
       "iEE    0.227728\n",
       "cHG    0.121932\n",
       "EG     0.111188\n",
       "DC     0.024585\n",
       "Name: EDA, dtype: float64"
      ]
     },
     "execution_count": 28,
     "metadata": {},
     "output_type": "execute_result"
    }
   ],
   "source": [
    "## percentage of each type of analysis \n",
    "df_s1['EDA'].value_counts()/df_s1['EDA'].count()"
   ]
  },
  {
   "cell_type": "markdown",
   "metadata": {},
   "source": [
    "<div class=\"alert alert-warning\">\n",
    "<b> 51 percent evidence evaluation </b><br>\n",
    "<b> 2percent conclusions </b>\n",
    "</div>"
   ]
  },
  {
   "cell_type": "code",
   "execution_count": 29,
   "metadata": {},
   "outputs": [
    {
     "data": {
      "text/plain": [
       "PIN                     0\n",
       "timestamp               0\n",
       "case_assigned_to        2\n",
       "prev_reference          0\n",
       "doc_remark           8864\n",
       "EDA                 12586\n",
       "dtype: int64"
      ]
     },
     "execution_count": 29,
     "metadata": {},
     "output_type": "execute_result"
    }
   ],
   "source": [
    "### empty or notKnown values\n",
    "df_s1.isna().sum() "
   ]
  },
  {
   "cell_type": "code",
   "execution_count": 30,
   "metadata": {},
   "outputs": [
    {
     "data": {
      "text/plain": [
       "PIN                 0.000000\n",
       "timestamp           0.000000\n",
       "case_assigned_to    0.000052\n",
       "prev_reference      0.000000\n",
       "doc_remark          0.296693\n",
       "EDA                 0.481227\n",
       "dtype: float64"
      ]
     },
     "execution_count": 30,
     "metadata": {},
     "output_type": "execute_result"
    }
   ],
   "source": [
    "df_s1.isna().sum() / df_s1.count()"
   ]
  },
  {
   "cell_type": "code",
   "execution_count": 31,
   "metadata": {},
   "outputs": [
    {
     "data": {
      "text/plain": [
       "26154"
      ]
     },
     "execution_count": 31,
     "metadata": {},
     "output_type": "execute_result"
    }
   ],
   "source": [
    "df_s1['EDA'].count()"
   ]
  },
  {
   "cell_type": "markdown",
   "metadata": {},
   "source": [
    "<div class=\"alert alert-warning\">\n",
    "<b> 48 percent EDA = missing ----------table s1 </b><br>\n",
    "</div>"
   ]
  },
  {
   "cell_type": "code",
   "execution_count": 32,
   "metadata": {},
   "outputs": [
    {
     "data": {
      "text/plain": [
       "0.10781229080198153"
      ]
     },
     "execution_count": 32,
     "metadata": {},
     "output_type": "execute_result"
    }
   ],
   "source": [
    "df_s1['doc_remark'].nunique() / df_s1['doc_remark'].count()"
   ]
  },
  {
   "cell_type": "code",
   "execution_count": 33,
   "metadata": {},
   "outputs": [],
   "source": [
    "### 10 percent repeated remarks"
   ]
  },
  {
   "cell_type": "markdown",
   "metadata": {},
   "source": [
    "## Cleaning dfs\n"
   ]
  },
  {
   "cell_type": "markdown",
   "metadata": {},
   "source": [
    "### 1. df_diagnosis"
   ]
  },
  {
   "cell_type": "code",
   "execution_count": 34,
   "metadata": {},
   "outputs": [],
   "source": [
    "## df_diagnosis\n",
    "df_diagnosis_clean = df_diagnosis[['PIN', 'Solution_points', 'case_assigned_to']].copy()"
   ]
  },
  {
   "cell_type": "code",
   "execution_count": 35,
   "metadata": {},
   "outputs": [
    {
     "data": {
      "text/plain": [
       "(530, 3)"
      ]
     },
     "execution_count": 35,
     "metadata": {},
     "output_type": "execute_result"
    }
   ],
   "source": [
    "df_diagnosis_clean.shape"
   ]
  },
  {
   "cell_type": "code",
   "execution_count": 36,
   "metadata": {},
   "outputs": [
    {
     "data": {
      "text/html": [
       "<div>\n",
       "<style scoped>\n",
       "    .dataframe tbody tr th:only-of-type {\n",
       "        vertical-align: middle;\n",
       "    }\n",
       "\n",
       "    .dataframe tbody tr th {\n",
       "        vertical-align: top;\n",
       "    }\n",
       "\n",
       "    .dataframe thead th {\n",
       "        text-align: right;\n",
       "    }\n",
       "</style>\n",
       "<table border=\"1\" class=\"dataframe\">\n",
       "  <thead>\n",
       "    <tr style=\"text-align: right;\">\n",
       "      <th></th>\n",
       "      <th>PIN</th>\n",
       "      <th>Solution_points</th>\n",
       "      <th>case_assigned_to</th>\n",
       "    </tr>\n",
       "  </thead>\n",
       "  <tbody>\n",
       "    <tr>\n",
       "      <th>0</th>\n",
       "      <td>AEOGCR7</td>\n",
       "      <td>1.0</td>\n",
       "      <td>Goettlich</td>\n",
       "    </tr>\n",
       "    <tr>\n",
       "      <th>1</th>\n",
       "      <td>AKVVO8S</td>\n",
       "      <td>1.0</td>\n",
       "      <td>Goettlich</td>\n",
       "    </tr>\n",
       "    <tr>\n",
       "      <th>2</th>\n",
       "      <td>A75J1OO</td>\n",
       "      <td>1.0</td>\n",
       "      <td>Goettlich</td>\n",
       "    </tr>\n",
       "    <tr>\n",
       "      <th>3</th>\n",
       "      <td>BPDREJD</td>\n",
       "      <td>1.0</td>\n",
       "      <td>Goettlich</td>\n",
       "    </tr>\n",
       "    <tr>\n",
       "      <th>4</th>\n",
       "      <td>BQLTZM2</td>\n",
       "      <td>0.5</td>\n",
       "      <td>Goettlich</td>\n",
       "    </tr>\n",
       "  </tbody>\n",
       "</table>\n",
       "</div>"
      ],
      "text/plain": [
       "       PIN  Solution_points case_assigned_to\n",
       "0  AEOGCR7              1.0        Goettlich\n",
       "1  AKVVO8S              1.0        Goettlich\n",
       "2  A75J1OO              1.0        Goettlich\n",
       "3  BPDREJD              1.0        Goettlich\n",
       "4  BQLTZM2              0.5        Goettlich"
      ]
     },
     "execution_count": 36,
     "metadata": {},
     "output_type": "execute_result"
    }
   ],
   "source": [
    "df_diagnosis_clean.head()"
   ]
  },
  {
   "cell_type": "code",
   "execution_count": 37,
   "metadata": {},
   "outputs": [
    {
     "data": {
      "text/plain": [
       "PIN                 0\n",
       "Solution_points     0\n",
       "case_assigned_to    0\n",
       "dtype: int64"
      ]
     },
     "execution_count": 37,
     "metadata": {},
     "output_type": "execute_result"
    }
   ],
   "source": [
    "df_diagnosis_clean.isna().sum()"
   ]
  },
  {
   "cell_type": "markdown",
   "metadata": {},
   "source": [
    "### 2. df_s1"
   ]
  },
  {
   "cell_type": "code",
   "execution_count": 38,
   "metadata": {},
   "outputs": [
    {
     "data": {
      "text/plain": [
       "PIN                 38740\n",
       "timestamp           38740\n",
       "case_assigned_to    38738\n",
       "prev_reference      38740\n",
       "doc_remark          29876\n",
       "EDA                 26154\n",
       "dtype: int64"
      ]
     },
     "execution_count": 38,
     "metadata": {},
     "output_type": "execute_result"
    }
   ],
   "source": [
    "df_s1.count()"
   ]
  },
  {
   "cell_type": "code",
   "execution_count": 39,
   "metadata": {},
   "outputs": [],
   "source": [
    "df_s1_clean = df_s1[['PIN','timestamp', 'case_assigned_to','EDA']].copy()"
   ]
  },
  {
   "cell_type": "code",
   "execution_count": 40,
   "metadata": {},
   "outputs": [
    {
     "data": {
      "text/html": [
       "<div>\n",
       "<style scoped>\n",
       "    .dataframe tbody tr th:only-of-type {\n",
       "        vertical-align: middle;\n",
       "    }\n",
       "\n",
       "    .dataframe tbody tr th {\n",
       "        vertical-align: top;\n",
       "    }\n",
       "\n",
       "    .dataframe thead th {\n",
       "        text-align: right;\n",
       "    }\n",
       "</style>\n",
       "<table border=\"1\" class=\"dataframe\">\n",
       "  <thead>\n",
       "    <tr style=\"text-align: right;\">\n",
       "      <th></th>\n",
       "      <th>PIN</th>\n",
       "      <th>timestamp</th>\n",
       "      <th>case_assigned_to</th>\n",
       "      <th>EDA</th>\n",
       "    </tr>\n",
       "  </thead>\n",
       "  <tbody>\n",
       "    <tr>\n",
       "      <th>0</th>\n",
       "      <td>04D91VS</td>\n",
       "      <td>2018-05-28 14:38:30.0</td>\n",
       "      <td>Goettlich</td>\n",
       "      <td>iEE</td>\n",
       "    </tr>\n",
       "    <tr>\n",
       "      <th>1</th>\n",
       "      <td>04D91VS</td>\n",
       "      <td>2018-05-28 14:38:51.0</td>\n",
       "      <td>Goettlich</td>\n",
       "      <td>iEE</td>\n",
       "    </tr>\n",
       "    <tr>\n",
       "      <th>2</th>\n",
       "      <td>04D91VS</td>\n",
       "      <td>2018-05-28 14:39:22.0</td>\n",
       "      <td>Goettlich</td>\n",
       "      <td>iEE</td>\n",
       "    </tr>\n",
       "    <tr>\n",
       "      <th>3</th>\n",
       "      <td>04D91VS</td>\n",
       "      <td>2018-05-28 14:39:33.0</td>\n",
       "      <td>Goettlich</td>\n",
       "      <td>iEE</td>\n",
       "    </tr>\n",
       "    <tr>\n",
       "      <th>4</th>\n",
       "      <td>04D91VS</td>\n",
       "      <td>2018-05-28 14:40:45.0</td>\n",
       "      <td>Goettlich</td>\n",
       "      <td>iEE</td>\n",
       "    </tr>\n",
       "  </tbody>\n",
       "</table>\n",
       "</div>"
      ],
      "text/plain": [
       "       PIN              timestamp case_assigned_to  EDA\n",
       "0  04D91VS  2018-05-28 14:38:30.0        Goettlich  iEE\n",
       "1  04D91VS  2018-05-28 14:38:51.0        Goettlich  iEE\n",
       "2  04D91VS  2018-05-28 14:39:22.0        Goettlich  iEE\n",
       "3  04D91VS  2018-05-28 14:39:33.0        Goettlich  iEE\n",
       "4  04D91VS  2018-05-28 14:40:45.0        Goettlich  iEE"
      ]
     },
     "execution_count": 40,
     "metadata": {},
     "output_type": "execute_result"
    }
   ],
   "source": [
    "df_s1_clean.head()"
   ]
  },
  {
   "cell_type": "code",
   "execution_count": 41,
   "metadata": {},
   "outputs": [
    {
     "name": "stdout",
     "output_type": "stream",
     "text": [
      "<class 'pandas.core.frame.DataFrame'>\n",
      "RangeIndex: 38740 entries, 0 to 38739\n",
      "Data columns (total 4 columns):\n",
      " #   Column            Non-Null Count  Dtype \n",
      "---  ------            --------------  ----- \n",
      " 0   PIN               38740 non-null  object\n",
      " 1   timestamp         38740 non-null  object\n",
      " 2   case_assigned_to  38738 non-null  object\n",
      " 3   EDA               26154 non-null  object\n",
      "dtypes: object(4)\n",
      "memory usage: 1.2+ MB\n"
     ]
    }
   ],
   "source": [
    "df_s1_clean.info()"
   ]
  },
  {
   "cell_type": "code",
   "execution_count": 42,
   "metadata": {},
   "outputs": [
    {
     "data": {
      "text/html": [
       "<div>\n",
       "<style scoped>\n",
       "    .dataframe tbody tr th:only-of-type {\n",
       "        vertical-align: middle;\n",
       "    }\n",
       "\n",
       "    .dataframe tbody tr th {\n",
       "        vertical-align: top;\n",
       "    }\n",
       "\n",
       "    .dataframe thead th {\n",
       "        text-align: right;\n",
       "    }\n",
       "</style>\n",
       "<table border=\"1\" class=\"dataframe\">\n",
       "  <thead>\n",
       "    <tr style=\"text-align: right;\">\n",
       "      <th></th>\n",
       "      <th>PIN</th>\n",
       "      <th>timestamp</th>\n",
       "      <th>case_assigned_to</th>\n",
       "      <th>EDA</th>\n",
       "    </tr>\n",
       "  </thead>\n",
       "  <tbody>\n",
       "    <tr>\n",
       "      <th>7321</th>\n",
       "      <td>3FERR59</td>\n",
       "      <td>2018-05-17 12:14:02.0</td>\n",
       "      <td>NaN</td>\n",
       "      <td>NaN</td>\n",
       "    </tr>\n",
       "    <tr>\n",
       "      <th>7322</th>\n",
       "      <td>3FERR59</td>\n",
       "      <td>2018-05-17 12:14:03.0</td>\n",
       "      <td>NaN</td>\n",
       "      <td>NaN</td>\n",
       "    </tr>\n",
       "  </tbody>\n",
       "</table>\n",
       "</div>"
      ],
      "text/plain": [
       "          PIN              timestamp case_assigned_to  EDA\n",
       "7321  3FERR59  2018-05-17 12:14:02.0              NaN  NaN\n",
       "7322  3FERR59  2018-05-17 12:14:03.0              NaN  NaN"
      ]
     },
     "execution_count": 42,
     "metadata": {},
     "output_type": "execute_result"
    }
   ],
   "source": [
    "df_s1_clean[df_s1_clean['case_assigned_to'].isna()]"
   ]
  },
  {
   "cell_type": "code",
   "execution_count": 43,
   "metadata": {},
   "outputs": [],
   "source": [
    "## removing these un_assigned cases -------------- no EDA found\n",
    "del_indexes = df_s1_clean[df_s1_clean['case_assigned_to'].isna()].index\n",
    "df_s1_clean.drop(del_indexes, inplace = True)"
   ]
  },
  {
   "cell_type": "code",
   "execution_count": 44,
   "metadata": {},
   "outputs": [
    {
     "data": {
      "text/html": [
       "<div>\n",
       "<style scoped>\n",
       "    .dataframe tbody tr th:only-of-type {\n",
       "        vertical-align: middle;\n",
       "    }\n",
       "\n",
       "    .dataframe tbody tr th {\n",
       "        vertical-align: top;\n",
       "    }\n",
       "\n",
       "    .dataframe thead th {\n",
       "        text-align: right;\n",
       "    }\n",
       "</style>\n",
       "<table border=\"1\" class=\"dataframe\">\n",
       "  <thead>\n",
       "    <tr style=\"text-align: right;\">\n",
       "      <th></th>\n",
       "      <th>PIN</th>\n",
       "      <th>timestamp</th>\n",
       "      <th>case_assigned_to</th>\n",
       "      <th>EDA</th>\n",
       "    </tr>\n",
       "  </thead>\n",
       "  <tbody>\n",
       "  </tbody>\n",
       "</table>\n",
       "</div>"
      ],
      "text/plain": [
       "Empty DataFrame\n",
       "Columns: [PIN, timestamp, case_assigned_to, EDA]\n",
       "Index: []"
      ]
     },
     "execution_count": 44,
     "metadata": {},
     "output_type": "execute_result"
    }
   ],
   "source": [
    "df_s1_clean[df_s1_clean['case_assigned_to'].isna()]"
   ]
  },
  {
   "cell_type": "code",
   "execution_count": 45,
   "metadata": {},
   "outputs": [],
   "source": [
    "del_indexes = df_diagnosis_clean[df_diagnosis_clean['PIN'] == '3FERR59'].index"
   ]
  },
  {
   "cell_type": "code",
   "execution_count": 46,
   "metadata": {},
   "outputs": [],
   "source": [
    "## removing these un_assigned cases -------------- PIN from df_diagnosis -------\n",
    "df_diagnosis_clean.drop(del_indexes, inplace = True)"
   ]
  },
  {
   "cell_type": "code",
   "execution_count": 47,
   "metadata": {},
   "outputs": [
    {
     "data": {
      "text/html": [
       "<div>\n",
       "<style scoped>\n",
       "    .dataframe tbody tr th:only-of-type {\n",
       "        vertical-align: middle;\n",
       "    }\n",
       "\n",
       "    .dataframe tbody tr th {\n",
       "        vertical-align: top;\n",
       "    }\n",
       "\n",
       "    .dataframe thead th {\n",
       "        text-align: right;\n",
       "    }\n",
       "</style>\n",
       "<table border=\"1\" class=\"dataframe\">\n",
       "  <thead>\n",
       "    <tr style=\"text-align: right;\">\n",
       "      <th></th>\n",
       "      <th>PIN</th>\n",
       "      <th>Solution_points</th>\n",
       "      <th>case_assigned_to</th>\n",
       "    </tr>\n",
       "  </thead>\n",
       "  <tbody>\n",
       "  </tbody>\n",
       "</table>\n",
       "</div>"
      ],
      "text/plain": [
       "Empty DataFrame\n",
       "Columns: [PIN, Solution_points, case_assigned_to]\n",
       "Index: []"
      ]
     },
     "execution_count": 47,
     "metadata": {},
     "output_type": "execute_result"
    }
   ],
   "source": [
    "df_diagnosis_clean[df_diagnosis_clean['PIN'] == '3FERR59']"
   ]
  },
  {
   "cell_type": "code",
   "execution_count": 48,
   "metadata": {},
   "outputs": [
    {
     "name": "stdout",
     "output_type": "stream",
     "text": [
      "<class 'pandas.core.frame.DataFrame'>\n",
      "Int64Index: 38738 entries, 0 to 38739\n",
      "Data columns (total 4 columns):\n",
      " #   Column            Non-Null Count  Dtype \n",
      "---  ------            --------------  ----- \n",
      " 0   PIN               38738 non-null  object\n",
      " 1   timestamp         38738 non-null  object\n",
      " 2   case_assigned_to  38738 non-null  object\n",
      " 3   EDA               26154 non-null  object\n",
      "dtypes: object(4)\n",
      "memory usage: 1.5+ MB\n"
     ]
    }
   ],
   "source": [
    "df_s1_clean.info()"
   ]
  },
  {
   "cell_type": "code",
   "execution_count": 49,
   "metadata": {},
   "outputs": [
    {
     "data": {
      "text/plain": [
       "cEE    13458\n",
       "iEE     5956\n",
       "cHG     3189\n",
       "EG      2908\n",
       "DC       643\n",
       "Name: EDA, dtype: int64"
      ]
     },
     "execution_count": 49,
     "metadata": {},
     "output_type": "execute_result"
    }
   ],
   "source": [
    "df_s1_clean['EDA'].value_counts()"
   ]
  },
  {
   "cell_type": "code",
   "execution_count": 50,
   "metadata": {},
   "outputs": [
    {
     "data": {
      "text/plain": [
       "cEE     13458\n",
       "none    12584\n",
       "iEE      5956\n",
       "cHG      3189\n",
       "EG       2908\n",
       "DC        643\n",
       "Name: EDA, dtype: int64"
      ]
     },
     "execution_count": 50,
     "metadata": {},
     "output_type": "execute_result"
    }
   ],
   "source": [
    "#### FIlling NaN in EDA with 'None'\n",
    "df_s1_clean.fillna(value = 'none',inplace = True)\n",
    "df_s1_clean['EDA'].value_counts()"
   ]
  },
  {
   "cell_type": "code",
   "execution_count": 51,
   "metadata": {},
   "outputs": [
    {
     "name": "stdout",
     "output_type": "stream",
     "text": [
      "<class 'pandas.core.frame.DataFrame'>\n",
      "Int64Index: 38738 entries, 0 to 38739\n",
      "Data columns (total 4 columns):\n",
      " #   Column            Non-Null Count  Dtype \n",
      "---  ------            --------------  ----- \n",
      " 0   PIN               38738 non-null  object\n",
      " 1   timestamp         38738 non-null  object\n",
      " 2   case_assigned_to  38738 non-null  object\n",
      " 3   EDA               38738 non-null  object\n",
      "dtypes: object(4)\n",
      "memory usage: 1.5+ MB\n"
     ]
    }
   ],
   "source": [
    "df_s1_clean.info()"
   ]
  },
  {
   "cell_type": "code",
   "execution_count": 52,
   "metadata": {},
   "outputs": [
    {
     "data": {
      "text/html": [
       "<div>\n",
       "<style scoped>\n",
       "    .dataframe tbody tr th:only-of-type {\n",
       "        vertical-align: middle;\n",
       "    }\n",
       "\n",
       "    .dataframe tbody tr th {\n",
       "        vertical-align: top;\n",
       "    }\n",
       "\n",
       "    .dataframe thead th {\n",
       "        text-align: right;\n",
       "    }\n",
       "</style>\n",
       "<table border=\"1\" class=\"dataframe\">\n",
       "  <thead>\n",
       "    <tr style=\"text-align: right;\">\n",
       "      <th></th>\n",
       "      <th>PIN</th>\n",
       "      <th>timestamp</th>\n",
       "      <th>case_assigned_to</th>\n",
       "      <th>EDA</th>\n",
       "    </tr>\n",
       "  </thead>\n",
       "  <tbody>\n",
       "    <tr>\n",
       "      <th>0</th>\n",
       "      <td>04D91VS</td>\n",
       "      <td>2018-05-28 14:38:30.0</td>\n",
       "      <td>Goettlich</td>\n",
       "      <td>iEE</td>\n",
       "    </tr>\n",
       "    <tr>\n",
       "      <th>1</th>\n",
       "      <td>04D91VS</td>\n",
       "      <td>2018-05-28 14:38:51.0</td>\n",
       "      <td>Goettlich</td>\n",
       "      <td>iEE</td>\n",
       "    </tr>\n",
       "    <tr>\n",
       "      <th>2</th>\n",
       "      <td>04D91VS</td>\n",
       "      <td>2018-05-28 14:39:22.0</td>\n",
       "      <td>Goettlich</td>\n",
       "      <td>iEE</td>\n",
       "    </tr>\n",
       "    <tr>\n",
       "      <th>3</th>\n",
       "      <td>04D91VS</td>\n",
       "      <td>2018-05-28 14:39:33.0</td>\n",
       "      <td>Goettlich</td>\n",
       "      <td>iEE</td>\n",
       "    </tr>\n",
       "    <tr>\n",
       "      <th>4</th>\n",
       "      <td>04D91VS</td>\n",
       "      <td>2018-05-28 14:40:45.0</td>\n",
       "      <td>Goettlich</td>\n",
       "      <td>iEE</td>\n",
       "    </tr>\n",
       "  </tbody>\n",
       "</table>\n",
       "</div>"
      ],
      "text/plain": [
       "       PIN              timestamp case_assigned_to  EDA\n",
       "0  04D91VS  2018-05-28 14:38:30.0        Goettlich  iEE\n",
       "1  04D91VS  2018-05-28 14:38:51.0        Goettlich  iEE\n",
       "2  04D91VS  2018-05-28 14:39:22.0        Goettlich  iEE\n",
       "3  04D91VS  2018-05-28 14:39:33.0        Goettlich  iEE\n",
       "4  04D91VS  2018-05-28 14:40:45.0        Goettlich  iEE"
      ]
     },
     "execution_count": 52,
     "metadata": {},
     "output_type": "execute_result"
    }
   ],
   "source": [
    "df_s1_clean.head()"
   ]
  },
  {
   "cell_type": "code",
   "execution_count": 53,
   "metadata": {},
   "outputs": [],
   "source": [
    "# convert the timestamp to 'datetime' data type\n",
    "\n",
    "df_s1_clean['timestamp'] = pd.to_datetime(df_s1_clean['timestamp'], \n",
    "               infer_datetime_format= True, errors = 'coerce' )"
   ]
  },
  {
   "cell_type": "code",
   "execution_count": 54,
   "metadata": {},
   "outputs": [
    {
     "name": "stdout",
     "output_type": "stream",
     "text": [
      "<class 'pandas.core.frame.DataFrame'>\n",
      "Int64Index: 38738 entries, 0 to 38739\n",
      "Data columns (total 4 columns):\n",
      " #   Column            Non-Null Count  Dtype         \n",
      "---  ------            --------------  -----         \n",
      " 0   PIN               38738 non-null  object        \n",
      " 1   timestamp         38738 non-null  datetime64[ns]\n",
      " 2   case_assigned_to  38738 non-null  object        \n",
      " 3   EDA               38738 non-null  object        \n",
      "dtypes: datetime64[ns](1), object(3)\n",
      "memory usage: 1.5+ MB\n"
     ]
    }
   ],
   "source": [
    "df_s1_clean.info()"
   ]
  },
  {
   "cell_type": "code",
   "execution_count": 55,
   "metadata": {},
   "outputs": [],
   "source": [
    "# Grouping data by 'assigned to' and 'PIN' which acts like a primary key to both the tables"
   ]
  },
  {
   "cell_type": "code",
   "execution_count": 56,
   "metadata": {},
   "outputs": [],
   "source": [
    "s1_PIN_case = df_s1_clean.groupby(['PIN','case_assigned_to'])"
   ]
  },
  {
   "cell_type": "code",
   "execution_count": 57,
   "metadata": {},
   "outputs": [
    {
     "name": "stdout",
     "output_type": "stream",
     "text": [
      "not found: 3FERR59\n",
      "not found: 3FERR59\n",
      "not found: 3FERR59\n",
      "not found: 3FERR59\n",
      "not found: 3FERR59\n",
      "not found: E6C42R7\n",
      "not found: E6C42R7\n",
      "not found: E6C42R7\n",
      "not found: E6C42R7\n",
      "not found: EJSIQ0T\n",
      "not found: EJSIQ0T\n",
      "not found: N5SJM59\n",
      "not found: juliahalu@gmail.com\n",
      "not found: l.brandl@campus.lmu.de\n",
      "not found: l.brandl@campus.lmu.de\n",
      "not found: l.brandl@campus.lmu.de\n",
      "not found: l.brandl@campus.lmu.de\n",
      "not found: l.brandl@campus.lmu.de\n"
     ]
    }
   ],
   "source": [
    "PIN_not_found = []\n",
    "for x,y in s1_PIN_case:\n",
    "#     print(x,len(y))\n",
    "    z = df_diagnosis_clean[df_diagnosis_clean['PIN'] == x[0]].any()\n",
    "    if not z[0]:\n",
    "        PIN_not_found.append(x[0]) \n",
    "        print(\"not found:\",x[0])"
   ]
  },
  {
   "cell_type": "code",
   "execution_count": 58,
   "metadata": {},
   "outputs": [
    {
     "data": {
      "text/plain": [
       "['3FERR59',\n",
       " '3FERR59',\n",
       " '3FERR59',\n",
       " '3FERR59',\n",
       " '3FERR59',\n",
       " 'E6C42R7',\n",
       " 'E6C42R7',\n",
       " 'E6C42R7',\n",
       " 'E6C42R7',\n",
       " 'EJSIQ0T',\n",
       " 'EJSIQ0T',\n",
       " 'N5SJM59',\n",
       " 'juliahalu@gmail.com',\n",
       " 'l.brandl@campus.lmu.de',\n",
       " 'l.brandl@campus.lmu.de',\n",
       " 'l.brandl@campus.lmu.de',\n",
       " 'l.brandl@campus.lmu.de',\n",
       " 'l.brandl@campus.lmu.de']"
      ]
     },
     "execution_count": 58,
     "metadata": {},
     "output_type": "execute_result"
    }
   ],
   "source": [
    "# any prediction for these 'PIN' are not available\n",
    "PIN_not_found"
   ]
  },
  {
   "cell_type": "code",
   "execution_count": 59,
   "metadata": {},
   "outputs": [
    {
     "data": {
      "text/html": [
       "<div>\n",
       "<style scoped>\n",
       "    .dataframe tbody tr th:only-of-type {\n",
       "        vertical-align: middle;\n",
       "    }\n",
       "\n",
       "    .dataframe tbody tr th {\n",
       "        vertical-align: top;\n",
       "    }\n",
       "\n",
       "    .dataframe thead th {\n",
       "        text-align: right;\n",
       "    }\n",
       "</style>\n",
       "<table border=\"1\" class=\"dataframe\">\n",
       "  <thead>\n",
       "    <tr style=\"text-align: right;\">\n",
       "      <th></th>\n",
       "      <th>PIN</th>\n",
       "      <th>timestamp</th>\n",
       "      <th>case_assigned_to</th>\n",
       "      <th>EDA</th>\n",
       "    </tr>\n",
       "  </thead>\n",
       "  <tbody>\n",
       "    <tr>\n",
       "      <th>25297</th>\n",
       "      <td>l.brandl@campus.lmu.de</td>\n",
       "      <td>2018-05-04 09:00:22</td>\n",
       "      <td>Goettlich</td>\n",
       "      <td>iEE</td>\n",
       "    </tr>\n",
       "    <tr>\n",
       "      <th>25298</th>\n",
       "      <td>l.brandl@campus.lmu.de</td>\n",
       "      <td>2018-05-04 09:00:30</td>\n",
       "      <td>Goettlich</td>\n",
       "      <td>iEE</td>\n",
       "    </tr>\n",
       "    <tr>\n",
       "      <th>25299</th>\n",
       "      <td>l.brandl@campus.lmu.de</td>\n",
       "      <td>2018-05-04 09:00:35</td>\n",
       "      <td>Goettlich</td>\n",
       "      <td>iEE</td>\n",
       "    </tr>\n",
       "    <tr>\n",
       "      <th>25300</th>\n",
       "      <td>l.brandl@campus.lmu.de</td>\n",
       "      <td>2018-05-04 09:00:37</td>\n",
       "      <td>Goettlich</td>\n",
       "      <td>iEE</td>\n",
       "    </tr>\n",
       "    <tr>\n",
       "      <th>25301</th>\n",
       "      <td>l.brandl@campus.lmu.de</td>\n",
       "      <td>2018-05-04 09:00:43</td>\n",
       "      <td>Goettlich</td>\n",
       "      <td>iEE</td>\n",
       "    </tr>\n",
       "    <tr>\n",
       "      <th>...</th>\n",
       "      <td>...</td>\n",
       "      <td>...</td>\n",
       "      <td>...</td>\n",
       "      <td>...</td>\n",
       "    </tr>\n",
       "    <tr>\n",
       "      <th>25496</th>\n",
       "      <td>l.brandl@campus.lmu.de</td>\n",
       "      <td>2018-05-07 09:46:43</td>\n",
       "      <td>Binder</td>\n",
       "      <td>iEE</td>\n",
       "    </tr>\n",
       "    <tr>\n",
       "      <th>25497</th>\n",
       "      <td>l.brandl@campus.lmu.de</td>\n",
       "      <td>2018-09-11 07:38:41</td>\n",
       "      <td>Goettlich</td>\n",
       "      <td>none</td>\n",
       "    </tr>\n",
       "    <tr>\n",
       "      <th>25498</th>\n",
       "      <td>l.brandl@campus.lmu.de</td>\n",
       "      <td>2018-09-11 07:38:42</td>\n",
       "      <td>Goettlich</td>\n",
       "      <td>iEE</td>\n",
       "    </tr>\n",
       "    <tr>\n",
       "      <th>25499</th>\n",
       "      <td>l.brandl@campus.lmu.de</td>\n",
       "      <td>2018-09-11 07:38:44</td>\n",
       "      <td>Goettlich</td>\n",
       "      <td>iEE</td>\n",
       "    </tr>\n",
       "    <tr>\n",
       "      <th>25500</th>\n",
       "      <td>l.brandl@campus.lmu.de</td>\n",
       "      <td>2018-09-11 07:41:00</td>\n",
       "      <td>Schenker</td>\n",
       "      <td>iEE</td>\n",
       "    </tr>\n",
       "  </tbody>\n",
       "</table>\n",
       "<p>204 rows × 4 columns</p>\n",
       "</div>"
      ],
      "text/plain": [
       "                          PIN           timestamp case_assigned_to   EDA\n",
       "25297  l.brandl@campus.lmu.de 2018-05-04 09:00:22        Goettlich   iEE\n",
       "25298  l.brandl@campus.lmu.de 2018-05-04 09:00:30        Goettlich   iEE\n",
       "25299  l.brandl@campus.lmu.de 2018-05-04 09:00:35        Goettlich   iEE\n",
       "25300  l.brandl@campus.lmu.de 2018-05-04 09:00:37        Goettlich   iEE\n",
       "25301  l.brandl@campus.lmu.de 2018-05-04 09:00:43        Goettlich   iEE\n",
       "...                       ...                 ...              ...   ...\n",
       "25496  l.brandl@campus.lmu.de 2018-05-07 09:46:43           Binder   iEE\n",
       "25497  l.brandl@campus.lmu.de 2018-09-11 07:38:41        Goettlich  none\n",
       "25498  l.brandl@campus.lmu.de 2018-09-11 07:38:42        Goettlich   iEE\n",
       "25499  l.brandl@campus.lmu.de 2018-09-11 07:38:44        Goettlich   iEE\n",
       "25500  l.brandl@campus.lmu.de 2018-09-11 07:41:00         Schenker   iEE\n",
       "\n",
       "[204 rows x 4 columns]"
      ]
     },
     "execution_count": 59,
     "metadata": {},
     "output_type": "execute_result"
    }
   ],
   "source": [
    "## checking in df_s1 data\n",
    "df_s1_clean[df_s1_clean['PIN'] == 'l.brandl@campus.lmu.de']"
   ]
  },
  {
   "cell_type": "code",
   "execution_count": 60,
   "metadata": {},
   "outputs": [
    {
     "data": {
      "text/html": [
       "<div>\n",
       "<style scoped>\n",
       "    .dataframe tbody tr th:only-of-type {\n",
       "        vertical-align: middle;\n",
       "    }\n",
       "\n",
       "    .dataframe tbody tr th {\n",
       "        vertical-align: top;\n",
       "    }\n",
       "\n",
       "    .dataframe thead th {\n",
       "        text-align: right;\n",
       "    }\n",
       "</style>\n",
       "<table border=\"1\" class=\"dataframe\">\n",
       "  <thead>\n",
       "    <tr style=\"text-align: right;\">\n",
       "      <th></th>\n",
       "      <th>PIN</th>\n",
       "      <th>Solution_points</th>\n",
       "      <th>case_assigned_to</th>\n",
       "    </tr>\n",
       "  </thead>\n",
       "  <tbody>\n",
       "  </tbody>\n",
       "</table>\n",
       "</div>"
      ],
      "text/plain": [
       "Empty DataFrame\n",
       "Columns: [PIN, Solution_points, case_assigned_to]\n",
       "Index: []"
      ]
     },
     "execution_count": 60,
     "metadata": {},
     "output_type": "execute_result"
    }
   ],
   "source": [
    "df_diagnosis_clean[df_diagnosis_clean['PIN'] == 'l.brandl@campus.lmu.de']"
   ]
  },
  {
   "cell_type": "code",
   "execution_count": 61,
   "metadata": {},
   "outputs": [],
   "source": [
    "#### removing these PIN from df_s1 because no information on their correctness available"
   ]
  },
  {
   "cell_type": "code",
   "execution_count": 62,
   "metadata": {},
   "outputs": [],
   "source": [
    "for x in PIN_not_found:\n",
    "        df_s1_clean = df_s1_clean.loc[(df_s1_clean['PIN'] != x)]"
   ]
  },
  {
   "cell_type": "code",
   "execution_count": 63,
   "metadata": {},
   "outputs": [],
   "source": [
    "### checking of still any unlinked PIN exists"
   ]
  },
  {
   "cell_type": "code",
   "execution_count": 64,
   "metadata": {},
   "outputs": [],
   "source": [
    "s1_PIN_case = df_s1_clean.groupby(['PIN','case_assigned_to'])\n",
    "PIN_not_found = []\n",
    "for x,y in s1_PIN_case:\n",
    "#     print(x,len(y))\n",
    "    z = df_diagnosis_clean[df_diagnosis_clean['PIN'] == x[0]].any()\n",
    "    if not z[0]:\n",
    "        PIN_not_found.append(x[0]) \n",
    "        print(\"not found:\",x[0])"
   ]
  },
  {
   "cell_type": "code",
   "execution_count": 65,
   "metadata": {},
   "outputs": [
    {
     "data": {
      "text/plain": [
       "(38207, 4)"
      ]
     },
     "execution_count": 65,
     "metadata": {},
     "output_type": "execute_result"
    }
   ],
   "source": [
    "df_s1_clean.shape"
   ]
  },
  {
   "cell_type": "code",
   "execution_count": 66,
   "metadata": {},
   "outputs": [
    {
     "data": {
      "text/html": [
       "<div>\n",
       "<style scoped>\n",
       "    .dataframe tbody tr th:only-of-type {\n",
       "        vertical-align: middle;\n",
       "    }\n",
       "\n",
       "    .dataframe tbody tr th {\n",
       "        vertical-align: top;\n",
       "    }\n",
       "\n",
       "    .dataframe thead th {\n",
       "        text-align: right;\n",
       "    }\n",
       "</style>\n",
       "<table border=\"1\" class=\"dataframe\">\n",
       "  <thead>\n",
       "    <tr style=\"text-align: right;\">\n",
       "      <th></th>\n",
       "      <th>PIN</th>\n",
       "      <th>Solution_points</th>\n",
       "      <th>case_assigned_to</th>\n",
       "    </tr>\n",
       "  </thead>\n",
       "  <tbody>\n",
       "    <tr>\n",
       "      <th>398</th>\n",
       "      <td>RGISDAO</td>\n",
       "      <td>0.0</td>\n",
       "      <td>Schenker</td>\n",
       "    </tr>\n",
       "    <tr>\n",
       "      <th>292</th>\n",
       "      <td>JN5IT6O</td>\n",
       "      <td>1.0</td>\n",
       "      <td>Wenninger</td>\n",
       "    </tr>\n",
       "    <tr>\n",
       "      <th>448</th>\n",
       "      <td>KPF56GK</td>\n",
       "      <td>1.0</td>\n",
       "      <td>Goettlich</td>\n",
       "    </tr>\n",
       "    <tr>\n",
       "      <th>401</th>\n",
       "      <td>SSQT0V1</td>\n",
       "      <td>0.0</td>\n",
       "      <td>Schenker</td>\n",
       "    </tr>\n",
       "    <tr>\n",
       "      <th>30</th>\n",
       "      <td>L4MJVOU</td>\n",
       "      <td>1.0</td>\n",
       "      <td>Goettlich</td>\n",
       "    </tr>\n",
       "  </tbody>\n",
       "</table>\n",
       "</div>"
      ],
      "text/plain": [
       "         PIN  Solution_points case_assigned_to\n",
       "398  RGISDAO              0.0         Schenker\n",
       "292  JN5IT6O              1.0        Wenninger\n",
       "448  KPF56GK              1.0        Goettlich\n",
       "401  SSQT0V1              0.0         Schenker\n",
       "30   L4MJVOU              1.0        Goettlich"
      ]
     },
     "execution_count": 66,
     "metadata": {},
     "output_type": "execute_result"
    }
   ],
   "source": [
    "df_diagnosis_clean.sample(5)"
   ]
  },
  {
   "cell_type": "markdown",
   "metadata": {},
   "source": [
    "### Visualizing the diagnosis Dataset"
   ]
  },
  {
   "cell_type": "code",
   "execution_count": 67,
   "metadata": {},
   "outputs": [],
   "source": [
    "import matplotlib.pyplot as plt\n",
    "import seaborn as sns"
   ]
  },
  {
   "cell_type": "code",
   "execution_count": 68,
   "metadata": {},
   "outputs": [],
   "source": [
    "# copy the dataframe \n",
    "df_diagnosis_viz = df_diagnosis_clean.copy()"
   ]
  },
  {
   "cell_type": "code",
   "execution_count": 69,
   "metadata": {},
   "outputs": [],
   "source": [
    "# Converting 0.5 to 0 -> solution points and removing -99\n",
    "df_diagnosis_viz['Solution_points'].replace({0.5: 0}, inplace = True)\n",
    "\n",
    "# dropping values that have solution points = -99 => missing\n",
    "df_diagnosis_viz.drop(df_diagnosis_viz.loc[df_diagnosis_viz['Solution_points']==-99].index, inplace=True)"
   ]
  },
  {
   "cell_type": "code",
   "execution_count": 70,
   "metadata": {},
   "outputs": [
    {
     "data": {
      "text/html": [
       "<div>\n",
       "<style scoped>\n",
       "    .dataframe tbody tr th:only-of-type {\n",
       "        vertical-align: middle;\n",
       "    }\n",
       "\n",
       "    .dataframe tbody tr th {\n",
       "        vertical-align: top;\n",
       "    }\n",
       "\n",
       "    .dataframe thead th {\n",
       "        text-align: right;\n",
       "    }\n",
       "</style>\n",
       "<table border=\"1\" class=\"dataframe\">\n",
       "  <thead>\n",
       "    <tr style=\"text-align: right;\">\n",
       "      <th></th>\n",
       "      <th>PIN</th>\n",
       "      <th>Solution_points</th>\n",
       "      <th>case_assigned_to</th>\n",
       "    </tr>\n",
       "  </thead>\n",
       "  <tbody>\n",
       "    <tr>\n",
       "      <th>0</th>\n",
       "      <td>AEOGCR7</td>\n",
       "      <td>1.0</td>\n",
       "      <td>Goettlich</td>\n",
       "    </tr>\n",
       "    <tr>\n",
       "      <th>1</th>\n",
       "      <td>AKVVO8S</td>\n",
       "      <td>1.0</td>\n",
       "      <td>Goettlich</td>\n",
       "    </tr>\n",
       "    <tr>\n",
       "      <th>2</th>\n",
       "      <td>A75J1OO</td>\n",
       "      <td>1.0</td>\n",
       "      <td>Goettlich</td>\n",
       "    </tr>\n",
       "    <tr>\n",
       "      <th>3</th>\n",
       "      <td>BPDREJD</td>\n",
       "      <td>1.0</td>\n",
       "      <td>Goettlich</td>\n",
       "    </tr>\n",
       "    <tr>\n",
       "      <th>4</th>\n",
       "      <td>BQLTZM2</td>\n",
       "      <td>0.0</td>\n",
       "      <td>Goettlich</td>\n",
       "    </tr>\n",
       "  </tbody>\n",
       "</table>\n",
       "</div>"
      ],
      "text/plain": [
       "       PIN  Solution_points case_assigned_to\n",
       "0  AEOGCR7              1.0        Goettlich\n",
       "1  AKVVO8S              1.0        Goettlich\n",
       "2  A75J1OO              1.0        Goettlich\n",
       "3  BPDREJD              1.0        Goettlich\n",
       "4  BQLTZM2              0.0        Goettlich"
      ]
     },
     "execution_count": 70,
     "metadata": {},
     "output_type": "execute_result"
    }
   ],
   "source": [
    "df_diagnosis_viz.head()"
   ]
  },
  {
   "cell_type": "code",
   "execution_count": 71,
   "metadata": {},
   "outputs": [],
   "source": [
    "# names = df_diagnosis_viz.case_assigned_to.unique().tolist()\n",
    "\n",
    "# vals = [1, 2, 3, 4, 5]\n",
    "# x = dict(zip(names, vals))\n",
    "\n",
    "\n",
    "# df_diagnosis_viz.replace(x, inplace = True)"
   ]
  },
  {
   "cell_type": "code",
   "execution_count": 72,
   "metadata": {},
   "outputs": [],
   "source": [
    "# df_diagnosis_viz.head(5)"
   ]
  },
  {
   "cell_type": "code",
   "execution_count": 73,
   "metadata": {},
   "outputs": [
    {
     "data": {
      "text/html": [
       "<div>\n",
       "<style scoped>\n",
       "    .dataframe tbody tr th:only-of-type {\n",
       "        vertical-align: middle;\n",
       "    }\n",
       "\n",
       "    .dataframe tbody tr th {\n",
       "        vertical-align: top;\n",
       "    }\n",
       "\n",
       "    .dataframe thead tr th {\n",
       "        text-align: left;\n",
       "    }\n",
       "\n",
       "    .dataframe thead tr:last-of-type th {\n",
       "        text-align: right;\n",
       "    }\n",
       "</style>\n",
       "<table border=\"1\" class=\"dataframe\">\n",
       "  <thead>\n",
       "    <tr>\n",
       "      <th></th>\n",
       "      <th colspan=\"2\" halign=\"left\">PIN</th>\n",
       "    </tr>\n",
       "    <tr>\n",
       "      <th>Solution_points</th>\n",
       "      <th>0.0</th>\n",
       "      <th>1.0</th>\n",
       "    </tr>\n",
       "    <tr>\n",
       "      <th>case_assigned_to</th>\n",
       "      <th></th>\n",
       "      <th></th>\n",
       "    </tr>\n",
       "  </thead>\n",
       "  <tbody>\n",
       "    <tr>\n",
       "      <th>Binder</th>\n",
       "      <td>59</td>\n",
       "      <td>35</td>\n",
       "    </tr>\n",
       "    <tr>\n",
       "      <th>Freundorf</th>\n",
       "      <td>7</td>\n",
       "      <td>85</td>\n",
       "    </tr>\n",
       "    <tr>\n",
       "      <th>Goettlich</th>\n",
       "      <td>15</td>\n",
       "      <td>84</td>\n",
       "    </tr>\n",
       "    <tr>\n",
       "      <th>Schenker</th>\n",
       "      <td>75</td>\n",
       "      <td>18</td>\n",
       "    </tr>\n",
       "    <tr>\n",
       "      <th>Wenninger</th>\n",
       "      <td>5</td>\n",
       "      <td>93</td>\n",
       "    </tr>\n",
       "  </tbody>\n",
       "</table>\n",
       "</div>"
      ],
      "text/plain": [
       "                 PIN    \n",
       "Solution_points  0.0 1.0\n",
       "case_assigned_to        \n",
       "Binder            59  35\n",
       "Freundorf          7  85\n",
       "Goettlich         15  84\n",
       "Schenker          75  18\n",
       "Wenninger          5  93"
      ]
     },
     "execution_count": 73,
     "metadata": {},
     "output_type": "execute_result"
    }
   ],
   "source": [
    "a = df_diagnosis_viz.groupby([\"case_assigned_to\",\"Solution_points\"]).count()\n",
    "df_merged_wide = a.unstack()\n",
    "df_merged_wide.head()"
   ]
  },
  {
   "cell_type": "code",
   "execution_count": 74,
   "metadata": {},
   "outputs": [
    {
     "data": {
      "image/png": "[encoded data removed]",
      "text/plain": [
       "<Figure size 864x432 with 1 Axes>"
      ]
     },
     "metadata": {
      "needs_background": "light"
     },
     "output_type": "display_data"
    }
   ],
   "source": [
    "a4_dims = (12, 6)\n",
    "fig, ax = plt.subplots(figsize=a4_dims)\n",
    "\n",
    "ax = sns.histplot(x = 'case_assigned_to', data = df_diagnosis_viz , multiple='dodge',\n",
    "             hue='Solution_points', palette=\"bright\", shrink=.5 )\n",
    "ax.set(xlabel='Participants', ylabel='Count of Correct and Wrong solution', title = 'Participant and their overall Performance')\n",
    "\n",
    "plt.show()"
   ]
  },
  {
   "cell_type": "markdown",
   "metadata": {},
   "source": [
    "## Merging both the datasets"
   ]
  },
  {
   "cell_type": "code",
   "execution_count": 75,
   "metadata": {},
   "outputs": [],
   "source": [
    "df_merged = pd.merge(df_diagnosis_clean, df_s1_clean,how='inner', \n",
    "                     left_on=('PIN','case_assigned_to'), right_on=('PIN','case_assigned_to'))"
   ]
  },
  {
   "cell_type": "code",
   "execution_count": 76,
   "metadata": {},
   "outputs": [
    {
     "data": {
      "text/plain": [
       "(38207, 5)"
      ]
     },
     "execution_count": 76,
     "metadata": {},
     "output_type": "execute_result"
    }
   ],
   "source": [
    "df_merged.shape"
   ]
  },
  {
   "cell_type": "code",
   "execution_count": 77,
   "metadata": {
    "scrolled": false
   },
   "outputs": [
    {
     "data": {
      "text/html": [
       "<div>\n",
       "<style scoped>\n",
       "    .dataframe tbody tr th:only-of-type {\n",
       "        vertical-align: middle;\n",
       "    }\n",
       "\n",
       "    .dataframe tbody tr th {\n",
       "        vertical-align: top;\n",
       "    }\n",
       "\n",
       "    .dataframe thead th {\n",
       "        text-align: right;\n",
       "    }\n",
       "</style>\n",
       "<table border=\"1\" class=\"dataframe\">\n",
       "  <thead>\n",
       "    <tr style=\"text-align: right;\">\n",
       "      <th></th>\n",
       "      <th>PIN</th>\n",
       "      <th>Solution_points</th>\n",
       "      <th>case_assigned_to</th>\n",
       "      <th>timestamp</th>\n",
       "      <th>EDA</th>\n",
       "    </tr>\n",
       "  </thead>\n",
       "  <tbody>\n",
       "    <tr>\n",
       "      <th>0</th>\n",
       "      <td>AEOGCR7</td>\n",
       "      <td>1.0</td>\n",
       "      <td>Goettlich</td>\n",
       "      <td>2018-05-08 15:12:22</td>\n",
       "      <td>iEE</td>\n",
       "    </tr>\n",
       "    <tr>\n",
       "      <th>1</th>\n",
       "      <td>AEOGCR7</td>\n",
       "      <td>1.0</td>\n",
       "      <td>Goettlich</td>\n",
       "      <td>2018-05-08 15:12:26</td>\n",
       "      <td>iEE</td>\n",
       "    </tr>\n",
       "    <tr>\n",
       "      <th>2</th>\n",
       "      <td>AEOGCR7</td>\n",
       "      <td>1.0</td>\n",
       "      <td>Goettlich</td>\n",
       "      <td>2018-05-08 15:12:52</td>\n",
       "      <td>iEE</td>\n",
       "    </tr>\n",
       "    <tr>\n",
       "      <th>3</th>\n",
       "      <td>AEOGCR7</td>\n",
       "      <td>1.0</td>\n",
       "      <td>Goettlich</td>\n",
       "      <td>2018-05-08 15:13:50</td>\n",
       "      <td>iEE</td>\n",
       "    </tr>\n",
       "    <tr>\n",
       "      <th>4</th>\n",
       "      <td>AEOGCR7</td>\n",
       "      <td>1.0</td>\n",
       "      <td>Goettlich</td>\n",
       "      <td>2018-05-08 15:14:05</td>\n",
       "      <td>iEE</td>\n",
       "    </tr>\n",
       "  </tbody>\n",
       "</table>\n",
       "</div>"
      ],
      "text/plain": [
       "       PIN  Solution_points case_assigned_to           timestamp  EDA\n",
       "0  AEOGCR7              1.0        Goettlich 2018-05-08 15:12:22  iEE\n",
       "1  AEOGCR7              1.0        Goettlich 2018-05-08 15:12:26  iEE\n",
       "2  AEOGCR7              1.0        Goettlich 2018-05-08 15:12:52  iEE\n",
       "3  AEOGCR7              1.0        Goettlich 2018-05-08 15:13:50  iEE\n",
       "4  AEOGCR7              1.0        Goettlich 2018-05-08 15:14:05  iEE"
      ]
     },
     "execution_count": 77,
     "metadata": {},
     "output_type": "execute_result"
    }
   ],
   "source": [
    "df_merged.head()"
   ]
  },
  {
   "cell_type": "code",
   "execution_count": 78,
   "metadata": {},
   "outputs": [
    {
     "data": {
      "text/plain": [
       " 1.0     20943\n",
       " 0.0     11140\n",
       " 0.5      4411\n",
       "-99.0     1713\n",
       "Name: Solution_points, dtype: int64"
      ]
     },
     "execution_count": 78,
     "metadata": {},
     "output_type": "execute_result"
    }
   ],
   "source": [
    "df_merged.Solution_points.value_counts()"
   ]
  },
  {
   "cell_type": "markdown",
   "metadata": {},
   "source": [
    "## Cleaning the merged dataset"
   ]
  },
  {
   "cell_type": "markdown",
   "metadata": {},
   "source": [
    "### 1. Creating new data frame with EDA categories as numbers"
   ]
  },
  {
   "cell_type": "markdown",
   "metadata": {},
   "source": [
    "Knowing about epistemic data\n",
    "- none = 0\n",
    "- iEE = Problem Identification - 1\n",
    "- EG = Evidence Generation - 2\n",
    "- cEE = Evidence evaluation - 3\n",
    "- CHG = Hypothesis Generation - 4\n",
    "- DC = Drawing conclusion - 5"
   ]
  },
  {
   "cell_type": "code",
   "execution_count": 79,
   "metadata": {},
   "outputs": [],
   "source": [
    "# copy the dataframe merged\n",
    "df_merged_onehot = df_merged.copy()"
   ]
  },
  {
   "cell_type": "code",
   "execution_count": 80,
   "metadata": {},
   "outputs": [],
   "source": [
    "df_merged_onehot[\"EDA\"].replace({\"iEE\": 1, \"EG\": 2, \"cEE\": 3, \"cHG\": 4, \"DC\": 5, \"none\": 0}, inplace=True)"
   ]
  },
  {
   "cell_type": "code",
   "execution_count": 81,
   "metadata": {},
   "outputs": [
    {
     "data": {
      "text/html": [
       "<div>\n",
       "<style scoped>\n",
       "    .dataframe tbody tr th:only-of-type {\n",
       "        vertical-align: middle;\n",
       "    }\n",
       "\n",
       "    .dataframe tbody tr th {\n",
       "        vertical-align: top;\n",
       "    }\n",
       "\n",
       "    .dataframe thead th {\n",
       "        text-align: right;\n",
       "    }\n",
       "</style>\n",
       "<table border=\"1\" class=\"dataframe\">\n",
       "  <thead>\n",
       "    <tr style=\"text-align: right;\">\n",
       "      <th></th>\n",
       "      <th>PIN</th>\n",
       "      <th>Solution_points</th>\n",
       "      <th>case_assigned_to</th>\n",
       "      <th>timestamp</th>\n",
       "      <th>EDA</th>\n",
       "    </tr>\n",
       "  </thead>\n",
       "  <tbody>\n",
       "    <tr>\n",
       "      <th>0</th>\n",
       "      <td>AEOGCR7</td>\n",
       "      <td>1.0</td>\n",
       "      <td>Goettlich</td>\n",
       "      <td>2018-05-08 15:12:22</td>\n",
       "      <td>1</td>\n",
       "    </tr>\n",
       "    <tr>\n",
       "      <th>1</th>\n",
       "      <td>AEOGCR7</td>\n",
       "      <td>1.0</td>\n",
       "      <td>Goettlich</td>\n",
       "      <td>2018-05-08 15:12:26</td>\n",
       "      <td>1</td>\n",
       "    </tr>\n",
       "    <tr>\n",
       "      <th>2</th>\n",
       "      <td>AEOGCR7</td>\n",
       "      <td>1.0</td>\n",
       "      <td>Goettlich</td>\n",
       "      <td>2018-05-08 15:12:52</td>\n",
       "      <td>1</td>\n",
       "    </tr>\n",
       "    <tr>\n",
       "      <th>3</th>\n",
       "      <td>AEOGCR7</td>\n",
       "      <td>1.0</td>\n",
       "      <td>Goettlich</td>\n",
       "      <td>2018-05-08 15:13:50</td>\n",
       "      <td>1</td>\n",
       "    </tr>\n",
       "    <tr>\n",
       "      <th>4</th>\n",
       "      <td>AEOGCR7</td>\n",
       "      <td>1.0</td>\n",
       "      <td>Goettlich</td>\n",
       "      <td>2018-05-08 15:14:05</td>\n",
       "      <td>1</td>\n",
       "    </tr>\n",
       "  </tbody>\n",
       "</table>\n",
       "</div>"
      ],
      "text/plain": [
       "       PIN  Solution_points case_assigned_to           timestamp  EDA\n",
       "0  AEOGCR7              1.0        Goettlich 2018-05-08 15:12:22    1\n",
       "1  AEOGCR7              1.0        Goettlich 2018-05-08 15:12:26    1\n",
       "2  AEOGCR7              1.0        Goettlich 2018-05-08 15:12:52    1\n",
       "3  AEOGCR7              1.0        Goettlich 2018-05-08 15:13:50    1\n",
       "4  AEOGCR7              1.0        Goettlich 2018-05-08 15:14:05    1"
      ]
     },
     "execution_count": 81,
     "metadata": {},
     "output_type": "execute_result"
    }
   ],
   "source": [
    "df_merged_onehot.head()"
   ]
  },
  {
   "cell_type": "markdown",
   "metadata": {},
   "source": [
    "### 2. Converting 0.5 to 0 -> solution points and removing -99"
   ]
  },
  {
   "cell_type": "code",
   "execution_count": 82,
   "metadata": {},
   "outputs": [
    {
     "data": {
      "text/plain": [
       " 1.0     20943\n",
       " 0.0     11140\n",
       " 0.5      4411\n",
       "-99.0     1713\n",
       "Name: Solution_points, dtype: int64"
      ]
     },
     "execution_count": 82,
     "metadata": {},
     "output_type": "execute_result"
    }
   ],
   "source": [
    "df_merged_onehot['Solution_points'].value_counts()"
   ]
  },
  {
   "cell_type": "code",
   "execution_count": 83,
   "metadata": {},
   "outputs": [],
   "source": [
    "df_merged_onehot['Solution_points'].replace({0.5: 0}, inplace = True)"
   ]
  },
  {
   "cell_type": "code",
   "execution_count": 84,
   "metadata": {},
   "outputs": [],
   "source": [
    "# dropping values that have solution points = -99 => missing\n",
    "df_merged_onehot.drop(df_merged_onehot.loc[df_merged_onehot['Solution_points']==-99].index, inplace=True)"
   ]
  },
  {
   "cell_type": "code",
   "execution_count": 85,
   "metadata": {},
   "outputs": [
    {
     "data": {
      "text/plain": [
       "1.0    20943\n",
       "0.0    15551\n",
       "Name: Solution_points, dtype: int64"
      ]
     },
     "execution_count": 85,
     "metadata": {},
     "output_type": "execute_result"
    }
   ],
   "source": [
    "df_merged_onehot['Solution_points'].value_counts()"
   ]
  },
  {
   "cell_type": "code",
   "execution_count": 86,
   "metadata": {},
   "outputs": [
    {
     "data": {
      "text/html": [
       "<div>\n",
       "<style scoped>\n",
       "    .dataframe tbody tr th:only-of-type {\n",
       "        vertical-align: middle;\n",
       "    }\n",
       "\n",
       "    .dataframe tbody tr th {\n",
       "        vertical-align: top;\n",
       "    }\n",
       "\n",
       "    .dataframe thead th {\n",
       "        text-align: right;\n",
       "    }\n",
       "</style>\n",
       "<table border=\"1\" class=\"dataframe\">\n",
       "  <thead>\n",
       "    <tr style=\"text-align: right;\">\n",
       "      <th></th>\n",
       "      <th>PIN</th>\n",
       "      <th>Solution_points</th>\n",
       "      <th>case_assigned_to</th>\n",
       "      <th>timestamp</th>\n",
       "      <th>EDA</th>\n",
       "    </tr>\n",
       "  </thead>\n",
       "  <tbody>\n",
       "    <tr>\n",
       "      <th>0</th>\n",
       "      <td>AEOGCR7</td>\n",
       "      <td>1.0</td>\n",
       "      <td>Goettlich</td>\n",
       "      <td>2018-05-08 15:12:22</td>\n",
       "      <td>1</td>\n",
       "    </tr>\n",
       "    <tr>\n",
       "      <th>1</th>\n",
       "      <td>AEOGCR7</td>\n",
       "      <td>1.0</td>\n",
       "      <td>Goettlich</td>\n",
       "      <td>2018-05-08 15:12:26</td>\n",
       "      <td>1</td>\n",
       "    </tr>\n",
       "    <tr>\n",
       "      <th>2</th>\n",
       "      <td>AEOGCR7</td>\n",
       "      <td>1.0</td>\n",
       "      <td>Goettlich</td>\n",
       "      <td>2018-05-08 15:12:52</td>\n",
       "      <td>1</td>\n",
       "    </tr>\n",
       "    <tr>\n",
       "      <th>3</th>\n",
       "      <td>AEOGCR7</td>\n",
       "      <td>1.0</td>\n",
       "      <td>Goettlich</td>\n",
       "      <td>2018-05-08 15:13:50</td>\n",
       "      <td>1</td>\n",
       "    </tr>\n",
       "    <tr>\n",
       "      <th>4</th>\n",
       "      <td>AEOGCR7</td>\n",
       "      <td>1.0</td>\n",
       "      <td>Goettlich</td>\n",
       "      <td>2018-05-08 15:14:05</td>\n",
       "      <td>1</td>\n",
       "    </tr>\n",
       "  </tbody>\n",
       "</table>\n",
       "</div>"
      ],
      "text/plain": [
       "       PIN  Solution_points case_assigned_to           timestamp  EDA\n",
       "0  AEOGCR7              1.0        Goettlich 2018-05-08 15:12:22    1\n",
       "1  AEOGCR7              1.0        Goettlich 2018-05-08 15:12:26    1\n",
       "2  AEOGCR7              1.0        Goettlich 2018-05-08 15:12:52    1\n",
       "3  AEOGCR7              1.0        Goettlich 2018-05-08 15:13:50    1\n",
       "4  AEOGCR7              1.0        Goettlich 2018-05-08 15:14:05    1"
      ]
     },
     "execution_count": 86,
     "metadata": {},
     "output_type": "execute_result"
    }
   ],
   "source": [
    "df_merged_onehot.head()"
   ]
  },
  {
   "cell_type": "markdown",
   "metadata": {},
   "source": [
    "### Exploring the merged data"
   ]
  },
  {
   "cell_type": "code",
   "execution_count": 87,
   "metadata": {},
   "outputs": [],
   "source": [
    "# Number of EDA Steps taken by each participant for their task"
   ]
  },
  {
   "cell_type": "code",
   "execution_count": 88,
   "metadata": {},
   "outputs": [
    {
     "data": {
      "text/html": [
       "<div>\n",
       "<style scoped>\n",
       "    .dataframe tbody tr th:only-of-type {\n",
       "        vertical-align: middle;\n",
       "    }\n",
       "\n",
       "    .dataframe tbody tr th {\n",
       "        vertical-align: top;\n",
       "    }\n",
       "\n",
       "    .dataframe thead th {\n",
       "        text-align: right;\n",
       "    }\n",
       "</style>\n",
       "<table border=\"1\" class=\"dataframe\">\n",
       "  <thead>\n",
       "    <tr style=\"text-align: right;\">\n",
       "      <th>case_assigned_to</th>\n",
       "      <th>Binder</th>\n",
       "      <th>Freundorf</th>\n",
       "      <th>Goettlich</th>\n",
       "      <th>Schenker</th>\n",
       "      <th>Wenninger</th>\n",
       "    </tr>\n",
       "    <tr>\n",
       "      <th>PIN</th>\n",
       "      <th></th>\n",
       "      <th></th>\n",
       "      <th></th>\n",
       "      <th></th>\n",
       "      <th></th>\n",
       "    </tr>\n",
       "  </thead>\n",
       "  <tbody>\n",
       "    <tr>\n",
       "      <th>PMFO45G</th>\n",
       "      <td>85.0</td>\n",
       "      <td>NaN</td>\n",
       "      <td>NaN</td>\n",
       "      <td>106.0</td>\n",
       "      <td>45.0</td>\n",
       "    </tr>\n",
       "    <tr>\n",
       "      <th>4I4EI1O</th>\n",
       "      <td>108.0</td>\n",
       "      <td>78.0</td>\n",
       "      <td>32.0</td>\n",
       "      <td>88.0</td>\n",
       "      <td>43.0</td>\n",
       "    </tr>\n",
       "    <tr>\n",
       "      <th>5TA0CLM</th>\n",
       "      <td>93.0</td>\n",
       "      <td>76.0</td>\n",
       "      <td>38.0</td>\n",
       "      <td>31.0</td>\n",
       "      <td>33.0</td>\n",
       "    </tr>\n",
       "    <tr>\n",
       "      <th>QQ27TIK</th>\n",
       "      <td>69.0</td>\n",
       "      <td>58.0</td>\n",
       "      <td>37.0</td>\n",
       "      <td>227.0</td>\n",
       "      <td>37.0</td>\n",
       "    </tr>\n",
       "    <tr>\n",
       "      <th>72J00IC</th>\n",
       "      <td>96.0</td>\n",
       "      <td>52.0</td>\n",
       "      <td>69.0</td>\n",
       "      <td>52.0</td>\n",
       "      <td>45.0</td>\n",
       "    </tr>\n",
       "    <tr>\n",
       "      <th>KHR9QVF</th>\n",
       "      <td>80.0</td>\n",
       "      <td>70.0</td>\n",
       "      <td>43.0</td>\n",
       "      <td>69.0</td>\n",
       "      <td>59.0</td>\n",
       "    </tr>\n",
       "    <tr>\n",
       "      <th>BPDREJD</th>\n",
       "      <td>98.0</td>\n",
       "      <td>82.0</td>\n",
       "      <td>52.0</td>\n",
       "      <td>94.0</td>\n",
       "      <td>42.0</td>\n",
       "    </tr>\n",
       "    <tr>\n",
       "      <th>L4MJVOU</th>\n",
       "      <td>95.0</td>\n",
       "      <td>64.0</td>\n",
       "      <td>42.0</td>\n",
       "      <td>137.0</td>\n",
       "      <td>57.0</td>\n",
       "    </tr>\n",
       "    <tr>\n",
       "      <th>DA0UGI1</th>\n",
       "      <td>222.0</td>\n",
       "      <td>88.0</td>\n",
       "      <td>57.0</td>\n",
       "      <td>NaN</td>\n",
       "      <td>113.0</td>\n",
       "    </tr>\n",
       "    <tr>\n",
       "      <th>KB292GL</th>\n",
       "      <td>113.0</td>\n",
       "      <td>96.0</td>\n",
       "      <td>47.0</td>\n",
       "      <td>154.0</td>\n",
       "      <td>75.0</td>\n",
       "    </tr>\n",
       "  </tbody>\n",
       "</table>\n",
       "</div>"
      ],
      "text/plain": [
       "case_assigned_to  Binder  Freundorf  Goettlich  Schenker  Wenninger\n",
       "PIN                                                                \n",
       "PMFO45G             85.0        NaN        NaN     106.0       45.0\n",
       "4I4EI1O            108.0       78.0       32.0      88.0       43.0\n",
       "5TA0CLM             93.0       76.0       38.0      31.0       33.0\n",
       "QQ27TIK             69.0       58.0       37.0     227.0       37.0\n",
       "72J00IC             96.0       52.0       69.0      52.0       45.0\n",
       "KHR9QVF             80.0       70.0       43.0      69.0       59.0\n",
       "BPDREJD             98.0       82.0       52.0      94.0       42.0\n",
       "L4MJVOU             95.0       64.0       42.0     137.0       57.0\n",
       "DA0UGI1            222.0       88.0       57.0       NaN      113.0\n",
       "KB292GL            113.0       96.0       47.0     154.0       75.0"
      ]
     },
     "execution_count": 88,
     "metadata": {},
     "output_type": "execute_result"
    }
   ],
   "source": [
    "a = df_merged_onehot.groupby([\"PIN\",\"case_assigned_to\"])[\"EDA\"].count()\n",
    "df_merged_wide = a.unstack()\n",
    "df_merged_wide.sample(10)"
   ]
  },
  {
   "cell_type": "code",
   "execution_count": 89,
   "metadata": {
    "scrolled": true
   },
   "outputs": [
    {
     "data": {
      "text/plain": [
       "case_assigned_to\n",
       "Binder       93\n",
       "Freundorf    91\n",
       "Goettlich    94\n",
       "Schenker     91\n",
       "Wenninger    96\n",
       "dtype: int64"
      ]
     },
     "execution_count": 89,
     "metadata": {},
     "output_type": "execute_result"
    }
   ],
   "source": [
    "# almost equal number of cases assigned to each of the participants\n",
    "df_merged_wide.count()"
   ]
  },
  {
   "cell_type": "markdown",
   "metadata": {},
   "source": [
    "## Visualizing"
   ]
  },
  {
   "cell_type": "code",
   "execution_count": 90,
   "metadata": {
    "scrolled": true
   },
   "outputs": [
    {
     "data": {
      "image/png": "[encoded data removed]",
      "text/plain": [
       "<Figure size 1080x432 with 1 Axes>"
      ]
     },
     "metadata": {
      "needs_background": "light"
     },
     "output_type": "display_data"
    }
   ],
   "source": [
    "# Participants and their cummulative number of steps in each Epistemic Activity\n",
    "\n",
    "a4_dims = (15, 6)\n",
    "fig, ax = plt.subplots(figsize=a4_dims)\n",
    "\n",
    "ax = sns.histplot(x = 'case_assigned_to', data = df_merged_onehot , multiple='dodge',\n",
    "             hue='EDA', palette=\"bright\", shrink=0.7 )\n",
    "ax.set(xlabel='Participant', ylabel='Number of steps in each EDA by participant', title = 'Participant and their cummulative number of steps in each Epistemic Activity')\n",
    "\n",
    "plt.show()"
   ]
  },
  {
   "cell_type": "markdown",
   "metadata": {},
   "source": [
    "### Exploring the worst and the best Participants in terms of their performance"
   ]
  },
  {
   "cell_type": "code",
   "execution_count": 91,
   "metadata": {},
   "outputs": [],
   "source": [
    "good_participant = [\"Goettlich\",\"Freundorf\",\"Wenninger\"]\n",
    "poor_participant = [\"Binder\",\"Schenker\"]"
   ]
  },
  {
   "cell_type": "code",
   "execution_count": 92,
   "metadata": {},
   "outputs": [
    {
     "data": {
      "image/png": "[encoded data removed]",
      "text/plain": [
       "<Figure size 1080x432 with 1 Axes>"
      ]
     },
     "metadata": {
      "needs_background": "light"
     },
     "output_type": "display_data"
    }
   ],
   "source": [
    "# Visualizinf the epistemic activities of the participants having good performance\n",
    "dims = (15, 6)\n",
    "fig, ax = plt.subplots(figsize=dims)\n",
    "\n",
    "ax = sns.histplot(x = 'case_assigned_to', data = df_merged_onehot[df_merged_onehot[\"case_assigned_to\"].isin(good_participant)] , multiple='dodge',\n",
    "             hue='EDA', palette=\"bright\", shrink=0.7 )\n",
    "ax.set(xlabel='Participant', ylabel='Number of steps in each EDA by participant', title = 'Participant and their cummulative number of steps in each Epistemic Activity')\n",
    "\n",
    "plt.show()"
   ]
  },
  {
   "cell_type": "code",
   "execution_count": 93,
   "metadata": {},
   "outputs": [
    {
     "data": {
      "image/png": "[encoded data removed]",
      "text/plain": [
       "<Figure size 720x432 with 1 Axes>"
      ]
     },
     "metadata": {
      "needs_background": "light"
     },
     "output_type": "display_data"
    }
   ],
   "source": [
    "# Visualizinf the epistemic activities of the participants having poor performance\n",
    "dims = (10, 6)\n",
    "fig, ax = plt.subplots(figsize=dims)\n",
    "\n",
    "ax = sns.histplot(x = 'case_assigned_to', data = df_merged_onehot[df_merged_onehot[\"case_assigned_to\"].isin(poor_participant)] , multiple='dodge',\n",
    "             hue='EDA', palette=\"bright\", shrink=0.7, common_norm = True )\n",
    "ax.set(xlabel='Participant', ylabel='Number of steps in each EDA by participant', title = 'Participant and their cummulative number of steps in each Epistemic Activity')\n",
    "\n",
    "plt.show()"
   ]
  },
  {
   "cell_type": "code",
   "execution_count": 94,
   "metadata": {},
   "outputs": [],
   "source": [
    "# df_goettlich = df_merged[(df_merged.case_assigned_to == 'Goettlich')]"
   ]
  },
  {
   "cell_type": "code",
   "execution_count": 95,
   "metadata": {},
   "outputs": [],
   "source": [
    "# df_goettlich['Solution_points'].value_counts()/df_goettlich['Solution_points'].count()*100"
   ]
  },
  {
   "cell_type": "code",
   "execution_count": 96,
   "metadata": {},
   "outputs": [],
   "source": [
    "# sns.histplot(x = 'EDA', data = df_goettlich , multiple='dodge',\n",
    "#              hue='Solution_points', hue_norm=(-1,1), palette='rainbow')\n",
    "# plt.show()\n"
   ]
  },
  {
   "cell_type": "code",
   "execution_count": 97,
   "metadata": {},
   "outputs": [],
   "source": [
    "# sns.barplot(wrong.index,wrong, data = (wrong), palette='viridis')\n",
    "# sns.barplot(correct.index,correct, data = (correct), palette='rainbow')\n",
    "# plt.xticks(\n",
    "#     rotation=45, \n",
    "#     horizontalalignment='right',\n",
    "#     fontweight='light',\n",
    "#     fontsize='x-large'  \n",
    "# )\n",
    "# plt.show()\n"
   ]
  },
  {
   "cell_type": "markdown",
   "metadata": {},
   "source": [
    "### Visualize Based on Solution points"
   ]
  },
  {
   "cell_type": "markdown",
   "metadata": {},
   "source": [
    "#### Giving column 'case_assigned_to' labels"
   ]
  },
  {
   "cell_type": "code",
   "execution_count": 98,
   "metadata": {},
   "outputs": [],
   "source": [
    "names = df_merged_onehot.case_assigned_to.unique().tolist()\n",
    "\n",
    "vals = [1, 2, 3, 4, 5]\n",
    "x = dict(zip(names, vals))\n",
    "\n",
    "\n",
    "df_merged_onehot.replace(x, inplace = True)\n"
   ]
  },
  {
   "cell_type": "code",
   "execution_count": 99,
   "metadata": {},
   "outputs": [
    {
     "data": {
      "text/plain": [
       "{'Goettlich': 1, 'Freundorf': 2, 'Binder': 3, 'Wenninger': 4, 'Schenker': 5}"
      ]
     },
     "execution_count": 99,
     "metadata": {},
     "output_type": "execute_result"
    }
   ],
   "source": [
    "# Labels for each name\n",
    "x"
   ]
  },
  {
   "cell_type": "code",
   "execution_count": 100,
   "metadata": {},
   "outputs": [
    {
     "data": {
      "text/html": [
       "<div>\n",
       "<style scoped>\n",
       "    .dataframe tbody tr th:only-of-type {\n",
       "        vertical-align: middle;\n",
       "    }\n",
       "\n",
       "    .dataframe tbody tr th {\n",
       "        vertical-align: top;\n",
       "    }\n",
       "\n",
       "    .dataframe thead th {\n",
       "        text-align: right;\n",
       "    }\n",
       "</style>\n",
       "<table border=\"1\" class=\"dataframe\">\n",
       "  <thead>\n",
       "    <tr style=\"text-align: right;\">\n",
       "      <th></th>\n",
       "      <th>PIN</th>\n",
       "      <th>Solution_points</th>\n",
       "      <th>case_assigned_to</th>\n",
       "      <th>timestamp</th>\n",
       "      <th>EDA</th>\n",
       "    </tr>\n",
       "  </thead>\n",
       "  <tbody>\n",
       "    <tr>\n",
       "      <th>7883</th>\n",
       "      <td>UBMC6CN</td>\n",
       "      <td>1.0</td>\n",
       "      <td>2</td>\n",
       "      <td>2018-05-16 11:15:54</td>\n",
       "      <td>4</td>\n",
       "    </tr>\n",
       "    <tr>\n",
       "      <th>22608</th>\n",
       "      <td>3CNLQ1T</td>\n",
       "      <td>1.0</td>\n",
       "      <td>4</td>\n",
       "      <td>2018-05-17 15:38:28</td>\n",
       "      <td>0</td>\n",
       "    </tr>\n",
       "    <tr>\n",
       "      <th>16938</th>\n",
       "      <td>36ZUJ33</td>\n",
       "      <td>1.0</td>\n",
       "      <td>3</td>\n",
       "      <td>2018-05-18 12:27:56</td>\n",
       "      <td>3</td>\n",
       "    </tr>\n",
       "    <tr>\n",
       "      <th>9669</th>\n",
       "      <td>4I4EI1O</td>\n",
       "      <td>1.0</td>\n",
       "      <td>2</td>\n",
       "      <td>2018-05-30 11:19:01</td>\n",
       "      <td>4</td>\n",
       "    </tr>\n",
       "    <tr>\n",
       "      <th>16526</th>\n",
       "      <td>27KVB2O</td>\n",
       "      <td>1.0</td>\n",
       "      <td>3</td>\n",
       "      <td>2018-05-28 08:13:49</td>\n",
       "      <td>3</td>\n",
       "    </tr>\n",
       "  </tbody>\n",
       "</table>\n",
       "</div>"
      ],
      "text/plain": [
       "           PIN  Solution_points  case_assigned_to           timestamp  EDA\n",
       "7883   UBMC6CN              1.0                 2 2018-05-16 11:15:54    4\n",
       "22608  3CNLQ1T              1.0                 4 2018-05-17 15:38:28    0\n",
       "16938  36ZUJ33              1.0                 3 2018-05-18 12:27:56    3\n",
       "9669   4I4EI1O              1.0                 2 2018-05-30 11:19:01    4\n",
       "16526  27KVB2O              1.0                 3 2018-05-28 08:13:49    3"
      ]
     },
     "execution_count": 100,
     "metadata": {},
     "output_type": "execute_result"
    }
   ],
   "source": [
    "df_merged_onehot.sample(5)"
   ]
  },
  {
   "cell_type": "code",
   "execution_count": 101,
   "metadata": {
    "scrolled": false
   },
   "outputs": [
    {
     "data": {
      "image/png": "[encoded data removed]",
      "text/plain": [
       "<Figure size 1080x432 with 1 Axes>"
      ]
     },
     "metadata": {
      "needs_background": "light"
     },
     "output_type": "display_data"
    }
   ],
   "source": [
    "# Comparing Number of each Epistemic activity with different correct and wrong solution \n",
    "\n",
    "a4_dims = (15, 6)\n",
    "fig, ax = plt.subplots(figsize=a4_dims)\n",
    "\n",
    "ax = sns.histplot(x = 'EDA', data = df_merged_onehot , multiple='dodge',\n",
    "             hue='Solution_points', palette=\"bright\", binwidth = 0.25)\n",
    "ax.set(xlabel='Epistemic Activity', ylabel='Number of steps in each EDA by all participant', title = 'Comparing Number of each Epistemic activity with different correct and wrong solution ')\n",
    "\n",
    "plt.show()"
   ]
  },
  {
   "cell_type": "markdown",
   "metadata": {},
   "source": [
    "### Exploring the timestamp"
   ]
  },
  {
   "cell_type": "code",
   "execution_count": 102,
   "metadata": {},
   "outputs": [],
   "source": [
    "df_merged_onehot['diff_timestamp'] = df_merged_onehot.groupby(['PIN', 'case_assigned_to'])['timestamp'].transform(pd.Series.diff).fillna(pd.Timedelta(seconds=0))"
   ]
  },
  {
   "cell_type": "code",
   "execution_count": 103,
   "metadata": {},
   "outputs": [],
   "source": [
    "df_merged_onehot['diff_seconds']  = df_merged_onehot['diff_timestamp'].apply(lambda x: x/np.timedelta64(1, 's')).fillna(0).astype('int64')"
   ]
  },
  {
   "cell_type": "code",
   "execution_count": 104,
   "metadata": {},
   "outputs": [],
   "source": [
    "# df_merged_onehot.drop(['diff_timestamp', 'timestamp'], axis = 1, inplace = True)"
   ]
  },
  {
   "cell_type": "code",
   "execution_count": 105,
   "metadata": {},
   "outputs": [
    {
     "data": {
      "text/html": [
       "<div>\n",
       "<style scoped>\n",
       "    .dataframe tbody tr th:only-of-type {\n",
       "        vertical-align: middle;\n",
       "    }\n",
       "\n",
       "    .dataframe tbody tr th {\n",
       "        vertical-align: top;\n",
       "    }\n",
       "\n",
       "    .dataframe thead th {\n",
       "        text-align: right;\n",
       "    }\n",
       "</style>\n",
       "<table border=\"1\" class=\"dataframe\">\n",
       "  <thead>\n",
       "    <tr style=\"text-align: right;\">\n",
       "      <th></th>\n",
       "      <th>PIN</th>\n",
       "      <th>Solution_points</th>\n",
       "      <th>case_assigned_to</th>\n",
       "      <th>timestamp</th>\n",
       "      <th>EDA</th>\n",
       "      <th>diff_timestamp</th>\n",
       "      <th>diff_seconds</th>\n",
       "    </tr>\n",
       "  </thead>\n",
       "  <tbody>\n",
       "    <tr>\n",
       "      <th>0</th>\n",
       "      <td>AEOGCR7</td>\n",
       "      <td>1.0</td>\n",
       "      <td>1</td>\n",
       "      <td>2018-05-08 15:12:22</td>\n",
       "      <td>1</td>\n",
       "      <td>0 days 00:00:00</td>\n",
       "      <td>0</td>\n",
       "    </tr>\n",
       "    <tr>\n",
       "      <th>1</th>\n",
       "      <td>AEOGCR7</td>\n",
       "      <td>1.0</td>\n",
       "      <td>1</td>\n",
       "      <td>2018-05-08 15:12:26</td>\n",
       "      <td>1</td>\n",
       "      <td>0 days 00:00:04</td>\n",
       "      <td>4</td>\n",
       "    </tr>\n",
       "    <tr>\n",
       "      <th>2</th>\n",
       "      <td>AEOGCR7</td>\n",
       "      <td>1.0</td>\n",
       "      <td>1</td>\n",
       "      <td>2018-05-08 15:12:52</td>\n",
       "      <td>1</td>\n",
       "      <td>0 days 00:00:26</td>\n",
       "      <td>26</td>\n",
       "    </tr>\n",
       "    <tr>\n",
       "      <th>3</th>\n",
       "      <td>AEOGCR7</td>\n",
       "      <td>1.0</td>\n",
       "      <td>1</td>\n",
       "      <td>2018-05-08 15:13:50</td>\n",
       "      <td>1</td>\n",
       "      <td>0 days 00:00:58</td>\n",
       "      <td>58</td>\n",
       "    </tr>\n",
       "    <tr>\n",
       "      <th>4</th>\n",
       "      <td>AEOGCR7</td>\n",
       "      <td>1.0</td>\n",
       "      <td>1</td>\n",
       "      <td>2018-05-08 15:14:05</td>\n",
       "      <td>1</td>\n",
       "      <td>0 days 00:00:15</td>\n",
       "      <td>15</td>\n",
       "    </tr>\n",
       "  </tbody>\n",
       "</table>\n",
       "</div>"
      ],
      "text/plain": [
       "       PIN  Solution_points  case_assigned_to           timestamp  EDA  \\\n",
       "0  AEOGCR7              1.0                 1 2018-05-08 15:12:22    1   \n",
       "1  AEOGCR7              1.0                 1 2018-05-08 15:12:26    1   \n",
       "2  AEOGCR7              1.0                 1 2018-05-08 15:12:52    1   \n",
       "3  AEOGCR7              1.0                 1 2018-05-08 15:13:50    1   \n",
       "4  AEOGCR7              1.0                 1 2018-05-08 15:14:05    1   \n",
       "\n",
       "   diff_timestamp  diff_seconds  \n",
       "0 0 days 00:00:00             0  \n",
       "1 0 days 00:00:04             4  \n",
       "2 0 days 00:00:26            26  \n",
       "3 0 days 00:00:58            58  \n",
       "4 0 days 00:00:15            15  "
      ]
     },
     "execution_count": 105,
     "metadata": {},
     "output_type": "execute_result"
    }
   ],
   "source": [
    "df_merged_onehot.head()"
   ]
  },
  {
   "cell_type": "code",
   "execution_count": 106,
   "metadata": {},
   "outputs": [
    {
     "data": {
      "text/html": [
       "<div>\n",
       "<style scoped>\n",
       "    .dataframe tbody tr th:only-of-type {\n",
       "        vertical-align: middle;\n",
       "    }\n",
       "\n",
       "    .dataframe tbody tr th {\n",
       "        vertical-align: top;\n",
       "    }\n",
       "\n",
       "    .dataframe thead th {\n",
       "        text-align: right;\n",
       "    }\n",
       "</style>\n",
       "<table border=\"1\" class=\"dataframe\">\n",
       "  <thead>\n",
       "    <tr style=\"text-align: right;\">\n",
       "      <th></th>\n",
       "      <th>PIN</th>\n",
       "      <th>Solution_points</th>\n",
       "      <th>case_assigned_to</th>\n",
       "      <th>timestamp</th>\n",
       "      <th>EDA</th>\n",
       "      <th>diff_timestamp</th>\n",
       "      <th>diff_seconds</th>\n",
       "    </tr>\n",
       "  </thead>\n",
       "  <tbody>\n",
       "    <tr>\n",
       "      <th>35516</th>\n",
       "      <td>1RN9U3A</td>\n",
       "      <td>0.0</td>\n",
       "      <td>3</td>\n",
       "      <td>2018-08-25 09:56:19</td>\n",
       "      <td>0</td>\n",
       "      <td>9 days 21:18:33</td>\n",
       "      <td>854313</td>\n",
       "    </tr>\n",
       "    <tr>\n",
       "      <th>38022</th>\n",
       "      <td>1RN9U3A</td>\n",
       "      <td>0.0</td>\n",
       "      <td>5</td>\n",
       "      <td>2018-08-25 09:57:03</td>\n",
       "      <td>0</td>\n",
       "      <td>9 days 21:04:28</td>\n",
       "      <td>853468</td>\n",
       "    </tr>\n",
       "  </tbody>\n",
       "</table>\n",
       "</div>"
      ],
      "text/plain": [
       "           PIN  Solution_points  case_assigned_to           timestamp  EDA  \\\n",
       "35516  1RN9U3A              0.0                 3 2018-08-25 09:56:19    0   \n",
       "38022  1RN9U3A              0.0                 5 2018-08-25 09:57:03    0   \n",
       "\n",
       "       diff_timestamp  diff_seconds  \n",
       "35516 9 days 21:18:33        854313  \n",
       "38022 9 days 21:04:28        853468  "
      ]
     },
     "execution_count": 106,
     "metadata": {},
     "output_type": "execute_result"
    }
   ],
   "source": [
    "df_merged_onehot[df_merged_onehot['diff_seconds'] > 5000]"
   ]
  },
  {
   "cell_type": "code",
   "execution_count": 107,
   "metadata": {},
   "outputs": [],
   "source": [
    "# dropping the outliers\n",
    "df_merged_onehot.drop(index = [35516,38022], inplace = True)"
   ]
  },
  {
   "cell_type": "code",
   "execution_count": 108,
   "metadata": {},
   "outputs": [
    {
     "data": {
      "text/html": [
       "<div>\n",
       "<style scoped>\n",
       "    .dataframe tbody tr th:only-of-type {\n",
       "        vertical-align: middle;\n",
       "    }\n",
       "\n",
       "    .dataframe tbody tr th {\n",
       "        vertical-align: top;\n",
       "    }\n",
       "\n",
       "    .dataframe thead th {\n",
       "        text-align: right;\n",
       "    }\n",
       "</style>\n",
       "<table border=\"1\" class=\"dataframe\">\n",
       "  <thead>\n",
       "    <tr style=\"text-align: right;\">\n",
       "      <th></th>\n",
       "      <th>PIN</th>\n",
       "      <th>Solution_points</th>\n",
       "      <th>case_assigned_to</th>\n",
       "      <th>timestamp</th>\n",
       "      <th>EDA</th>\n",
       "      <th>diff_timestamp</th>\n",
       "      <th>diff_seconds</th>\n",
       "    </tr>\n",
       "  </thead>\n",
       "  <tbody>\n",
       "  </tbody>\n",
       "</table>\n",
       "</div>"
      ],
      "text/plain": [
       "Empty DataFrame\n",
       "Columns: [PIN, Solution_points, case_assigned_to, timestamp, EDA, diff_timestamp, diff_seconds]\n",
       "Index: []"
      ]
     },
     "execution_count": 108,
     "metadata": {},
     "output_type": "execute_result"
    }
   ],
   "source": [
    "df_merged_onehot[df_merged_onehot['diff_seconds'] > 5000]"
   ]
  },
  {
   "cell_type": "code",
   "execution_count": 109,
   "metadata": {},
   "outputs": [],
   "source": [
    "df_merged_time = df_merged_onehot.groupby(['case_assigned_to','Solution_points'], as_index=False)[\"diff_seconds\"].sum() "
   ]
  },
  {
   "cell_type": "code",
   "execution_count": 110,
   "metadata": {},
   "outputs": [
    {
     "data": {
      "text/html": [
       "<div>\n",
       "<style scoped>\n",
       "    .dataframe tbody tr th:only-of-type {\n",
       "        vertical-align: middle;\n",
       "    }\n",
       "\n",
       "    .dataframe tbody tr th {\n",
       "        vertical-align: top;\n",
       "    }\n",
       "\n",
       "    .dataframe thead th {\n",
       "        text-align: right;\n",
       "    }\n",
       "</style>\n",
       "<table border=\"1\" class=\"dataframe\">\n",
       "  <thead>\n",
       "    <tr style=\"text-align: right;\">\n",
       "      <th></th>\n",
       "      <th>case_assigned_to</th>\n",
       "      <th>Solution_points</th>\n",
       "      <th>diff_seconds</th>\n",
       "    </tr>\n",
       "  </thead>\n",
       "  <tbody>\n",
       "    <tr>\n",
       "      <th>0</th>\n",
       "      <td>1</td>\n",
       "      <td>0.0</td>\n",
       "      <td>12594</td>\n",
       "    </tr>\n",
       "    <tr>\n",
       "      <th>1</th>\n",
       "      <td>1</td>\n",
       "      <td>1.0</td>\n",
       "      <td>71786</td>\n",
       "    </tr>\n",
       "    <tr>\n",
       "      <th>2</th>\n",
       "      <td>2</td>\n",
       "      <td>0.0</td>\n",
       "      <td>5109</td>\n",
       "    </tr>\n",
       "    <tr>\n",
       "      <th>3</th>\n",
       "      <td>2</td>\n",
       "      <td>1.0</td>\n",
       "      <td>78148</td>\n",
       "    </tr>\n",
       "    <tr>\n",
       "      <th>4</th>\n",
       "      <td>3</td>\n",
       "      <td>0.0</td>\n",
       "      <td>62511</td>\n",
       "    </tr>\n",
       "  </tbody>\n",
       "</table>\n",
       "</div>"
      ],
      "text/plain": [
       "   case_assigned_to  Solution_points  diff_seconds\n",
       "0                 1              0.0         12594\n",
       "1                 1              1.0         71786\n",
       "2                 2              0.0          5109\n",
       "3                 2              1.0         78148\n",
       "4                 3              0.0         62511"
      ]
     },
     "execution_count": 110,
     "metadata": {},
     "output_type": "execute_result"
    }
   ],
   "source": [
    "df_merged_time.head()"
   ]
  },
  {
   "cell_type": "code",
   "execution_count": 111,
   "metadata": {},
   "outputs": [
    {
     "data": {
      "image/png": "[encoded data removed]",
      "text/plain": [
       "<Figure size 864x432 with 1 Axes>"
      ]
     },
     "metadata": {
      "needs_background": "light"
     },
     "output_type": "display_data"
    }
   ],
   "source": [
    "# Comparing time spent on each problem (in seconds) by each participant with correct and wrong solution \n",
    "\n",
    "a4_dims = (12, 6)\n",
    "fig, ax = plt.subplots(figsize=a4_dims)\n",
    "\n",
    "ax = sns.barplot(x = 'case_assigned_to', y = \"diff_seconds\", data = df_merged_time , dodge=True,\n",
    "             hue='Solution_points', palette=\"bright\")\n",
    "ax.set(xlabel='Participant', ylabel='Total time spend on the problem in seconds', title = 'Comparing time spent on each problem (in seconds) by each participant with correct and wrong solution ')\n",
    "\n",
    "plt.show()"
   ]
  },
  {
   "cell_type": "code",
   "execution_count": 112,
   "metadata": {},
   "outputs": [],
   "source": [
    "df_merged_time_mean = df_merged_onehot.groupby(['case_assigned_to','Solution_points'], as_index=False)[\"diff_seconds\"].mean() "
   ]
  },
  {
   "cell_type": "code",
   "execution_count": 113,
   "metadata": {},
   "outputs": [
    {
     "data": {
      "image/png": "[encoded data removed]",
      "text/plain": [
       "<Figure size 864x432 with 1 Axes>"
      ]
     },
     "metadata": {
      "needs_background": "light"
     },
     "output_type": "display_data"
    }
   ],
   "source": [
    "# Comparing time difference between each step (in seconds) by each participant with correct and wrong solution'\n",
    "\n",
    "a4_dims = (12, 6)\n",
    "fig, ax = plt.subplots(figsize=a4_dims)\n",
    "\n",
    "ax = sns.barplot(x = 'case_assigned_to', y = \"diff_seconds\", data = df_merged_time_mean , dodge=True,\n",
    "             hue='Solution_points', palette=\"bright\")\n",
    "ax.set(xlabel='Participant', ylabel='Time in seconds', title='Comparing time difference between each step (in seconds) by each participant with correct and wrong solution')\n",
    "\n",
    "plt.show()"
   ]
  },
  {
   "cell_type": "code",
   "execution_count": 115,
   "metadata": {},
   "outputs": [],
   "source": [
    "start_time = df_merged_onehot.groupby(['PIN','case_assigned_to'], sort = False)['timestamp'].head(1).tolist()"
   ]
  },
  {
   "cell_type": "code",
   "execution_count": 117,
   "metadata": {},
   "outputs": [],
   "source": [
    "stop_time = df_merged_onehot.groupby(['PIN','case_assigned_to'],  sort = False)['timestamp'].tail(1).tolist()"
   ]
  },
  {
   "cell_type": "code",
   "execution_count": 120,
   "metadata": {},
   "outputs": [
    {
     "data": {
      "text/html": [
       "<div>\n",
       "<style scoped>\n",
       "    .dataframe tbody tr th:only-of-type {\n",
       "        vertical-align: middle;\n",
       "    }\n",
       "\n",
       "    .dataframe tbody tr th {\n",
       "        vertical-align: top;\n",
       "    }\n",
       "\n",
       "    .dataframe thead th {\n",
       "        text-align: right;\n",
       "    }\n",
       "</style>\n",
       "<table border=\"1\" class=\"dataframe\">\n",
       "  <thead>\n",
       "    <tr style=\"text-align: right;\">\n",
       "      <th></th>\n",
       "      <th>PIN</th>\n",
       "      <th>case_assigned_to</th>\n",
       "    </tr>\n",
       "  </thead>\n",
       "  <tbody>\n",
       "    <tr>\n",
       "      <th>0</th>\n",
       "      <td>AEOGCR7</td>\n",
       "      <td>1</td>\n",
       "    </tr>\n",
       "    <tr>\n",
       "      <th>1</th>\n",
       "      <td>AKVVO8S</td>\n",
       "      <td>1</td>\n",
       "    </tr>\n",
       "    <tr>\n",
       "      <th>2</th>\n",
       "      <td>A75J1OO</td>\n",
       "      <td>1</td>\n",
       "    </tr>\n",
       "    <tr>\n",
       "      <th>3</th>\n",
       "      <td>BPDREJD</td>\n",
       "      <td>1</td>\n",
       "    </tr>\n",
       "    <tr>\n",
       "      <th>4</th>\n",
       "      <td>BQLTZM2</td>\n",
       "      <td>1</td>\n",
       "    </tr>\n",
       "  </tbody>\n",
       "</table>\n",
       "</div>"
      ],
      "text/plain": [
       "       PIN  case_assigned_to\n",
       "0  AEOGCR7                 1\n",
       "1  AKVVO8S                 1\n",
       "2  A75J1OO                 1\n",
       "3  BPDREJD                 1\n",
       "4  BQLTZM2                 1"
      ]
     },
     "execution_count": 120,
     "metadata": {},
     "output_type": "execute_result"
    }
   ],
   "source": [
    "new_df = pd.DataFrame(df_merged_onehot.groupby(['PIN','case_assigned_to'],  sort = False).size().reset_index())\n",
    "new_df.drop(0,1, inplace = True)\n",
    "new_df.head()"
   ]
  },
  {
   "cell_type": "code",
   "execution_count": 121,
   "metadata": {},
   "outputs": [],
   "source": [
    "new_df['start_time'] = start_time\n",
    "new_df['stop_time'] = stop_time\n",
    "new_df['time_spent'] = new_df['stop_time'] - new_df['start_time']"
   ]
  },
  {
   "cell_type": "code",
   "execution_count": 126,
   "metadata": {},
   "outputs": [],
   "source": [
    "new_df['result'] = df_merged_onehot.groupby(['PIN','case_assigned_to'], sort = False)['Solution_points'].min().tolist()"
   ]
  },
  {
   "cell_type": "code",
   "execution_count": 124,
   "metadata": {},
   "outputs": [
    {
     "data": {
      "text/html": [
       "<div>\n",
       "<style scoped>\n",
       "    .dataframe tbody tr th:only-of-type {\n",
       "        vertical-align: middle;\n",
       "    }\n",
       "\n",
       "    .dataframe tbody tr th {\n",
       "        vertical-align: top;\n",
       "    }\n",
       "\n",
       "    .dataframe thead th {\n",
       "        text-align: right;\n",
       "    }\n",
       "</style>\n",
       "<table border=\"1\" class=\"dataframe\">\n",
       "  <thead>\n",
       "    <tr style=\"text-align: right;\">\n",
       "      <th></th>\n",
       "      <th>PIN</th>\n",
       "      <th>case_assigned_to</th>\n",
       "      <th>start_time</th>\n",
       "      <th>stop_time</th>\n",
       "      <th>time_spent</th>\n",
       "      <th>timespent_seconds</th>\n",
       "    </tr>\n",
       "  </thead>\n",
       "  <tbody>\n",
       "    <tr>\n",
       "      <th>0</th>\n",
       "      <td>AEOGCR7</td>\n",
       "      <td>1</td>\n",
       "      <td>2018-05-08 15:12:22</td>\n",
       "      <td>2018-05-08 15:32:43</td>\n",
       "      <td>0 days 00:20:21</td>\n",
       "      <td>1221</td>\n",
       "    </tr>\n",
       "    <tr>\n",
       "      <th>1</th>\n",
       "      <td>AKVVO8S</td>\n",
       "      <td>1</td>\n",
       "      <td>2018-05-09 07:01:14</td>\n",
       "      <td>2018-05-09 07:23:59</td>\n",
       "      <td>0 days 00:22:45</td>\n",
       "      <td>1365</td>\n",
       "    </tr>\n",
       "    <tr>\n",
       "      <th>2</th>\n",
       "      <td>A75J1OO</td>\n",
       "      <td>1</td>\n",
       "      <td>2018-05-11 07:12:33</td>\n",
       "      <td>2018-05-11 07:38:08</td>\n",
       "      <td>0 days 00:25:35</td>\n",
       "      <td>1535</td>\n",
       "    </tr>\n",
       "    <tr>\n",
       "      <th>3</th>\n",
       "      <td>BPDREJD</td>\n",
       "      <td>1</td>\n",
       "      <td>2018-05-11 14:56:22</td>\n",
       "      <td>2018-05-11 15:10:34</td>\n",
       "      <td>0 days 00:14:12</td>\n",
       "      <td>852</td>\n",
       "    </tr>\n",
       "    <tr>\n",
       "      <th>4</th>\n",
       "      <td>BQLTZM2</td>\n",
       "      <td>1</td>\n",
       "      <td>2018-05-11 11:00:58</td>\n",
       "      <td>2018-05-11 11:19:16</td>\n",
       "      <td>0 days 00:18:18</td>\n",
       "      <td>1098</td>\n",
       "    </tr>\n",
       "  </tbody>\n",
       "</table>\n",
       "</div>"
      ],
      "text/plain": [
       "       PIN  case_assigned_to          start_time           stop_time  \\\n",
       "0  AEOGCR7                 1 2018-05-08 15:12:22 2018-05-08 15:32:43   \n",
       "1  AKVVO8S                 1 2018-05-09 07:01:14 2018-05-09 07:23:59   \n",
       "2  A75J1OO                 1 2018-05-11 07:12:33 2018-05-11 07:38:08   \n",
       "3  BPDREJD                 1 2018-05-11 14:56:22 2018-05-11 15:10:34   \n",
       "4  BQLTZM2                 1 2018-05-11 11:00:58 2018-05-11 11:19:16   \n",
       "\n",
       "       time_spent  timespent_seconds  \n",
       "0 0 days 00:20:21               1221  \n",
       "1 0 days 00:22:45               1365  \n",
       "2 0 days 00:25:35               1535  \n",
       "3 0 days 00:14:12                852  \n",
       "4 0 days 00:18:18               1098  "
      ]
     },
     "execution_count": 124,
     "metadata": {},
     "output_type": "execute_result"
    }
   ],
   "source": [
    "new_df['timespent_seconds'] = new_df['time_spent'].apply(lambda x: x/np.timedelta64(1, 's')).fillna(0).astype('int64')"
   ]
  },
  {
   "cell_type": "code",
   "execution_count": 127,
   "metadata": {},
   "outputs": [
    {
     "data": {
      "text/html": [
       "<div>\n",
       "<style scoped>\n",
       "    .dataframe tbody tr th:only-of-type {\n",
       "        vertical-align: middle;\n",
       "    }\n",
       "\n",
       "    .dataframe tbody tr th {\n",
       "        vertical-align: top;\n",
       "    }\n",
       "\n",
       "    .dataframe thead th {\n",
       "        text-align: right;\n",
       "    }\n",
       "</style>\n",
       "<table border=\"1\" class=\"dataframe\">\n",
       "  <thead>\n",
       "    <tr style=\"text-align: right;\">\n",
       "      <th></th>\n",
       "      <th>PIN</th>\n",
       "      <th>case_assigned_to</th>\n",
       "      <th>start_time</th>\n",
       "      <th>stop_time</th>\n",
       "      <th>time_spent</th>\n",
       "      <th>timespent_seconds</th>\n",
       "      <th>result</th>\n",
       "    </tr>\n",
       "  </thead>\n",
       "  <tbody>\n",
       "    <tr>\n",
       "      <th>0</th>\n",
       "      <td>AEOGCR7</td>\n",
       "      <td>1</td>\n",
       "      <td>2018-05-08 15:12:22</td>\n",
       "      <td>2018-05-08 15:32:43</td>\n",
       "      <td>0 days 00:20:21</td>\n",
       "      <td>1221</td>\n",
       "      <td>1.0</td>\n",
       "    </tr>\n",
       "    <tr>\n",
       "      <th>1</th>\n",
       "      <td>AKVVO8S</td>\n",
       "      <td>1</td>\n",
       "      <td>2018-05-09 07:01:14</td>\n",
       "      <td>2018-05-09 07:23:59</td>\n",
       "      <td>0 days 00:22:45</td>\n",
       "      <td>1365</td>\n",
       "      <td>1.0</td>\n",
       "    </tr>\n",
       "    <tr>\n",
       "      <th>2</th>\n",
       "      <td>A75J1OO</td>\n",
       "      <td>1</td>\n",
       "      <td>2018-05-11 07:12:33</td>\n",
       "      <td>2018-05-11 07:38:08</td>\n",
       "      <td>0 days 00:25:35</td>\n",
       "      <td>1535</td>\n",
       "      <td>1.0</td>\n",
       "    </tr>\n",
       "    <tr>\n",
       "      <th>3</th>\n",
       "      <td>BPDREJD</td>\n",
       "      <td>1</td>\n",
       "      <td>2018-05-11 14:56:22</td>\n",
       "      <td>2018-05-11 15:10:34</td>\n",
       "      <td>0 days 00:14:12</td>\n",
       "      <td>852</td>\n",
       "      <td>1.0</td>\n",
       "    </tr>\n",
       "    <tr>\n",
       "      <th>4</th>\n",
       "      <td>BQLTZM2</td>\n",
       "      <td>1</td>\n",
       "      <td>2018-05-11 11:00:58</td>\n",
       "      <td>2018-05-11 11:19:16</td>\n",
       "      <td>0 days 00:18:18</td>\n",
       "      <td>1098</td>\n",
       "      <td>0.0</td>\n",
       "    </tr>\n",
       "  </tbody>\n",
       "</table>\n",
       "</div>"
      ],
      "text/plain": [
       "       PIN  case_assigned_to          start_time           stop_time  \\\n",
       "0  AEOGCR7                 1 2018-05-08 15:12:22 2018-05-08 15:32:43   \n",
       "1  AKVVO8S                 1 2018-05-09 07:01:14 2018-05-09 07:23:59   \n",
       "2  A75J1OO                 1 2018-05-11 07:12:33 2018-05-11 07:38:08   \n",
       "3  BPDREJD                 1 2018-05-11 14:56:22 2018-05-11 15:10:34   \n",
       "4  BQLTZM2                 1 2018-05-11 11:00:58 2018-05-11 11:19:16   \n",
       "\n",
       "       time_spent  timespent_seconds  result  \n",
       "0 0 days 00:20:21               1221     1.0  \n",
       "1 0 days 00:22:45               1365     1.0  \n",
       "2 0 days 00:25:35               1535     1.0  \n",
       "3 0 days 00:14:12                852     1.0  \n",
       "4 0 days 00:18:18               1098     0.0  "
      ]
     },
     "execution_count": 127,
     "metadata": {},
     "output_type": "execute_result"
    }
   ],
   "source": [
    "new_df.head()"
   ]
  },
  {
   "cell_type": "code",
   "execution_count": 134,
   "metadata": {},
   "outputs": [
    {
     "data": {
      "text/html": [
       "<div>\n",
       "<style scoped>\n",
       "    .dataframe tbody tr th:only-of-type {\n",
       "        vertical-align: middle;\n",
       "    }\n",
       "\n",
       "    .dataframe tbody tr th {\n",
       "        vertical-align: top;\n",
       "    }\n",
       "\n",
       "    .dataframe thead th {\n",
       "        text-align: right;\n",
       "    }\n",
       "</style>\n",
       "<table border=\"1\" class=\"dataframe\">\n",
       "  <thead>\n",
       "    <tr style=\"text-align: right;\">\n",
       "      <th></th>\n",
       "      <th>PIN</th>\n",
       "      <th>case_assigned_to</th>\n",
       "      <th>start_time</th>\n",
       "      <th>stop_time</th>\n",
       "      <th>time_spent</th>\n",
       "      <th>timespent_seconds</th>\n",
       "      <th>result</th>\n",
       "    </tr>\n",
       "  </thead>\n",
       "  <tbody>\n",
       "    <tr>\n",
       "      <th>428</th>\n",
       "      <td>1RN9U3A</td>\n",
       "      <td>3</td>\n",
       "      <td>2018-08-15 12:27:20</td>\n",
       "      <td>2018-08-25 09:56:40</td>\n",
       "      <td>9 days 21:29:20</td>\n",
       "      <td>854960</td>\n",
       "      <td>0.0</td>\n",
       "    </tr>\n",
       "  </tbody>\n",
       "</table>\n",
       "</div>"
      ],
      "text/plain": [
       "         PIN  case_assigned_to          start_time           stop_time  \\\n",
       "428  1RN9U3A                 3 2018-08-15 12:27:20 2018-08-25 09:56:40   \n",
       "\n",
       "         time_spent  timespent_seconds  result  \n",
       "428 9 days 21:29:20             854960     0.0  "
      ]
     },
     "execution_count": 134,
     "metadata": {},
     "output_type": "execute_result"
    }
   ],
   "source": [
    "new_df[new_df['timespent_seconds'] > 3000]"
   ]
  },
  {
   "cell_type": "code",
   "execution_count": 135,
   "metadata": {},
   "outputs": [],
   "source": [
    "new_df.drop(index = 428, inplace = True)"
   ]
  },
  {
   "cell_type": "code",
   "execution_count": 137,
   "metadata": {},
   "outputs": [
    {
     "data": {
      "image/png": "[encoded data removed]",
      "text/plain": [
       "<Figure size 864x432 with 1 Axes>"
      ]
     },
     "metadata": {
      "needs_background": "light"
     },
     "output_type": "display_data"
    }
   ],
   "source": [
    "# Comparing time difference between each step (in seconds) by each participant with correct and wrong solution'\n",
    "\n",
    "a4_dims = (12, 6)\n",
    "fig, ax = plt.subplots(figsize=a4_dims)\n",
    "\n",
    "ax = sns.barplot(x = 'case_assigned_to', y = \"timespent_seconds\", data = new_df , dodge=True,\n",
    "             hue='result', palette=\"bright\")\n",
    "ax.set(xlabel='Participant', ylabel='Time in seconds', title='Comparing time taken(in seconds) by each participant with correct and wrong solution')\n",
    "\n",
    "plt.show()"
   ]
  },
  {
   "cell_type": "markdown",
   "metadata": {},
   "source": [
    "### Findings till now\n",
    "1. About participants\n",
    "    - Geottlich r: 80, p: 10 w: -------avg\n",
    "    - Freundorf r: 86, p: 2  w:4 ------avg\n",
    "    - Binder r: 58, p: 0 w:37 ---------- poor\n",
    "    - Wenninger r: 95, p: 3 w:0 -------best\n",
    "    - Schenker r: 12, p: 33 w:47 ----------------worst\n",
    "       \n",
    "    \n",
    "2. Every participant has a way of approaching problem and the right and wrong outcome only slightly differs from each other\n",
    "3. Exploring the timestamp data reveals\n",
    "    - if participant knows the solution it takes precise steps - takes less time to reach the conclusion\n",
    "    - CEE is generally more when the participant is confused \n",
    "    - if participant doesnt know the solution it takes steps which are not defined under the EDA"
   ]
  },
  {
   "cell_type": "markdown",
   "metadata": {},
   "source": [
    "**Understood the about epistemic activities and labelled them**\n",
    "- iEE = Problem Identification - 1\n",
    "- EG = Evidence Generation - 2\n",
    "- cEE = Evidence evaluation - 3\n",
    "- CHG = - Hypothesis Generation - 4\n",
    "- DC = Drawing conclusion - 5\n",
    "- none = - 0"
   ]
  },
  {
   "cell_type": "markdown",
   "metadata": {},
   "source": []
  },
  {
   "cell_type": "code",
   "execution_count": null,
   "metadata": {},
   "outputs": [],
   "source": [
    "# determining the name of the file\n",
    "file_name = 'Merged_onehot_new.xlsx'\n",
    "  \n",
    "# saving the excel\n",
    "df_merged_onehot.to_excel(file_name)"
   ]
  }
 ],
 "metadata": {
  "kernelspec": {
   "display_name": "Python 3",
   "language": "python",
   "name": "python3"
  },
  "language_info": {
   "codemirror_mode": {
    "name": "ipython",
    "version": 3
   },
   "file_extension": ".py",
   "mimetype": "text/x-python",
   "name": "python",
   "nbconvert_exporter": "python",
   "pygments_lexer": "ipython3",
   "version": "3.8.5"
  }
 },
 "nbformat": 4,
 "nbformat_minor": 4
}
