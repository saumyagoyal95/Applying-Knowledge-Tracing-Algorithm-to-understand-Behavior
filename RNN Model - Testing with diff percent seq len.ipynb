{
 "cells": [
  {
   "cell_type": "code",
   "execution_count": 1,
   "metadata": {},
   "outputs": [],
   "source": [
    "import numpy as np\n",
    "import pandas as pd\n",
    "import matplotlib.pyplot as plt\n",
    "\n",
    "import random\n",
    "\n",
    "\n",
    "import torch\n",
    "\n",
    "# For tensorboard\n",
    "import time\n",
    "from torch.utils.tensorboard import SummaryWriter\n"
   ]
  },
  {
   "cell_type": "code",
   "execution_count": 2,
   "metadata": {},
   "outputs": [],
   "source": [
    "# time and sequence LSTM and try"
   ]
  },
  {
   "cell_type": "markdown",
   "metadata": {},
   "source": [
    "### Formulating question\n",
    "can with only 40 percent of the steps - > you can predict if the question will be answered correctly? (midway feedback)\n",
    "\n",
    "`input : |0.4*sequence |0.4*time|`<br>\n",
    "`output : correct or not`"
   ]
  },
  {
   "cell_type": "markdown",
   "metadata": {},
   "source": [
    "### Columns present - \n",
    "PIN | case_assigned_to | start_time | end_time | time_spent | steps_EDA_1 | time_spent_EDA1 | .... | result"
   ]
  },
  {
   "cell_type": "code",
   "execution_count": 3,
   "metadata": {},
   "outputs": [],
   "source": [
    "df = pd.read_excel('../data/timestamp_data.xlsx')"
   ]
  },
  {
   "cell_type": "code",
   "execution_count": 4,
   "metadata": {},
   "outputs": [],
   "source": [
    "# Drop unwanted column because of excel\n",
    "df.drop('Unnamed: 0', 1, inplace = True)"
   ]
  },
  {
   "cell_type": "code",
   "execution_count": 5,
   "metadata": {},
   "outputs": [
    {
     "data": {
      "text/html": [
       "<div>\n",
       "<style scoped>\n",
       "    .dataframe tbody tr th:only-of-type {\n",
       "        vertical-align: middle;\n",
       "    }\n",
       "\n",
       "    .dataframe tbody tr th {\n",
       "        vertical-align: top;\n",
       "    }\n",
       "\n",
       "    .dataframe thead th {\n",
       "        text-align: right;\n",
       "    }\n",
       "</style>\n",
       "<table border=\"1\" class=\"dataframe\">\n",
       "  <thead>\n",
       "    <tr style=\"text-align: right;\">\n",
       "      <th></th>\n",
       "      <th>PIN</th>\n",
       "      <th>Solution_points</th>\n",
       "      <th>case_assigned_to</th>\n",
       "      <th>timestamp</th>\n",
       "      <th>EDA</th>\n",
       "      <th>date</th>\n",
       "      <th>day</th>\n",
       "      <th>month</th>\n",
       "      <th>year</th>\n",
       "      <th>dayofweek</th>\n",
       "      <th>week</th>\n",
       "      <th>time</th>\n",
       "      <th>hour</th>\n",
       "      <th>minute</th>\n",
       "      <th>seconds</th>\n",
       "      <th>diff_timestamp</th>\n",
       "      <th>diff_minutes</th>\n",
       "      <th>diff_seconds</th>\n",
       "    </tr>\n",
       "  </thead>\n",
       "  <tbody>\n",
       "    <tr>\n",
       "      <th>0</th>\n",
       "      <td>AEOGCR7</td>\n",
       "      <td>1</td>\n",
       "      <td>1</td>\n",
       "      <td>2018-05-08 15:12:22</td>\n",
       "      <td>1</td>\n",
       "      <td>2018-05-08</td>\n",
       "      <td>8</td>\n",
       "      <td>5</td>\n",
       "      <td>2018</td>\n",
       "      <td>1</td>\n",
       "      <td>19</td>\n",
       "      <td>15:12:22</td>\n",
       "      <td>15</td>\n",
       "      <td>12</td>\n",
       "      <td>22</td>\n",
       "      <td>0.000000</td>\n",
       "      <td>0</td>\n",
       "      <td>0</td>\n",
       "    </tr>\n",
       "    <tr>\n",
       "      <th>1</th>\n",
       "      <td>AEOGCR7</td>\n",
       "      <td>1</td>\n",
       "      <td>1</td>\n",
       "      <td>2018-05-08 15:12:26</td>\n",
       "      <td>1</td>\n",
       "      <td>2018-05-08</td>\n",
       "      <td>8</td>\n",
       "      <td>5</td>\n",
       "      <td>2018</td>\n",
       "      <td>1</td>\n",
       "      <td>19</td>\n",
       "      <td>15:12:26</td>\n",
       "      <td>15</td>\n",
       "      <td>12</td>\n",
       "      <td>26</td>\n",
       "      <td>0.000046</td>\n",
       "      <td>0</td>\n",
       "      <td>4</td>\n",
       "    </tr>\n",
       "  </tbody>\n",
       "</table>\n",
       "</div>"
      ],
      "text/plain": [
       "       PIN  Solution_points  case_assigned_to           timestamp  EDA  \\\n",
       "0  AEOGCR7                1                 1 2018-05-08 15:12:22    1   \n",
       "1  AEOGCR7                1                 1 2018-05-08 15:12:26    1   \n",
       "\n",
       "        date  day  month  year  dayofweek  week      time  hour  minute  \\\n",
       "0 2018-05-08    8      5  2018          1    19  15:12:22    15      12   \n",
       "1 2018-05-08    8      5  2018          1    19  15:12:26    15      12   \n",
       "\n",
       "   seconds  diff_timestamp  diff_minutes  diff_seconds  \n",
       "0       22        0.000000             0             0  \n",
       "1       26        0.000046             0             4  "
      ]
     },
     "execution_count": 5,
     "metadata": {},
     "output_type": "execute_result"
    }
   ],
   "source": [
    "df.head(2)"
   ]
  },
  {
   "cell_type": "code",
   "execution_count": 6,
   "metadata": {},
   "outputs": [],
   "source": [
    "drop_cols = ['time','date','day','month','year','dayofweek','week','hour','minute','seconds','diff_timestamp','diff_minutes']\n",
    "df.drop(drop_cols, 1, inplace = True)"
   ]
  },
  {
   "cell_type": "code",
   "execution_count": 7,
   "metadata": {},
   "outputs": [
    {
     "data": {
      "text/html": [
       "<div>\n",
       "<style scoped>\n",
       "    .dataframe tbody tr th:only-of-type {\n",
       "        vertical-align: middle;\n",
       "    }\n",
       "\n",
       "    .dataframe tbody tr th {\n",
       "        vertical-align: top;\n",
       "    }\n",
       "\n",
       "    .dataframe thead th {\n",
       "        text-align: right;\n",
       "    }\n",
       "</style>\n",
       "<table border=\"1\" class=\"dataframe\">\n",
       "  <thead>\n",
       "    <tr style=\"text-align: right;\">\n",
       "      <th></th>\n",
       "      <th>PIN</th>\n",
       "      <th>Solution_points</th>\n",
       "      <th>case_assigned_to</th>\n",
       "      <th>timestamp</th>\n",
       "      <th>EDA</th>\n",
       "      <th>diff_seconds</th>\n",
       "    </tr>\n",
       "  </thead>\n",
       "  <tbody>\n",
       "    <tr>\n",
       "      <th>0</th>\n",
       "      <td>AEOGCR7</td>\n",
       "      <td>1</td>\n",
       "      <td>1</td>\n",
       "      <td>2018-05-08 15:12:22</td>\n",
       "      <td>1</td>\n",
       "      <td>0</td>\n",
       "    </tr>\n",
       "    <tr>\n",
       "      <th>1</th>\n",
       "      <td>AEOGCR7</td>\n",
       "      <td>1</td>\n",
       "      <td>1</td>\n",
       "      <td>2018-05-08 15:12:26</td>\n",
       "      <td>1</td>\n",
       "      <td>4</td>\n",
       "    </tr>\n",
       "    <tr>\n",
       "      <th>2</th>\n",
       "      <td>AEOGCR7</td>\n",
       "      <td>1</td>\n",
       "      <td>1</td>\n",
       "      <td>2018-05-08 15:12:52</td>\n",
       "      <td>1</td>\n",
       "      <td>26</td>\n",
       "    </tr>\n",
       "    <tr>\n",
       "      <th>3</th>\n",
       "      <td>AEOGCR7</td>\n",
       "      <td>1</td>\n",
       "      <td>1</td>\n",
       "      <td>2018-05-08 15:13:50</td>\n",
       "      <td>1</td>\n",
       "      <td>58</td>\n",
       "    </tr>\n",
       "    <tr>\n",
       "      <th>4</th>\n",
       "      <td>AEOGCR7</td>\n",
       "      <td>1</td>\n",
       "      <td>1</td>\n",
       "      <td>2018-05-08 15:14:05</td>\n",
       "      <td>1</td>\n",
       "      <td>15</td>\n",
       "    </tr>\n",
       "  </tbody>\n",
       "</table>\n",
       "</div>"
      ],
      "text/plain": [
       "       PIN  Solution_points  case_assigned_to           timestamp  EDA  \\\n",
       "0  AEOGCR7                1                 1 2018-05-08 15:12:22    1   \n",
       "1  AEOGCR7                1                 1 2018-05-08 15:12:26    1   \n",
       "2  AEOGCR7                1                 1 2018-05-08 15:12:52    1   \n",
       "3  AEOGCR7                1                 1 2018-05-08 15:13:50    1   \n",
       "4  AEOGCR7                1                 1 2018-05-08 15:14:05    1   \n",
       "\n",
       "   diff_seconds  \n",
       "0             0  \n",
       "1             4  \n",
       "2            26  \n",
       "3            58  \n",
       "4            15  "
      ]
     },
     "execution_count": 7,
     "metadata": {},
     "output_type": "execute_result"
    }
   ],
   "source": [
    "df.head()"
   ]
  },
  {
   "cell_type": "code",
   "execution_count": 8,
   "metadata": {},
   "outputs": [],
   "source": [
    "pin = []\n",
    "case_assigned = []\n",
    "seq = []\n",
    "time_diff = []\n",
    "\n",
    "for i in (df.groupby(['PIN','case_assigned_to'])):\n",
    "    #print(i[0][0], i[0][1], i[1]['EDA'])\n",
    "    pin.append(i[0][0])\n",
    "    case_assigned.append(i[0][1])\n",
    "    seq.append(i[1]['EDA'].tolist())\n",
    "    time_diff.append(i[1]['diff_seconds'].tolist())"
   ]
  },
  {
   "cell_type": "code",
   "execution_count": 9,
   "metadata": {},
   "outputs": [
    {
     "data": {
      "text/plain": [
       "(330, 23, 78.47741935483872)"
      ]
     },
     "execution_count": 9,
     "metadata": {},
     "output_type": "execute_result"
    }
   ],
   "source": [
    "# finding the max sequence length 330 and 23, avg = 78 we take 30 we cover 455\n",
    "x = []\n",
    "\n",
    "for i in seq:\n",
    "    x.append(len(i))\n",
    "    \n",
    "import math\n",
    "\n",
    "max(x), min(x), sum(x)/len(x)"
   ]
  },
  {
   "cell_type": "code",
   "execution_count": 10,
   "metadata": {},
   "outputs": [],
   "source": [
    "df_seq = pd.DataFrame({'PIN': pin, 'case_assigned_to': case_assigned, 'Sequence': seq, 'time_diff': time_diff})"
   ]
  },
  {
   "cell_type": "code",
   "execution_count": 11,
   "metadata": {},
   "outputs": [],
   "source": [
    "df2 = pd.read_excel(\"../data/wide_data.xlsx\")"
   ]
  },
  {
   "cell_type": "code",
   "execution_count": 12,
   "metadata": {},
   "outputs": [],
   "source": [
    "# Drop unwanted column because of excel\n",
    "df2.drop('Unnamed: 0', 1, inplace = True)"
   ]
  },
  {
   "cell_type": "code",
   "execution_count": 13,
   "metadata": {},
   "outputs": [
    {
     "data": {
      "text/plain": [
       "(465, 18)"
      ]
     },
     "execution_count": 13,
     "metadata": {},
     "output_type": "execute_result"
    }
   ],
   "source": [
    "df2.shape"
   ]
  },
  {
   "cell_type": "code",
   "execution_count": 14,
   "metadata": {},
   "outputs": [],
   "source": [
    "new_df = pd.merge(df2, df_seq,how='left', \n",
    "                     left_on=('PIN','case_assigned_to'), right_on=('PIN','case_assigned_to'))"
   ]
  },
  {
   "cell_type": "code",
   "execution_count": 15,
   "metadata": {},
   "outputs": [
    {
     "data": {
      "text/plain": [
       "Index(['PIN', 'case_assigned_to', 'start_time', 'stop_time', 'time_spent',\n",
       "       'steps_EDA_0', 'steps_EDA_1', 'steps_EDA_2', 'steps_EDA_3',\n",
       "       'steps_EDA_4', 'steps_EDA_5', 'timespent_EDA_0', 'timespent_EDA_1',\n",
       "       'timespent_EDA_2', 'timespent_EDA_3', 'timespent_EDA_4',\n",
       "       'timespent_EDA_5', 'result', 'Sequence', 'time_diff'],\n",
       "      dtype='object')"
      ]
     },
     "execution_count": 15,
     "metadata": {},
     "output_type": "execute_result"
    }
   ],
   "source": [
    "new_df.columns"
   ]
  },
  {
   "cell_type": "code",
   "execution_count": 16,
   "metadata": {},
   "outputs": [],
   "source": [
    "# new_df['Time_taken_min'] = (new_df['stop_time']-new_df['start_time']).apply(lambda x: x/np.timedelta64(1, 's')).fillna(0).astype('int64')"
   ]
  },
  {
   "cell_type": "code",
   "execution_count": 17,
   "metadata": {},
   "outputs": [],
   "source": [
    "new_df2 = new_df.loc[:,['Sequence','time_diff', 'result']]"
   ]
  },
  {
   "cell_type": "code",
   "execution_count": 18,
   "metadata": {},
   "outputs": [],
   "source": [
    "# (new_df2[new_df2['Time_taken_min']>3000])\n"
   ]
  },
  {
   "cell_type": "code",
   "execution_count": 19,
   "metadata": {},
   "outputs": [],
   "source": [
    "# new_df2.drop(index = [428,461], axis = 0, inplace = True)"
   ]
  },
  {
   "cell_type": "code",
   "execution_count": 20,
   "metadata": {},
   "outputs": [],
   "source": [
    "# new_df2 = new_df2[new_df2['Sequence'].map(lambda x: len(x) >= 30)]"
   ]
  },
  {
   "cell_type": "code",
   "execution_count": 21,
   "metadata": {},
   "outputs": [],
   "source": [
    "# new_df2['Sequence'].map(lambda x: len(x)).max()"
   ]
  },
  {
   "cell_type": "code",
   "execution_count": 22,
   "metadata": {},
   "outputs": [
    {
     "data": {
      "text/html": [
       "<div>\n",
       "<style scoped>\n",
       "    .dataframe tbody tr th:only-of-type {\n",
       "        vertical-align: middle;\n",
       "    }\n",
       "\n",
       "    .dataframe tbody tr th {\n",
       "        vertical-align: top;\n",
       "    }\n",
       "\n",
       "    .dataframe thead th {\n",
       "        text-align: right;\n",
       "    }\n",
       "</style>\n",
       "<table border=\"1\" class=\"dataframe\">\n",
       "  <thead>\n",
       "    <tr style=\"text-align: right;\">\n",
       "      <th></th>\n",
       "      <th>Sequence</th>\n",
       "      <th>time_diff</th>\n",
       "      <th>result</th>\n",
       "    </tr>\n",
       "  </thead>\n",
       "  <tbody>\n",
       "    <tr>\n",
       "      <th>0</th>\n",
       "      <td>[1, 1, 1, 1, 1, 1, 1, 1, 2, 2, 3, 3, 3, 3, 3, ...</td>\n",
       "      <td>[0, 4, 26, 58, 15, 146, 21, 3, 8, 2, 16, 4, 17...</td>\n",
       "      <td>1</td>\n",
       "    </tr>\n",
       "    <tr>\n",
       "      <th>1</th>\n",
       "      <td>[1, 1, 1, 1, 1, 1, 2, 2, 3, 3, 3, 3, 3, 3, 3, ...</td>\n",
       "      <td>[0, 104, 10, 253, 58, 29, 5, 2, 6, 9, 3, 7, 4,...</td>\n",
       "      <td>1</td>\n",
       "    </tr>\n",
       "  </tbody>\n",
       "</table>\n",
       "</div>"
      ],
      "text/plain": [
       "                                            Sequence  \\\n",
       "0  [1, 1, 1, 1, 1, 1, 1, 1, 2, 2, 3, 3, 3, 3, 3, ...   \n",
       "1  [1, 1, 1, 1, 1, 1, 2, 2, 3, 3, 3, 3, 3, 3, 3, ...   \n",
       "\n",
       "                                           time_diff  result  \n",
       "0  [0, 4, 26, 58, 15, 146, 21, 3, 8, 2, 16, 4, 17...       1  \n",
       "1  [0, 104, 10, 253, 58, 29, 5, 2, 6, 9, 3, 7, 4,...       1  "
      ]
     },
     "execution_count": 22,
     "metadata": {},
     "output_type": "execute_result"
    }
   ],
   "source": [
    "new_df2.head(2)"
   ]
  },
  {
   "cell_type": "code",
   "execution_count": 23,
   "metadata": {},
   "outputs": [
    {
     "data": {
      "text/plain": [
       "(pandas.core.series.Series, list)"
      ]
     },
     "execution_count": 23,
     "metadata": {},
     "output_type": "execute_result"
    }
   ],
   "source": [
    "type(new_df2.Sequence),type(new_df2.Sequence[0])"
   ]
  },
  {
   "cell_type": "code",
   "execution_count": 24,
   "metadata": {},
   "outputs": [],
   "source": [
    "# # determining the name of the file\n",
    "# file_name = 'sequence_data_2.xlsx'\n",
    "  \n",
    "# # saving the excel\n",
    "# new_df2.to_excel(file_name)"
   ]
  },
  {
   "cell_type": "markdown",
   "metadata": {},
   "source": [
    "### Splitting the DataFrame into Train Test"
   ]
  },
  {
   "cell_type": "code",
   "execution_count": 25,
   "metadata": {},
   "outputs": [],
   "source": [
    "from sklearn.model_selection import train_test_split"
   ]
  },
  {
   "cell_type": "code",
   "execution_count": 26,
   "metadata": {},
   "outputs": [],
   "source": [
    "X = new_df2\n",
    "\n",
    "# Splitting the dataframe into 80 percent for train and val, 20 percent for the test\n",
    "X_train,X_test = train_test_split(X.index,test_size=0.2, random_state=87)"
   ]
  },
  {
   "cell_type": "code",
   "execution_count": 27,
   "metadata": {},
   "outputs": [
    {
     "data": {
      "text/plain": [
       "1    55\n",
       "0    38\n",
       "Name: result, dtype: int64"
      ]
     },
     "execution_count": 27,
     "metadata": {},
     "output_type": "execute_result"
    }
   ],
   "source": [
    "X.iloc[X_test].result.value_counts()\n",
    "# print(55/(55+38))"
   ]
  },
  {
   "cell_type": "code",
   "execution_count": 28,
   "metadata": {},
   "outputs": [
    {
     "data": {
      "text/plain": [
       "1    252\n",
       "0    120\n",
       "Name: result, dtype: int64"
      ]
     },
     "execution_count": 28,
     "metadata": {},
     "output_type": "execute_result"
    }
   ],
   "source": [
    "X.iloc[X_train].result.value_counts()\n",
    "# print(252/(252+120))"
   ]
  },
  {
   "cell_type": "markdown",
   "metadata": {},
   "source": [
    "## Create a RNN "
   ]
  },
  {
   "cell_type": "code",
   "execution_count": 29,
   "metadata": {},
   "outputs": [],
   "source": [
    "# Create Dataset\n",
    "class Simulated_dataset(torch.utils.data.Dataset):\n",
    "    \n",
    "    def __init__(self, df, max_seq_length, min_seq_len, seq_percent, is_test):\n",
    "        \n",
    "        self.df = df\n",
    "        self.seq = []\n",
    "        self.seq_len = []\n",
    "        self.seq_time = []\n",
    "        self.seq_percent = (seq_percent/100)\n",
    "        self.is_test = is_test\n",
    "        self.min_seq_len = min_seq_len\n",
    "        \n",
    "        for i in range(df.shape[0]):\n",
    "            \n",
    "            if is_test == 0:\n",
    "                random.seed(10)\n",
    "                self.seq_percent = random.random()\n",
    "                val, seqtime, seqlen = self.add_padding(df.iloc[i].Sequence, df.iloc[i].time_diff, max_seq_length, self.seq_percent, self.is_test )\n",
    "                self.seq.append(val)\n",
    "                self.seq_time.append(seqtime)\n",
    "                self.seq_len.append(seqlen)\n",
    "                \n",
    "            else:\n",
    "                val, seqtime, seqlen = self.add_padding(df.iloc[i].Sequence, df.iloc[i].time_diff, max_seq_length, self.seq_percent, self.is_test )\n",
    "                self.seq.append(val)\n",
    "                self.seq_time.append(seqtime)\n",
    "                self.seq_len.append(seqlen) \n",
    "                \n",
    "            \n",
    "                \n",
    "    def add_padding(self, seq, time, padding_len, seq_percent, is_test):\n",
    "                \n",
    "        pad_token = 6\n",
    "        \n",
    "        if is_test == 1:\n",
    "\n",
    "            # changing seq percent for test       \n",
    "            seq_len = len(seq)\n",
    "            seq_len = int(seq_percent*seq_len)\n",
    "\n",
    "            seq = seq[:seq_len]   \n",
    "            time = seq[:seq_len]\n",
    "\n",
    "            deficit = padding_len - seq_len\n",
    "\n",
    "            if deficit < 0:\n",
    "                seq = seq[:padding_len]\n",
    "                time = time[:padding_len]\n",
    "            else:\n",
    "                seq.extend([pad_token]* deficit)\n",
    "                time.extend([pad_token]* deficit)\n",
    "\n",
    "            return seq, time, seq_len\n",
    "        \n",
    "        else: \n",
    "        \n",
    "            # For training keeping seq to 100 percent               \n",
    "            seq_percent = 1\n",
    "            seq_len = len(seq)\n",
    "            seq_len = int(seq_percent*seq_len)\n",
    "            \n",
    "            seq = seq[:seq_len]   \n",
    "            time = seq[:seq_len]\n",
    "\n",
    "            deficit = padding_len - seq_len\n",
    "\n",
    "            if deficit < 0:\n",
    "                seq = seq[:padding_len]\n",
    "                time = time[:padding_len]\n",
    "            else:\n",
    "                seq.extend([pad_token]* deficit)\n",
    "                time.extend([pad_token]* deficit)\n",
    "\n",
    "            return seq, time, seq_len\n",
    "            \n",
    "        \n",
    "    def __len__(self):\n",
    "        return self.df.shape[0]\n",
    "    \n",
    "    \n",
    "    def __getitem__(self, sample_id):\n",
    "        \n",
    "        sample_dict = dict()\n",
    "        \n",
    "        sequence = torch.tensor(self.seq[sample_id], dtype = torch.int32)\n",
    "#         sequence = torch.reshape(sequence, (sequence.shape[0], 1))\n",
    "        sample_dict[\"sequence\"] = sequence\n",
    "        \n",
    "        time = torch.tensor(self.seq_time[sample_id], dtype = torch.float32)\n",
    "        time = torch.reshape(time, (time.shape[0], 1))\n",
    "        sample_dict[\"time_diff\"] = time\n",
    "        \n",
    "        sample_dict[\"seq_len\"] = torch.tensor(self.seq_len[sample_id]).long()      \n",
    "                \n",
    "        sample_dict['labels'] = torch.tensor(self.df.iloc[sample_id].result)\n",
    "        \n",
    "        return sample_dict"
   ]
  },
  {
   "cell_type": "code",
   "execution_count": 30,
   "metadata": {},
   "outputs": [],
   "source": [
    "hparams = {\n",
    "    \n",
    "    'batch_size' : 20,\n",
    "    'max_length': 330,\n",
    "    'min_length': 10\n",
    "   \n",
    "}"
   ]
  },
  {
   "cell_type": "code",
   "execution_count": 31,
   "metadata": {},
   "outputs": [],
   "source": [
    "Train_dataset = Simulated_dataset(X.iloc[X_train], hparams['max_length'], hparams['min_length'], 100, 0)"
   ]
  },
  {
   "cell_type": "code",
   "execution_count": 32,
   "metadata": {
    "scrolled": false
   },
   "outputs": [],
   "source": [
    "# (Train_dataset[8]['seq_len'])"
   ]
  },
  {
   "cell_type": "code",
   "execution_count": 33,
   "metadata": {},
   "outputs": [],
   "source": [
    "# Splitting the dataset in train and val into 75, 25\n",
    "\n",
    "train_len, val_len = int(0.75*len(Train_dataset)), int(0.25*len(Train_dataset))\n",
    "train_dataset, val_dataset = torch.utils.data.random_split(Train_dataset, [train_len,val_len],generator=torch.Generator().manual_seed(88))\n"
   ]
  },
  {
   "cell_type": "code",
   "execution_count": 34,
   "metadata": {},
   "outputs": [
    {
     "data": {
      "text/plain": [
       "(279, 93)"
      ]
     },
     "execution_count": 34,
     "metadata": {},
     "output_type": "execute_result"
    }
   ],
   "source": [
    "len(train_dataset), len(val_dataset)"
   ]
  },
  {
   "cell_type": "code",
   "execution_count": 35,
   "metadata": {},
   "outputs": [],
   "source": [
    "# Getting data into the dataloader\n",
    "\n",
    "train_data = torch.utils.data.DataLoader(train_dataset, hparams[\"batch_size\"], shuffle = True)\n",
    "val_data = torch.utils.data.DataLoader(val_dataset, hparams[\"batch_size\"], shuffle = True)\n"
   ]
  },
  {
   "cell_type": "code",
   "execution_count": 36,
   "metadata": {},
   "outputs": [],
   "source": [
    "### Your code goes here ####\n",
    "import torch.nn as nn\n",
    "\n",
    "class Classification_model(nn.Module):\n",
    "    \n",
    "    def __init__(self, batch_size, emd_dim, lstm_layers, hidden_dim, max_length):\n",
    "        \n",
    "        super(Classification_model, self).__init__()\n",
    "        \n",
    "        self.batch_size = batch_size\n",
    "        self.hidden_dim = hidden_dim\n",
    "        self.LSTM_layers = lstm_layers\n",
    "        self.max_len = max_length\n",
    "        self.emb_dim = emd_dim\n",
    "\n",
    "        self.dropout = nn.Dropout(0.5)\n",
    "        self.embedding = nn.Embedding(7, emd_dim, padding_idx=6)\n",
    "        self.lstm = nn.LSTM(input_size=self.emb_dim+1, hidden_size=self.hidden_dim, num_layers=self.LSTM_layers, batch_first=True)\n",
    "        self.fc1 = nn.Linear(in_features=self.hidden_dim, out_features=48)\n",
    "        self.fc2 = nn.Linear(in_features = 48, out_features = 2)\n",
    "        self.softmax = nn.Softmax(1)\n",
    "        \n",
    "    def forward(self, x):\n",
    "        \n",
    "        # LSTM initialization \n",
    "        seq = x['sequence']\n",
    "        seq_len = x['seq_len']\n",
    "        time = x['time_diff']\n",
    "            \n",
    "        # pass through the embedding layer\n",
    "        out = self.embedding(seq)    \n",
    "    \n",
    "        # Initializing h and c for LSTM Seq\n",
    "        h = torch.zeros((self.LSTM_layers, seq.size(0), self.hidden_dim))\n",
    "        c = torch.zeros((self.LSTM_layers, seq.size(0), self.hidden_dim))\n",
    "\n",
    "        # stack sequence and time\n",
    "        out = torch.cat((out, time), dim=2)\n",
    "        \n",
    "        lstm_input_seq = torch.nn.utils.rnn.pack_padded_sequence(out, seq_len.tolist(), batch_first=True, enforce_sorted=False)\n",
    "        out_seq, (hidden, cell) = self.lstm(lstm_input_seq, (h,c))\n",
    "        out_seq,_ = torch.nn.utils.rnn.pad_packed_sequence(out_seq, batch_first=True)\n",
    "        out_seq = out_seq[range(len(out_seq)), seq_len - 1, :self.hidden_dim]\n",
    "        out_seq = self.dropout(out_seq)\n",
    "      \n",
    "        ####################################################\n",
    "        \n",
    "        out = self.fc1(out_seq)\n",
    "        out = torch.relu_(out)\n",
    "        out = self.fc2(out)\n",
    "        out = self.softmax(out)\n",
    "        \n",
    "        return out\n"
   ]
  },
  {
   "cell_type": "code",
   "execution_count": 37,
   "metadata": {},
   "outputs": [],
   "source": [
    "hparams = {\n",
    "    \n",
    "    'epochs' : 50,\n",
    "    'learning_rate' : 1e-3,\n",
    "    'batch_size' : 20,\n",
    "    'emd_dim': 150,\n",
    "    'lstm_layers' : 1,\n",
    "    'hidden_dim' : 150,\n",
    "    'max_length': 330,\n",
    "    'min_length': 10\n",
    "   \n",
    "}"
   ]
  },
  {
   "cell_type": "code",
   "execution_count": 38,
   "metadata": {},
   "outputs": [],
   "source": [
    "model = Classification_model(hparams[\"batch_size\"], hparams[\"emd_dim\"], hparams[\"lstm_layers\"], hparams[\"hidden_dim\"], hparams[\"max_length\"] )"
   ]
  },
  {
   "cell_type": "code",
   "execution_count": 39,
   "metadata": {},
   "outputs": [
    {
     "data": {
      "text/plain": [
       "Classification_model(\n",
       "  (dropout): Dropout(p=0.5, inplace=False)\n",
       "  (embedding): Embedding(7, 150, padding_idx=6)\n",
       "  (lstm): LSTM(151, 150, batch_first=True)\n",
       "  (fc1): Linear(in_features=150, out_features=48, bias=True)\n",
       "  (fc2): Linear(in_features=48, out_features=2, bias=True)\n",
       "  (softmax): Softmax(dim=1)\n",
       ")"
      ]
     },
     "execution_count": 39,
     "metadata": {},
     "output_type": "execute_result"
    }
   ],
   "source": [
    "model"
   ]
  },
  {
   "cell_type": "code",
   "execution_count": 40,
   "metadata": {},
   "outputs": [],
   "source": [
    "# # # Checking the shape of the dataloader batch\n",
    "\n",
    "# # model_test = Classification_model(hparams[\"batch_size\"], hparams[\"lstm_layers\"], hparams[\"hidden_dim\"], hparams[\"max_length\"] )\n",
    "\n",
    "# for i, batch in enumerate(train_data):\n",
    "    \n",
    "    \n",
    "#     batch['seq_len'] = (batch['seq_len']*np.random.uniform(size=(20,))).int().clip(hparams['min_length'])\n",
    "#     print(batch['seq_len'])\n",
    "#     break\n",
    "    \n",
    "#     #input to the model is dictionary\n",
    "#     # for j in \n",
    "#     percent = random.random()\n",
    "#     print(\"input:\", (batch[\"sequence\"][0][:20]))\n",
    "    \n",
    "#     #output from the model shape\n",
    "# #     y_pred = model_test(batch)\n",
    "# #     print(\"output:\", y_pred)\n",
    "#     break\n",
    "    "
   ]
  },
  {
   "cell_type": "code",
   "execution_count": 41,
   "metadata": {},
   "outputs": [],
   "source": [
    "# np.random.uniform(size=(20,))"
   ]
  },
  {
   "cell_type": "code",
   "execution_count": 42,
   "metadata": {},
   "outputs": [],
   "source": [
    "## Training\n",
    "\n",
    "class Model_trainer:\n",
    "\n",
    "    def __init__(self, hparams, model, train_data, val_data):\n",
    "        \n",
    "        self.hparams = hparams\n",
    "        self.batch_size = hparams[\"batch_size\"]\n",
    "        self.train_data = train_data\n",
    "        self.val_data = val_data\n",
    "        \n",
    "        # pass all the training arguments\n",
    "        self.model = model\n",
    "        \n",
    "        # Logging the history and displaying graph later\n",
    "        self.train_loss_history = [] \n",
    "        self.train_acc_history = [] \n",
    "        self.val_acc_history = []\n",
    "        self.val_loss_history = []\n",
    "        \n",
    "        # Create Tensorboard - writer\n",
    "        self.writer = self.initialize_tensorboard()\n",
    "\n",
    "    def train(self):\n",
    "\n",
    "        optimizer = torch.optim.Adam(self.model.parameters(), lr=hparams[\"learning_rate\"])\n",
    "        criterion = nn.CrossEntropyLoss()\n",
    "        \n",
    "        for epoch in range(self.hparams[\"epochs\"]):\n",
    "\n",
    "            train_predictions = []\n",
    "            train_labels = []\n",
    "            running_loss = 0.0\n",
    "            correct = 0.0\n",
    "            total = 0\n",
    "            \n",
    "            self.model.train()\n",
    "\n",
    "            for i, batch in enumerate(self.train_data):\n",
    "              \n",
    "                optimizer.zero_grad()\n",
    "                y = batch[\"labels\"]\n",
    "                \n",
    "                #passing variable seq length to the model\n",
    "                batch['seq_len'] = (batch['seq_len']*np.random.uniform(size=batch['seq_len'].shape)).long().clip(hparams['min_length'])\n",
    "    \n",
    "                y_pred = self.model(batch)\n",
    "                \n",
    "                loss = criterion(y_pred, y)\n",
    "                \n",
    "                loss.backward()\n",
    "                optimizer.step()\n",
    "                                \n",
    "                # Accumulate the loss and calculate the accuracy of predictions\n",
    "                running_loss += loss.item()\n",
    "                \n",
    "                #convert output probabilities of each class to a singular class prediction\n",
    "                _, preds = torch.max(y_pred, 1) \n",
    "            \n",
    "                correct += preds.eq(y).sum().item()\n",
    "                total += y.size(0)\n",
    "                \n",
    "                # Print the statistics every 10 mini-batch\n",
    "                if  i % 10 == 9:    \n",
    "                    running_loss /= 10\n",
    "                    correct /= total\n",
    "                    print(\"[Epoch %d, Iteration %5d] training loss: %.3f training acc: %.2f %%\" % (epoch+1, i+1, running_loss, 100*correct))\n",
    "                    self.train_loss_history.append(running_loss)\n",
    "                    self.train_acc_history.append(correct)\n",
    "\n",
    "                    \n",
    "                    # log the running loss on tensorboard for Traininig data\n",
    "                    self.writer.add_scalar('Training loss',running_loss / 50,epoch * len(self.train_data) + i)\n",
    "                    self.writer.add_scalar('Training Accuracy', correct*100, epoch * len(self.train_data) + i)\n",
    "\n",
    "                    running_loss = 0.0\n",
    "                    correct = 0.0\n",
    "                    total = 0\n",
    "                        \n",
    "            val_loss, val_accuracy = self.evaluation(criterion)            \n",
    "            self.val_acc_history.append(val_accuracy)\n",
    "            self.val_loss_history.append(val_loss)\n",
    "            print(\"------------[Epoch: %d] Val Loss: %.5f Val accuracy: %.2f %%------------\" % (epoch+1, val_loss, val_accuracy*100))\n",
    "\n",
    "            # log the accuracy on tensorboard for Validation data\n",
    "            self.writer.add_scalar('Validation Accuracy', val_accuracy*100, epoch * len(self.train_data) + i)\n",
    "            self.writer.add_scalar('Validation Loss', val_loss, epoch * len(self.train_data) + i)\n",
    "\n",
    "        self.writer.add_hparams(self.hparams, {'Vald Accuracy': self.val_acc_history[-1]*100, 'Train Accuracy': self.train_acc_history[-1]*100 })\n",
    "        self.writer.close()\n",
    "\n",
    "        \n",
    "    def evaluation(self, criterion):\n",
    "        \n",
    "        ## evaluating on the validation data \n",
    "        running_loss = 0.0\n",
    "        correct = 0\n",
    "        total = 0\n",
    "        \n",
    "        \n",
    "        self.model.eval()\n",
    "        with torch.no_grad():\n",
    "            for i , batch in enumerate(self.val_data):\n",
    "               \n",
    "                y = batch[\"labels\"]\n",
    "                static_seq_len = batch[\"seq_len\"]        \n",
    "                \n",
    "                for j in range(10, 101, 10):\n",
    "                    \n",
    "                    batch[\"seq_len\"] = static_seq_len \n",
    "                    batch['seq_len'] = (batch['seq_len']*(j/100)).long().clip(hparams['min_length'])\n",
    "\n",
    "                    y_pred = self.model(batch)\n",
    "                \n",
    "                    loss = criterion(y_pred, y)\n",
    "                    running_loss += loss.item()\n",
    "\n",
    "                    _, val_preds = torch.max(y_pred, 1)\n",
    "\n",
    "                    correct += val_preds.eq(y).sum().item()\n",
    "                    total += y.size(0)\n",
    "        \n",
    "            val_accuracy = correct/total\n",
    "            val_loss = running_loss/total\n",
    "\n",
    "        return val_loss, val_accuracy\n",
    "    \n",
    "    def visualize_train(self):\n",
    "        \n",
    "        \"\"\" Visualizing the training data \"\"\"\n",
    "        plt.plot(self.train_acc_history)\n",
    "        plt.plot(self.train_loss_history)\n",
    "        plt.title(\"Questions Dataset\")\n",
    "        plt.xlabel('iteration')\n",
    "        plt.ylabel('train acc/ train loss')\n",
    "        plt.legend(['Train Acc', 'Train Loss'])\n",
    "        plt.show()\n",
    "        \n",
    "    def visualize_val(self):\n",
    "        \n",
    "        \"\"\" Visualizing the training data \"\"\"\n",
    "        plt.plot(self.val_acc_history)\n",
    "        plt.plot(self.val_loss_history)\n",
    "        plt.title(\"Questions Dataset\")\n",
    "        plt.xlabel('iteration')\n",
    "        plt.ylabel('Val Acc / Val Loss')\n",
    "        plt.legend(['Val Acc', 'Val Loss'])\n",
    "        plt.show()\n",
    "        \n",
    "        \n",
    "    def initialize_tensorboard(self):\n",
    "        \n",
    "        current_time = time.strftime(\"%d%m_%Hh_%Mm\")\n",
    "        writer = SummaryWriter('runs/Simulated_dataset_variable_Percent/'+current_time)\n",
    "        \n",
    "        return writer"
   ]
  },
  {
   "cell_type": "code",
   "execution_count": 43,
   "metadata": {
    "scrolled": true
   },
   "outputs": [
    {
     "name": "stdout",
     "output_type": "stream",
     "text": [
      "[Epoch 1, Iteration    10] training loss: 0.649 training acc: 68.50 %\n",
      "------------[Epoch: 1] Val Loss: 0.03502 Val accuracy: 64.52 %------------\n",
      "[Epoch 2, Iteration    10] training loss: 0.637 training acc: 68.00 %\n",
      "------------[Epoch: 2] Val Loss: 0.03517 Val accuracy: 64.52 %------------\n",
      "[Epoch 3, Iteration    10] training loss: 0.614 training acc: 69.00 %\n",
      "------------[Epoch: 3] Val Loss: 0.03509 Val accuracy: 64.52 %------------\n",
      "[Epoch 4, Iteration    10] training loss: 0.613 training acc: 70.00 %\n",
      "------------[Epoch: 4] Val Loss: 0.03512 Val accuracy: 64.52 %------------\n",
      "[Epoch 5, Iteration    10] training loss: 0.607 training acc: 69.50 %\n",
      "------------[Epoch: 5] Val Loss: 0.03504 Val accuracy: 64.52 %------------\n",
      "[Epoch 6, Iteration    10] training loss: 0.589 training acc: 72.00 %\n",
      "------------[Epoch: 6] Val Loss: 0.03498 Val accuracy: 64.52 %------------\n",
      "[Epoch 7, Iteration    10] training loss: 0.647 training acc: 64.50 %\n",
      "------------[Epoch: 7] Val Loss: 0.03472 Val accuracy: 64.52 %------------\n",
      "[Epoch 8, Iteration    10] training loss: 0.609 training acc: 69.50 %\n",
      "------------[Epoch: 8] Val Loss: 0.03515 Val accuracy: 64.73 %------------\n",
      "[Epoch 9, Iteration    10] training loss: 0.623 training acc: 68.00 %\n",
      "------------[Epoch: 9] Val Loss: 0.03472 Val accuracy: 64.52 %------------\n",
      "[Epoch 10, Iteration    10] training loss: 0.578 training acc: 73.50 %\n",
      "------------[Epoch: 10] Val Loss: 0.03483 Val accuracy: 64.52 %------------\n",
      "[Epoch 11, Iteration    10] training loss: 0.611 training acc: 68.50 %\n",
      "------------[Epoch: 11] Val Loss: 0.03503 Val accuracy: 64.52 %------------\n",
      "[Epoch 12, Iteration    10] training loss: 0.608 training acc: 70.00 %\n",
      "------------[Epoch: 12] Val Loss: 0.03543 Val accuracy: 64.73 %------------\n",
      "[Epoch 13, Iteration    10] training loss: 0.596 training acc: 71.00 %\n",
      "------------[Epoch: 13] Val Loss: 0.03477 Val accuracy: 64.84 %------------\n",
      "[Epoch 14, Iteration    10] training loss: 0.573 training acc: 74.00 %\n",
      "------------[Epoch: 14] Val Loss: 0.03603 Val accuracy: 64.84 %------------\n",
      "[Epoch 15, Iteration    10] training loss: 0.619 training acc: 68.00 %\n",
      "------------[Epoch: 15] Val Loss: 0.03503 Val accuracy: 64.19 %------------\n",
      "[Epoch 16, Iteration    10] training loss: 0.617 training acc: 69.50 %\n",
      "------------[Epoch: 16] Val Loss: 0.03541 Val accuracy: 64.84 %------------\n",
      "[Epoch 17, Iteration    10] training loss: 0.585 training acc: 72.00 %\n",
      "------------[Epoch: 17] Val Loss: 0.03492 Val accuracy: 65.38 %------------\n",
      "[Epoch 18, Iteration    10] training loss: 0.571 training acc: 71.50 %\n",
      "------------[Epoch: 18] Val Loss: 0.03486 Val accuracy: 64.95 %------------\n",
      "[Epoch 19, Iteration    10] training loss: 0.600 training acc: 70.00 %\n",
      "------------[Epoch: 19] Val Loss: 0.03499 Val accuracy: 64.62 %------------\n",
      "[Epoch 20, Iteration    10] training loss: 0.605 training acc: 70.50 %\n",
      "------------[Epoch: 20] Val Loss: 0.03470 Val accuracy: 63.98 %------------\n",
      "[Epoch 21, Iteration    10] training loss: 0.604 training acc: 68.50 %\n",
      "------------[Epoch: 21] Val Loss: 0.03497 Val accuracy: 63.66 %------------\n",
      "[Epoch 22, Iteration    10] training loss: 0.572 training acc: 71.50 %\n",
      "------------[Epoch: 22] Val Loss: 0.03611 Val accuracy: 57.96 %------------\n",
      "[Epoch 23, Iteration    10] training loss: 0.633 training acc: 62.50 %\n",
      "------------[Epoch: 23] Val Loss: 0.03403 Val accuracy: 65.48 %------------\n",
      "[Epoch 24, Iteration    10] training loss: 0.601 training acc: 68.50 %\n",
      "------------[Epoch: 24] Val Loss: 0.03314 Val accuracy: 66.24 %------------\n",
      "[Epoch 25, Iteration    10] training loss: 0.598 training acc: 69.50 %\n",
      "------------[Epoch: 25] Val Loss: 0.03238 Val accuracy: 69.68 %------------\n",
      "[Epoch 26, Iteration    10] training loss: 0.573 training acc: 74.00 %\n",
      "------------[Epoch: 26] Val Loss: 0.03322 Val accuracy: 68.06 %------------\n",
      "[Epoch 27, Iteration    10] training loss: 0.559 training acc: 75.00 %\n",
      "------------[Epoch: 27] Val Loss: 0.03283 Val accuracy: 68.71 %------------\n",
      "[Epoch 28, Iteration    10] training loss: 0.591 training acc: 71.00 %\n",
      "------------[Epoch: 28] Val Loss: 0.03074 Val accuracy: 72.26 %------------\n",
      "[Epoch 29, Iteration    10] training loss: 0.598 training acc: 68.50 %\n",
      "------------[Epoch: 29] Val Loss: 0.03315 Val accuracy: 66.77 %------------\n",
      "[Epoch 30, Iteration    10] training loss: 0.609 training acc: 69.50 %\n",
      "------------[Epoch: 30] Val Loss: 0.03206 Val accuracy: 67.53 %------------\n",
      "[Epoch 31, Iteration    10] training loss: 0.589 training acc: 70.50 %\n",
      "------------[Epoch: 31] Val Loss: 0.03082 Val accuracy: 71.51 %------------\n",
      "[Epoch 32, Iteration    10] training loss: 0.557 training acc: 74.00 %\n",
      "------------[Epoch: 32] Val Loss: 0.03258 Val accuracy: 70.11 %------------\n",
      "[Epoch 33, Iteration    10] training loss: 0.577 training acc: 73.00 %\n",
      "------------[Epoch: 33] Val Loss: 0.03210 Val accuracy: 70.65 %------------\n",
      "[Epoch 34, Iteration    10] training loss: 0.566 training acc: 73.50 %\n",
      "------------[Epoch: 34] Val Loss: 0.03125 Val accuracy: 71.51 %------------\n",
      "[Epoch 35, Iteration    10] training loss: 0.574 training acc: 72.50 %\n",
      "------------[Epoch: 35] Val Loss: 0.03362 Val accuracy: 65.48 %------------\n",
      "[Epoch 36, Iteration    10] training loss: 0.576 training acc: 71.50 %\n",
      "------------[Epoch: 36] Val Loss: 0.03290 Val accuracy: 67.42 %------------\n",
      "[Epoch 37, Iteration    10] training loss: 0.588 training acc: 72.00 %\n",
      "------------[Epoch: 37] Val Loss: 0.03140 Val accuracy: 70.32 %------------\n",
      "[Epoch 38, Iteration    10] training loss: 0.567 training acc: 74.50 %\n",
      "------------[Epoch: 38] Val Loss: 0.03055 Val accuracy: 72.90 %------------\n",
      "[Epoch 39, Iteration    10] training loss: 0.546 training acc: 76.00 %\n",
      "------------[Epoch: 39] Val Loss: 0.03001 Val accuracy: 74.62 %------------\n",
      "[Epoch 40, Iteration    10] training loss: 0.570 training acc: 72.50 %\n",
      "------------[Epoch: 40] Val Loss: 0.03048 Val accuracy: 72.80 %------------\n",
      "[Epoch 41, Iteration    10] training loss: 0.582 training acc: 72.50 %\n",
      "------------[Epoch: 41] Val Loss: 0.03359 Val accuracy: 67.63 %------------\n",
      "[Epoch 42, Iteration    10] training loss: 0.611 training acc: 68.50 %\n",
      "------------[Epoch: 42] Val Loss: 0.03136 Val accuracy: 70.86 %------------\n",
      "[Epoch 43, Iteration    10] training loss: 0.561 training acc: 74.50 %\n",
      "------------[Epoch: 43] Val Loss: 0.03214 Val accuracy: 69.57 %------------\n",
      "[Epoch 44, Iteration    10] training loss: 0.561 training acc: 73.50 %\n",
      "------------[Epoch: 44] Val Loss: 0.03180 Val accuracy: 70.65 %------------\n",
      "[Epoch 45, Iteration    10] training loss: 0.555 training acc: 73.50 %\n",
      "------------[Epoch: 45] Val Loss: 0.02979 Val accuracy: 74.41 %------------\n",
      "[Epoch 46, Iteration    10] training loss: 0.562 training acc: 74.00 %\n",
      "------------[Epoch: 46] Val Loss: 0.03058 Val accuracy: 73.01 %------------\n",
      "[Epoch 47, Iteration    10] training loss: 0.542 training acc: 76.50 %\n",
      "------------[Epoch: 47] Val Loss: 0.03179 Val accuracy: 68.17 %------------\n",
      "[Epoch 48, Iteration    10] training loss: 0.573 training acc: 72.50 %\n",
      "------------[Epoch: 48] Val Loss: 0.03034 Val accuracy: 72.04 %------------\n",
      "[Epoch 49, Iteration    10] training loss: 0.553 training acc: 74.50 %\n",
      "------------[Epoch: 49] Val Loss: 0.02973 Val accuracy: 74.62 %------------\n",
      "[Epoch 50, Iteration    10] training loss: 0.563 training acc: 72.50 %\n",
      "------------[Epoch: 50] Val Loss: 0.02987 Val accuracy: 75.70 %------------\n"
     ]
    }
   ],
   "source": [
    "Train = Model_trainer(hparams, model, train_data, val_data)\n",
    "Train.train()"
   ]
  },
  {
   "cell_type": "markdown",
   "metadata": {},
   "source": [
    "### Visualize the entire validation data on different percentage of sequence length\n",
    "\n"
   ]
  },
  {
   "cell_type": "code",
   "execution_count": 74,
   "metadata": {
    "scrolled": false
   },
   "outputs": [],
   "source": [
    "seq_percent_to_consider = list(range(5,101,5))\n",
    "\n",
    "val_seq_percent = []\n",
    "val_accuracy = []\n",
    "\n",
    "def run_val(seq_percent_to_consider):\n",
    "    \n",
    "    ## evaluating on the validation data \n",
    "    correct = 0\n",
    "    total = 0\n",
    "\n",
    "    model.eval()\n",
    "    with torch.no_grad():        \n",
    "        for j in range(10, 101, 5):\n",
    "            for i , batch in enumerate(val_data):\n",
    "                y = batch[\"labels\"]\n",
    "                batch['seq_len'] = (batch['seq_len']*(j/100)).long().clip(hparams['min_length'])\n",
    "\n",
    "                y_pred = model(batch)\n",
    "\n",
    "                _, val_preds = torch.max(y_pred, 1)\n",
    "\n",
    "                correct += val_preds.eq(y).sum().item()\n",
    "                total += y.size(0)\n",
    "\n",
    "            accuracy = correct/total\n",
    "\n",
    "            val_seq_percent.append(j)\n",
    "            val_accuracy.append(accuracy)\n",
    "        \n",
    "run_val(seq_percent_to_consider)"
   ]
  },
  {
   "cell_type": "code",
   "execution_count": 75,
   "metadata": {},
   "outputs": [
    {
     "data": {
      "image/png": "[encoded data removed]",
      "text/plain": [
       "<Figure size 432x288 with 1 Axes>"
      ]
     },
     "metadata": {
      "needs_background": "light"
     },
     "output_type": "display_data"
    }
   ],
   "source": [
    "plt.plot(val_seq_percent,val_accuracy)\n",
    "plt.title('Accuracy on Val Data with variable sequence length')\n",
    "plt.xlabel('Percentage of Max Sequence Length')\n",
    "plt.ylabel('Accuracy in Percent')\n",
    "plt.show()"
   ]
  },
  {
   "cell_type": "markdown",
   "metadata": {},
   "source": [
    "## On test Data"
   ]
  },
  {
   "cell_type": "code",
   "execution_count": 46,
   "metadata": {},
   "outputs": [],
   "source": [
    "class test_trainer:\n",
    "\n",
    "    def __init__(self, model, test_data):\n",
    "\n",
    "        self.test_data = test_data\n",
    "        self.model = model\n",
    "\n",
    "    def evaluate(self):\n",
    "              \n",
    "        test_accuracy = self.test_evaluation()\n",
    "        print(\"Test accuracy: %.5f\" % (test_accuracy*100))\n",
    "        return test_accuracy\n",
    "            \n",
    "    def test_evaluation(self):\n",
    "\n",
    "        ## evaluating on the validation data \n",
    "        correct = 0\n",
    "        total = 0\n",
    "        \n",
    "        self.model.eval()\n",
    "        with torch.no_grad():\n",
    "            \n",
    "            for i, batch in enumerate(self.test_data):\n",
    "                y = batch[\"labels\"]\n",
    "                y_pred = self.model(batch)\n",
    "\n",
    "                _, test_pred = torch.max(y_pred, 1) \n",
    "#                 print(\"pred:\",test_pred,\"\\nlabels:\",y)\n",
    "                correct += test_pred.eq(y).sum().item()\n",
    "                total += y.size(0)\n",
    "            \n",
    "            test_accuracy = correct/total\n",
    "\n",
    "            return test_accuracy"
   ]
  },
  {
   "cell_type": "markdown",
   "metadata": {},
   "source": [
    "### Creating a Test Dataset and dataloader"
   ]
  },
  {
   "cell_type": "code",
   "execution_count": 76,
   "metadata": {},
   "outputs": [],
   "source": [
    "seq_percent_to_consider = list(range(10,101,5))"
   ]
  },
  {
   "cell_type": "code",
   "execution_count": 80,
   "metadata": {},
   "outputs": [],
   "source": [
    "seq_percent = []\n",
    "accuracy = []\n",
    "\n",
    "def run_test(seq_percent_to_consider):\n",
    "    \n",
    "    batch_size = 10\n",
    "    \n",
    "    for i in seq_percent_to_consider:\n",
    "        \n",
    "        max_len = int(330*(i/100))\n",
    "        print(\"Percent considered:\",i)\n",
    "        Test_dataset = Simulated_dataset(X.iloc[X_test], max_len, hparams['min_length'], i, 1)\n",
    "#         print(\"Max Seq Length:\",len(Test_dataset[0]['sequence']))\n",
    "        test_data = torch.utils.data.DataLoader(Test_dataset, batch_size, shuffle = True)\n",
    "        test = test_trainer(model, test_data)\n",
    "        acc = test.evaluate()\n",
    "        \n",
    "        accuracy.append(acc)\n",
    "        seq_percent.append(i)\n",
    "#         print(\"---------\")"
   ]
  },
  {
   "cell_type": "code",
   "execution_count": 81,
   "metadata": {
    "scrolled": true
   },
   "outputs": [
    {
     "name": "stdout",
     "output_type": "stream",
     "text": [
      "Percent considered: 10\n",
      "Test accuracy: 67.74194\n",
      "Percent considered: 15\n",
      "Test accuracy: 74.19355\n",
      "Percent considered: 20\n",
      "Test accuracy: 75.26882\n",
      "Percent considered: 25\n",
      "Test accuracy: 77.41935\n",
      "Percent considered: 30\n",
      "Test accuracy: 74.19355\n",
      "Percent considered: 35\n",
      "Test accuracy: 76.34409\n",
      "Percent considered: 40\n",
      "Test accuracy: 76.34409\n",
      "Percent considered: 45\n",
      "Test accuracy: 78.49462\n",
      "Percent considered: 50\n",
      "Test accuracy: 80.64516\n",
      "Percent considered: 55\n",
      "Test accuracy: 77.41935\n",
      "Percent considered: 60\n",
      "Test accuracy: 80.64516\n",
      "Percent considered: 65\n",
      "Test accuracy: 77.41935\n",
      "Percent considered: 70\n",
      "Test accuracy: 76.34409\n",
      "Percent considered: 75\n",
      "Test accuracy: 74.19355\n",
      "Percent considered: 80\n",
      "Test accuracy: 75.26882\n",
      "Percent considered: 85\n",
      "Test accuracy: 78.49462\n",
      "Percent considered: 90\n",
      "Test accuracy: 78.49462\n",
      "Percent considered: 95\n",
      "Test accuracy: 75.26882\n",
      "Percent considered: 100\n",
      "Test accuracy: 78.49462\n"
     ]
    }
   ],
   "source": [
    "run_test(seq_percent_to_consider)"
   ]
  },
  {
   "cell_type": "code",
   "execution_count": 79,
   "metadata": {},
   "outputs": [
    {
     "data": {
      "image/png": "[encoded data removed]",
      "text/plain": [
       "<Figure size 432x288 with 1 Axes>"
      ]
     },
     "metadata": {
      "needs_background": "light"
     },
     "output_type": "display_data"
    }
   ],
   "source": [
    "plt.plot(seq_percent,accuracy)\n",
    "plt.title('Accuracy on Test Data with variable sequence length')\n",
    "plt.xlabel('Percentage of Max Sequence Length')\n",
    "plt.ylabel('Accuracy in Percent')\n",
    "plt.show()"
   ]
  },
  {
   "cell_type": "code",
   "execution_count": null,
   "metadata": {},
   "outputs": [],
   "source": []
  },
  {
   "cell_type": "code",
   "execution_count": 51,
   "metadata": {},
   "outputs": [],
   "source": [
    "### Label ratio in train and Test dataset"
   ]
  },
  {
   "cell_type": "code",
   "execution_count": null,
   "metadata": {},
   "outputs": [],
   "source": [
    "count = 0\n",
    "for i in train_dataset:\n",
    "    if (i['labels'] == 0):\n",
    "        count +=1\n",
    "print(count)"
   ]
  },
  {
   "cell_type": "code",
   "execution_count": null,
   "metadata": {},
   "outputs": [],
   "source": [
    "# train data ratio 1/(1+0)\n",
    "192/(87+192)"
   ]
  },
  {
   "cell_type": "code",
   "execution_count": null,
   "metadata": {},
   "outputs": [],
   "source": [
    "# val data ratio 1/(1+0)\n",
    "60/(60+33)"
   ]
  },
  {
   "cell_type": "code",
   "execution_count": null,
   "metadata": {},
   "outputs": [],
   "source": [
    "# test data ratio 1/(1+0)\n",
    "55/(55+38)"
   ]
  },
  {
   "cell_type": "code",
   "execution_count": null,
   "metadata": {},
   "outputs": [],
   "source": []
  }
 ],
 "metadata": {
  "kernelspec": {
   "display_name": "Python 3",
   "language": "python",
   "name": "python3"
  },
  "language_info": {
   "codemirror_mode": {
    "name": "ipython",
    "version": 3
   },
   "file_extension": ".py",
   "mimetype": "text/x-python",
   "name": "python",
   "nbconvert_exporter": "python",
   "pygments_lexer": "ipython3",
   "version": "3.8.5"
  }
 },
 "nbformat": 4,
 "nbformat_minor": 4
}
