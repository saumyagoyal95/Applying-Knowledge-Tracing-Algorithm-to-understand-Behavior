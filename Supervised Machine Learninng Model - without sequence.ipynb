{
 "cells": [
  {
   "cell_type": "code",
   "execution_count": 1,
   "metadata": {},
   "outputs": [],
   "source": [
    "import numpy as np\n",
    "import pandas as pd\n",
    "import matplotlib.pyplot as plt\n",
    "\n",
    "import sklearn"
   ]
  },
  {
   "cell_type": "markdown",
   "metadata": {},
   "source": [
    "### Columns to have - \n",
    "PIN | case_assigned_to | start_time | end_time | time_spent | steps_EDA_1 | time_spent_EDA1 | .... | solution_point"
   ]
  },
  {
   "cell_type": "code",
   "execution_count": 2,
   "metadata": {},
   "outputs": [],
   "source": [
    "df2 = pd.read_excel('../data/Merged_onehot.xlsx')"
   ]
  },
  {
   "cell_type": "code",
   "execution_count": 3,
   "metadata": {},
   "outputs": [],
   "source": [
    "df2 = df2.drop('Unnamed: 0', 1)"
   ]
  },
  {
   "cell_type": "code",
   "execution_count": 4,
   "metadata": {},
   "outputs": [],
   "source": [
    "# Creating time_diff column for adding in the new dataframe\n",
    "\n",
    "df2['diff_timestamp'] = df2.groupby(['PIN', 'case_assigned_to'])['timestamp'].transform(pd.Series.diff).fillna(pd.Timedelta(seconds=0))\n",
    "df2['diff_seconds']  = df2['diff_timestamp'].apply(lambda x: x/np.timedelta64(1, 's')).fillna(0).astype('int64')"
   ]
  },
  {
   "cell_type": "code",
   "execution_count": 5,
   "metadata": {},
   "outputs": [],
   "source": [
    "# df2.groupby(['PIN','case_assigned_to'])['timestamp'].tail(1)"
   ]
  },
  {
   "cell_type": "code",
   "execution_count": 6,
   "metadata": {},
   "outputs": [],
   "source": [
    "start_time = df2.groupby(['PIN','case_assigned_to'], sort = False)['timestamp'].head(1).tolist()"
   ]
  },
  {
   "cell_type": "code",
   "execution_count": 7,
   "metadata": {},
   "outputs": [],
   "source": [
    "stop_time = df2.groupby(['PIN','case_assigned_to'],  sort = False)['timestamp'].tail(1).tolist()"
   ]
  },
  {
   "cell_type": "code",
   "execution_count": 8,
   "metadata": {},
   "outputs": [],
   "source": [
    "new_df = pd.DataFrame(df2.groupby(['PIN','case_assigned_to'],  sort = False).size().reset_index())"
   ]
  },
  {
   "cell_type": "code",
   "execution_count": 9,
   "metadata": {},
   "outputs": [],
   "source": [
    "new_df.drop(0,1, inplace = True)"
   ]
  },
  {
   "cell_type": "code",
   "execution_count": 10,
   "metadata": {},
   "outputs": [],
   "source": [
    "new_df['start_time'] = start_time"
   ]
  },
  {
   "cell_type": "code",
   "execution_count": 11,
   "metadata": {},
   "outputs": [],
   "source": [
    "new_df['stop_time'] = stop_time"
   ]
  },
  {
   "cell_type": "code",
   "execution_count": 12,
   "metadata": {},
   "outputs": [],
   "source": [
    "new_df['time_spent'] = new_df['stop_time'] - new_df['start_time']"
   ]
  },
  {
   "cell_type": "code",
   "execution_count": 13,
   "metadata": {},
   "outputs": [
    {
     "data": {
      "text/html": [
       "<div>\n",
       "<style scoped>\n",
       "    .dataframe tbody tr th:only-of-type {\n",
       "        vertical-align: middle;\n",
       "    }\n",
       "\n",
       "    .dataframe tbody tr th {\n",
       "        vertical-align: top;\n",
       "    }\n",
       "\n",
       "    .dataframe thead th {\n",
       "        text-align: right;\n",
       "    }\n",
       "</style>\n",
       "<table border=\"1\" class=\"dataframe\">\n",
       "  <thead>\n",
       "    <tr style=\"text-align: right;\">\n",
       "      <th></th>\n",
       "      <th>PIN</th>\n",
       "      <th>case_assigned_to</th>\n",
       "      <th>start_time</th>\n",
       "      <th>stop_time</th>\n",
       "      <th>time_spent</th>\n",
       "    </tr>\n",
       "  </thead>\n",
       "  <tbody>\n",
       "    <tr>\n",
       "      <th>0</th>\n",
       "      <td>AEOGCR7</td>\n",
       "      <td>Goettlich</td>\n",
       "      <td>2018-05-08 15:12:22</td>\n",
       "      <td>2018-05-08 15:32:43</td>\n",
       "      <td>0 days 00:20:21</td>\n",
       "    </tr>\n",
       "    <tr>\n",
       "      <th>1</th>\n",
       "      <td>AKVVO8S</td>\n",
       "      <td>Goettlich</td>\n",
       "      <td>2018-05-09 07:01:14</td>\n",
       "      <td>2018-05-09 07:23:59</td>\n",
       "      <td>0 days 00:22:45</td>\n",
       "    </tr>\n",
       "    <tr>\n",
       "      <th>2</th>\n",
       "      <td>A75J1OO</td>\n",
       "      <td>Goettlich</td>\n",
       "      <td>2018-05-11 07:12:33</td>\n",
       "      <td>2018-05-11 07:38:08</td>\n",
       "      <td>0 days 00:25:35</td>\n",
       "    </tr>\n",
       "    <tr>\n",
       "      <th>3</th>\n",
       "      <td>BPDREJD</td>\n",
       "      <td>Goettlich</td>\n",
       "      <td>2018-05-11 14:56:22</td>\n",
       "      <td>2018-05-11 15:10:34</td>\n",
       "      <td>0 days 00:14:12</td>\n",
       "    </tr>\n",
       "    <tr>\n",
       "      <th>4</th>\n",
       "      <td>BQLTZM2</td>\n",
       "      <td>Goettlich</td>\n",
       "      <td>2018-05-11 11:00:58</td>\n",
       "      <td>2018-05-11 11:19:16</td>\n",
       "      <td>0 days 00:18:18</td>\n",
       "    </tr>\n",
       "  </tbody>\n",
       "</table>\n",
       "</div>"
      ],
      "text/plain": [
       "       PIN case_assigned_to          start_time           stop_time  \\\n",
       "0  AEOGCR7        Goettlich 2018-05-08 15:12:22 2018-05-08 15:32:43   \n",
       "1  AKVVO8S        Goettlich 2018-05-09 07:01:14 2018-05-09 07:23:59   \n",
       "2  A75J1OO        Goettlich 2018-05-11 07:12:33 2018-05-11 07:38:08   \n",
       "3  BPDREJD        Goettlich 2018-05-11 14:56:22 2018-05-11 15:10:34   \n",
       "4  BQLTZM2        Goettlich 2018-05-11 11:00:58 2018-05-11 11:19:16   \n",
       "\n",
       "       time_spent  \n",
       "0 0 days 00:20:21  \n",
       "1 0 days 00:22:45  \n",
       "2 0 days 00:25:35  \n",
       "3 0 days 00:14:12  \n",
       "4 0 days 00:18:18  "
      ]
     },
     "execution_count": 13,
     "metadata": {},
     "output_type": "execute_result"
    }
   ],
   "source": [
    "new_df.head()"
   ]
  },
  {
   "cell_type": "code",
   "execution_count": 14,
   "metadata": {},
   "outputs": [
    {
     "data": {
      "text/html": [
       "<div>\n",
       "<style scoped>\n",
       "    .dataframe tbody tr th:only-of-type {\n",
       "        vertical-align: middle;\n",
       "    }\n",
       "\n",
       "    .dataframe tbody tr th {\n",
       "        vertical-align: top;\n",
       "    }\n",
       "\n",
       "    .dataframe thead th {\n",
       "        text-align: right;\n",
       "    }\n",
       "</style>\n",
       "<table border=\"1\" class=\"dataframe\">\n",
       "  <thead>\n",
       "    <tr style=\"text-align: right;\">\n",
       "      <th></th>\n",
       "      <th>PIN</th>\n",
       "      <th>case_assigned_to</th>\n",
       "      <th>start_time</th>\n",
       "      <th>stop_time</th>\n",
       "      <th>time_spent</th>\n",
       "    </tr>\n",
       "  </thead>\n",
       "  <tbody>\n",
       "    <tr>\n",
       "      <th>263</th>\n",
       "      <td>PMFO45G</td>\n",
       "      <td>Wenninger</td>\n",
       "      <td>2018-05-15 15:32:34</td>\n",
       "      <td>2018-05-15 15:40:03</td>\n",
       "      <td>0 days 00:07:29</td>\n",
       "    </tr>\n",
       "  </tbody>\n",
       "</table>\n",
       "</div>"
      ],
      "text/plain": [
       "         PIN case_assigned_to          start_time           stop_time  \\\n",
       "263  PMFO45G        Wenninger 2018-05-15 15:32:34 2018-05-15 15:40:03   \n",
       "\n",
       "         time_spent  \n",
       "263 0 days 00:07:29  "
      ]
     },
     "execution_count": 14,
     "metadata": {},
     "output_type": "execute_result"
    }
   ],
   "source": [
    "new_df.sample()"
   ]
  },
  {
   "cell_type": "code",
   "execution_count": 15,
   "metadata": {},
   "outputs": [],
   "source": [
    "# df2[(df2['PIN'] == 'ZJF8JVQ') &  (df2['case_assigned_to'] == 'Freundorf') & (df2['EDA'] == 5) ].count()"
   ]
  },
  {
   "cell_type": "code",
   "execution_count": 16,
   "metadata": {},
   "outputs": [],
   "source": [
    "# Adding EDA as number of steps column\n",
    "\n",
    "#EDA-0\n",
    "new_df['steps_EDA_0'] = df2[df2['EDA']== 0 ].groupby(['PIN','case_assigned_to'], sort = False)['EDA'].count().tolist()\n",
    "\n",
    "#EDA-1\n",
    "new_df['steps_EDA_1'] = df2[df2['EDA']== 1 ].groupby(['PIN','case_assigned_to'], sort = False)['EDA'].count().tolist()\n",
    "\n",
    "# EDA-2\n",
    "new_df['steps_EDA_2'] = df2[df2['EDA']== 2 ].groupby(['PIN','case_assigned_to'], sort = False)['EDA'].count().tolist()\n",
    "\n",
    "#EDA-3\n",
    "EDA_3 = pd.DataFrame(df2[df2['EDA']== 3 ].groupby(['PIN','case_assigned_to'], sort = False)['EDA'].count())\n",
    "EDA_3.rename(columns= {'EDA':'steps_EDA_3'}, inplace = True)\n",
    "new_df = pd.merge(new_df, EDA_3,how='left', \n",
    "                     left_on=('PIN','case_assigned_to'), right_on=('PIN','case_assigned_to'))\n",
    "\n",
    "\n",
    "#EDA-4\n",
    "EDA_4 = pd.DataFrame(df2[df2['EDA']== 4 ].groupby(['PIN','case_assigned_to'], sort = False)['EDA'].count())\n",
    "EDA_4.rename(columns= {'EDA':'steps_EDA_4'}, inplace = True)\n",
    "new_df = pd.merge(new_df, EDA_4,how='left', \n",
    "                     left_on=('PIN','case_assigned_to'), right_on=('PIN','case_assigned_to'))\n",
    "\n",
    "\n",
    "#EDA-5\n",
    "EDA_5 = pd.DataFrame(df2[df2['EDA']== 5 ].groupby(['PIN','case_assigned_to'], sort = False)['EDA'].count())\n",
    "EDA_5.rename(columns= {'EDA':'steps_EDA_5'}, inplace = True)\n",
    "new_df = pd.merge(new_df, EDA_5,how='left', \n",
    "                     left_on=('PIN','case_assigned_to'), right_on=('PIN','case_assigned_to'))\n",
    "\n"
   ]
  },
  {
   "cell_type": "code",
   "execution_count": 17,
   "metadata": {},
   "outputs": [],
   "source": [
    "# EDA_3 = pd.DataFrame(df2[df2['EDA']== 3 ].groupby(['PIN','case_assigned_to'], sort = False)['EDA'].count())"
   ]
  },
  {
   "cell_type": "code",
   "execution_count": 18,
   "metadata": {},
   "outputs": [],
   "source": [
    "# EDA_3.rename(columns= {'EDA':'steps_EDA_3'}, inplace = True)\n",
    "# pd.merge(new_df, EDA_3,how='left', \n",
    "#                      left_on=('PIN','case_assigned_to'), right_on=('PIN','case_assigned_to'))"
   ]
  },
  {
   "cell_type": "code",
   "execution_count": 19,
   "metadata": {},
   "outputs": [],
   "source": [
    "# Adding timespent\n",
    "\n",
    "# Adding EDA as time spend in seconds\n",
    "\n",
    "#EDA-0\n",
    "new_df['timespent_EDA_0'] = df2[df2['EDA']== 0].groupby(['PIN','case_assigned_to'], sort = False)['diff_seconds'].sum().tolist()\n",
    "\n",
    "#EDA-1\n",
    "new_df['timespent_EDA_1'] = df2[df2['EDA']== 1].groupby(['PIN','case_assigned_to'], sort = False)['diff_seconds'].sum().tolist()\n",
    "\n",
    "# EDA-2\n",
    "new_df['timespent_EDA_2'] = df2[df2['EDA']== 2].groupby(['PIN','case_assigned_to'], sort = False)['diff_seconds'].sum().tolist()\n",
    "\n",
    "#EDA-3\n",
    "EDA_3 = pd.DataFrame(df2[df2['EDA']== 3].groupby(['PIN','case_assigned_to'], sort = False)['diff_seconds'].sum())\n",
    "EDA_3.rename(columns= {'diff_seconds':'timespent_EDA_3'}, inplace = True)\n",
    "new_df = pd.merge(new_df, EDA_3,how='left', \n",
    "                     left_on=('PIN','case_assigned_to'), right_on=('PIN','case_assigned_to'))\n",
    "\n",
    "\n",
    "#EDA-4\n",
    "EDA_4 = pd.DataFrame(df2[df2['EDA']== 4].groupby(['PIN','case_assigned_to'], sort = False)['diff_seconds'].sum())\n",
    "EDA_4.rename(columns= {'diff_seconds':'timespent_EDA_4'}, inplace = True)\n",
    "new_df = pd.merge(new_df, EDA_4,how='left', \n",
    "                     left_on=('PIN','case_assigned_to'), right_on=('PIN','case_assigned_to'))\n",
    "\n",
    "\n",
    "#EDA-5\n",
    "EDA_5 = pd.DataFrame(df2[df2['EDA']== 5].groupby(['PIN','case_assigned_to'], sort = False)['diff_seconds'].sum())\n",
    "EDA_5.rename(columns= {'diff_seconds':'timespent_EDA_5'}, inplace = True)\n",
    "new_df = pd.merge(new_df, EDA_5,how='left', \n",
    "                     left_on=('PIN','case_assigned_to'), right_on=('PIN','case_assigned_to'))\n",
    "\n",
    "    "
   ]
  },
  {
   "cell_type": "code",
   "execution_count": 20,
   "metadata": {},
   "outputs": [],
   "source": [
    "# Adding solution Points - which we will consider as our labels\n",
    "new_df['result'] = df2.groupby(['PIN','case_assigned_to'], sort = False)['Solution_points'].min().tolist()"
   ]
  },
  {
   "cell_type": "code",
   "execution_count": 21,
   "metadata": {},
   "outputs": [],
   "source": [
    "# making all the numerics into int64\n",
    "new_df.steps_EDA_3.fillna(0, inplace = True)\n",
    "new_df['steps_EDA_3'] = new_df['steps_EDA_3'].astype('int64')\n",
    "\n",
    "new_df.steps_EDA_4.fillna(0, inplace = True)\n",
    "new_df['steps_EDA_4'] = new_df['steps_EDA_4'].astype('int64')\n",
    "\n",
    "new_df.steps_EDA_5.fillna(0, inplace = True)\n",
    "new_df['steps_EDA_5'] = new_df['steps_EDA_5'].astype('int64')\n",
    "\n",
    "new_df.timespent_EDA_3.fillna(0, inplace = True)\n",
    "new_df['timespent_EDA_3'] = new_df['timespent_EDA_3'].astype('int64')\n",
    "\n",
    "new_df.timespent_EDA_4.fillna(0, inplace = True)\n",
    "new_df['timespent_EDA_4'] = new_df['timespent_EDA_4'].astype('int64')\n",
    "\n",
    "new_df.timespent_EDA_5.fillna(0, inplace = True)\n",
    "new_df['timespent_EDA_5'] = new_df['timespent_EDA_5'].astype('int64')"
   ]
  },
  {
   "cell_type": "code",
   "execution_count": 22,
   "metadata": {},
   "outputs": [],
   "source": [
    "# changing the time-spent to seconds\n",
    "new_df['timespent_seconds'] = new_df['time_spent'].apply(lambda x: x/np.timedelta64(1, 's')).fillna(0).astype('int64')"
   ]
  },
  {
   "cell_type": "code",
   "execution_count": 23,
   "metadata": {},
   "outputs": [
    {
     "name": "stdout",
     "output_type": "stream",
     "text": [
      "<class 'pandas.core.frame.DataFrame'>\n",
      "Int64Index: 465 entries, 0 to 464\n",
      "Data columns (total 19 columns):\n",
      " #   Column             Non-Null Count  Dtype          \n",
      "---  ------             --------------  -----          \n",
      " 0   PIN                465 non-null    object         \n",
      " 1   case_assigned_to   465 non-null    object         \n",
      " 2   start_time         465 non-null    datetime64[ns] \n",
      " 3   stop_time          465 non-null    datetime64[ns] \n",
      " 4   time_spent         465 non-null    timedelta64[ns]\n",
      " 5   steps_EDA_0        465 non-null    int64          \n",
      " 6   steps_EDA_1        465 non-null    int64          \n",
      " 7   steps_EDA_2        465 non-null    int64          \n",
      " 8   steps_EDA_3        465 non-null    int64          \n",
      " 9   steps_EDA_4        465 non-null    int64          \n",
      " 10  steps_EDA_5        465 non-null    int64          \n",
      " 11  timespent_EDA_0    465 non-null    int64          \n",
      " 12  timespent_EDA_1    465 non-null    int64          \n",
      " 13  timespent_EDA_2    465 non-null    int64          \n",
      " 14  timespent_EDA_3    465 non-null    int64          \n",
      " 15  timespent_EDA_4    465 non-null    int64          \n",
      " 16  timespent_EDA_5    465 non-null    int64          \n",
      " 17  result             465 non-null    int64          \n",
      " 18  timespent_seconds  465 non-null    int64          \n",
      "dtypes: datetime64[ns](2), int64(14), object(2), timedelta64[ns](1)\n",
      "memory usage: 72.7+ KB\n"
     ]
    }
   ],
   "source": [
    "new_df.info()"
   ]
  },
  {
   "cell_type": "code",
   "execution_count": 24,
   "metadata": {},
   "outputs": [],
   "source": [
    "# new_df.fillna(pd.Timedelta(seconds=0), inplace = True)"
   ]
  },
  {
   "cell_type": "code",
   "execution_count": 25,
   "metadata": {},
   "outputs": [
    {
     "data": {
      "text/html": [
       "<div>\n",
       "<style scoped>\n",
       "    .dataframe tbody tr th:only-of-type {\n",
       "        vertical-align: middle;\n",
       "    }\n",
       "\n",
       "    .dataframe tbody tr th {\n",
       "        vertical-align: top;\n",
       "    }\n",
       "\n",
       "    .dataframe thead th {\n",
       "        text-align: right;\n",
       "    }\n",
       "</style>\n",
       "<table border=\"1\" class=\"dataframe\">\n",
       "  <thead>\n",
       "    <tr style=\"text-align: right;\">\n",
       "      <th></th>\n",
       "      <th>PIN</th>\n",
       "      <th>case_assigned_to</th>\n",
       "      <th>start_time</th>\n",
       "      <th>stop_time</th>\n",
       "      <th>time_spent</th>\n",
       "      <th>steps_EDA_0</th>\n",
       "      <th>steps_EDA_1</th>\n",
       "      <th>steps_EDA_2</th>\n",
       "      <th>steps_EDA_3</th>\n",
       "      <th>steps_EDA_4</th>\n",
       "      <th>steps_EDA_5</th>\n",
       "      <th>timespent_EDA_0</th>\n",
       "      <th>timespent_EDA_1</th>\n",
       "      <th>timespent_EDA_2</th>\n",
       "      <th>timespent_EDA_3</th>\n",
       "      <th>timespent_EDA_4</th>\n",
       "      <th>timespent_EDA_5</th>\n",
       "      <th>result</th>\n",
       "      <th>timespent_seconds</th>\n",
       "    </tr>\n",
       "  </thead>\n",
       "  <tbody>\n",
       "  </tbody>\n",
       "</table>\n",
       "</div>"
      ],
      "text/plain": [
       "Empty DataFrame\n",
       "Columns: [PIN, case_assigned_to, start_time, stop_time, time_spent, steps_EDA_0, steps_EDA_1, steps_EDA_2, steps_EDA_3, steps_EDA_4, steps_EDA_5, timespent_EDA_0, timespent_EDA_1, timespent_EDA_2, timespent_EDA_3, timespent_EDA_4, timespent_EDA_5, result, timespent_seconds]\n",
       "Index: []"
      ]
     },
     "execution_count": 25,
     "metadata": {},
     "output_type": "execute_result"
    }
   ],
   "source": [
    "# checking if any column as any NAN\n",
    "new_df.columns[new_df.isna().any()].tolist()\n",
    "new_df[new_df.isna().any(axis=1)]"
   ]
  },
  {
   "cell_type": "code",
   "execution_count": 26,
   "metadata": {},
   "outputs": [],
   "source": [
    "# making 'case_assigned_to' into integer values\n",
    "names = new_df.case_assigned_to.unique().tolist()\n",
    "vals = [1, 2, 3, 4, 5]\n",
    "x = dict(zip(names, vals))\n",
    "new_df.replace(x, inplace = True)"
   ]
  },
  {
   "cell_type": "code",
   "execution_count": 27,
   "metadata": {},
   "outputs": [],
   "source": [
    "# saving this dataset as an excel sheet\n",
    "\n",
    "# determining the name of the file\n",
    "file_name = 'wide_data.xlsx'\n",
    "  \n",
    "# saving the excel\n",
    "new_df.to_excel(file_name)"
   ]
  },
  {
   "cell_type": "markdown",
   "metadata": {},
   "source": [
    "### Creating a supervised Learning model"
   ]
  },
  {
   "cell_type": "code",
   "execution_count": 150,
   "metadata": {},
   "outputs": [
    {
     "data": {
      "text/html": [
       "<div>\n",
       "<style scoped>\n",
       "    .dataframe tbody tr th:only-of-type {\n",
       "        vertical-align: middle;\n",
       "    }\n",
       "\n",
       "    .dataframe tbody tr th {\n",
       "        vertical-align: top;\n",
       "    }\n",
       "\n",
       "    .dataframe thead th {\n",
       "        text-align: right;\n",
       "    }\n",
       "</style>\n",
       "<table border=\"1\" class=\"dataframe\">\n",
       "  <thead>\n",
       "    <tr style=\"text-align: right;\">\n",
       "      <th></th>\n",
       "      <th>PIN</th>\n",
       "      <th>case_assigned_to</th>\n",
       "      <th>start_time</th>\n",
       "      <th>stop_time</th>\n",
       "      <th>time_spent</th>\n",
       "      <th>steps_EDA_0</th>\n",
       "      <th>steps_EDA_1</th>\n",
       "      <th>steps_EDA_2</th>\n",
       "      <th>steps_EDA_3</th>\n",
       "      <th>steps_EDA_4</th>\n",
       "      <th>steps_EDA_5</th>\n",
       "      <th>timespent_EDA_0</th>\n",
       "      <th>timespent_EDA_1</th>\n",
       "      <th>timespent_EDA_2</th>\n",
       "      <th>timespent_EDA_3</th>\n",
       "      <th>timespent_EDA_4</th>\n",
       "      <th>timespent_EDA_5</th>\n",
       "      <th>result</th>\n",
       "      <th>timespent_seconds</th>\n",
       "    </tr>\n",
       "  </thead>\n",
       "  <tbody>\n",
       "    <tr>\n",
       "      <th>0</th>\n",
       "      <td>AEOGCR7</td>\n",
       "      <td>1</td>\n",
       "      <td>2018-05-08 15:12:22</td>\n",
       "      <td>2018-05-08 15:32:43</td>\n",
       "      <td>0 days 00:20:21</td>\n",
       "      <td>25</td>\n",
       "      <td>20</td>\n",
       "      <td>2</td>\n",
       "      <td>16</td>\n",
       "      <td>3</td>\n",
       "      <td>2</td>\n",
       "      <td>580</td>\n",
       "      <td>386</td>\n",
       "      <td>10</td>\n",
       "      <td>134</td>\n",
       "      <td>66</td>\n",
       "      <td>45</td>\n",
       "      <td>1</td>\n",
       "      <td>1221</td>\n",
       "    </tr>\n",
       "    <tr>\n",
       "      <th>1</th>\n",
       "      <td>AKVVO8S</td>\n",
       "      <td>1</td>\n",
       "      <td>2018-05-09 07:01:14</td>\n",
       "      <td>2018-05-09 07:23:59</td>\n",
       "      <td>0 days 00:22:45</td>\n",
       "      <td>29</td>\n",
       "      <td>11</td>\n",
       "      <td>3</td>\n",
       "      <td>39</td>\n",
       "      <td>5</td>\n",
       "      <td>1</td>\n",
       "      <td>592</td>\n",
       "      <td>473</td>\n",
       "      <td>12</td>\n",
       "      <td>187</td>\n",
       "      <td>90</td>\n",
       "      <td>11</td>\n",
       "      <td>1</td>\n",
       "      <td>1365</td>\n",
       "    </tr>\n",
       "    <tr>\n",
       "      <th>2</th>\n",
       "      <td>A75J1OO</td>\n",
       "      <td>1</td>\n",
       "      <td>2018-05-11 07:12:33</td>\n",
       "      <td>2018-05-11 07:38:08</td>\n",
       "      <td>0 days 00:25:35</td>\n",
       "      <td>43</td>\n",
       "      <td>14</td>\n",
       "      <td>6</td>\n",
       "      <td>20</td>\n",
       "      <td>2</td>\n",
       "      <td>1</td>\n",
       "      <td>639</td>\n",
       "      <td>497</td>\n",
       "      <td>102</td>\n",
       "      <td>138</td>\n",
       "      <td>66</td>\n",
       "      <td>93</td>\n",
       "      <td>1</td>\n",
       "      <td>1535</td>\n",
       "    </tr>\n",
       "    <tr>\n",
       "      <th>3</th>\n",
       "      <td>BPDREJD</td>\n",
       "      <td>1</td>\n",
       "      <td>2018-05-11 14:56:22</td>\n",
       "      <td>2018-05-11 15:10:34</td>\n",
       "      <td>0 days 00:14:12</td>\n",
       "      <td>17</td>\n",
       "      <td>10</td>\n",
       "      <td>2</td>\n",
       "      <td>20</td>\n",
       "      <td>2</td>\n",
       "      <td>1</td>\n",
       "      <td>541</td>\n",
       "      <td>153</td>\n",
       "      <td>9</td>\n",
       "      <td>67</td>\n",
       "      <td>22</td>\n",
       "      <td>60</td>\n",
       "      <td>1</td>\n",
       "      <td>852</td>\n",
       "    </tr>\n",
       "    <tr>\n",
       "      <th>4</th>\n",
       "      <td>BQLTZM2</td>\n",
       "      <td>1</td>\n",
       "      <td>2018-05-11 11:00:58</td>\n",
       "      <td>2018-05-11 11:19:16</td>\n",
       "      <td>0 days 00:18:18</td>\n",
       "      <td>33</td>\n",
       "      <td>24</td>\n",
       "      <td>2</td>\n",
       "      <td>11</td>\n",
       "      <td>2</td>\n",
       "      <td>2</td>\n",
       "      <td>479</td>\n",
       "      <td>467</td>\n",
       "      <td>8</td>\n",
       "      <td>78</td>\n",
       "      <td>30</td>\n",
       "      <td>36</td>\n",
       "      <td>0</td>\n",
       "      <td>1098</td>\n",
       "    </tr>\n",
       "  </tbody>\n",
       "</table>\n",
       "</div>"
      ],
      "text/plain": [
       "       PIN  case_assigned_to          start_time           stop_time  \\\n",
       "0  AEOGCR7                 1 2018-05-08 15:12:22 2018-05-08 15:32:43   \n",
       "1  AKVVO8S                 1 2018-05-09 07:01:14 2018-05-09 07:23:59   \n",
       "2  A75J1OO                 1 2018-05-11 07:12:33 2018-05-11 07:38:08   \n",
       "3  BPDREJD                 1 2018-05-11 14:56:22 2018-05-11 15:10:34   \n",
       "4  BQLTZM2                 1 2018-05-11 11:00:58 2018-05-11 11:19:16   \n",
       "\n",
       "       time_spent  steps_EDA_0  steps_EDA_1  steps_EDA_2  steps_EDA_3  \\\n",
       "0 0 days 00:20:21           25           20            2           16   \n",
       "1 0 days 00:22:45           29           11            3           39   \n",
       "2 0 days 00:25:35           43           14            6           20   \n",
       "3 0 days 00:14:12           17           10            2           20   \n",
       "4 0 days 00:18:18           33           24            2           11   \n",
       "\n",
       "   steps_EDA_4  steps_EDA_5  timespent_EDA_0  timespent_EDA_1  \\\n",
       "0            3            2              580              386   \n",
       "1            5            1              592              473   \n",
       "2            2            1              639              497   \n",
       "3            2            1              541              153   \n",
       "4            2            2              479              467   \n",
       "\n",
       "   timespent_EDA_2  timespent_EDA_3  timespent_EDA_4  timespent_EDA_5  result  \\\n",
       "0               10              134               66               45       1   \n",
       "1               12              187               90               11       1   \n",
       "2              102              138               66               93       1   \n",
       "3                9               67               22               60       1   \n",
       "4                8               78               30               36       0   \n",
       "\n",
       "   timespent_seconds  \n",
       "0               1221  \n",
       "1               1365  \n",
       "2               1535  \n",
       "3                852  \n",
       "4               1098  "
      ]
     },
     "execution_count": 150,
     "metadata": {},
     "output_type": "execute_result"
    }
   ],
   "source": [
    "new_df.head()"
   ]
  },
  {
   "cell_type": "code",
   "execution_count": 28,
   "metadata": {},
   "outputs": [],
   "source": [
    "import seaborn as sns"
   ]
  },
  {
   "cell_type": "code",
   "execution_count": 29,
   "metadata": {},
   "outputs": [
    {
     "data": {
      "image/png": "[encoded data removed]",
      "text/plain": [
       "<Figure size 1440x720 with 2 Axes>"
      ]
     },
     "metadata": {
      "needs_background": "light"
     },
     "output_type": "display_data"
    }
   ],
   "source": [
    "# Finding some correlations\n",
    "\n",
    "corrmat = new_df.corr()\n",
    "plt.figure(figsize=(20,10))\n",
    "# k = 15 #number of variables for heatmap\n",
    "# cols = corrmat.nlargest(k, 'SalePrice')['SalePrice'].index\n",
    "# cm = np.corrcoef(new_df)\n",
    "sns.set(font_scale=1.25)\n",
    "hm = sns.heatmap(corrmat, cbar=True, annot=True, square=True, fmt='.2f', annot_kws={'size': 10})\n",
    "plt.show()"
   ]
  },
  {
   "cell_type": "code",
   "execution_count": 30,
   "metadata": {},
   "outputs": [],
   "source": [
    "from sklearn.model_selection import train_test_split\n",
    "\n",
    "# Features\n",
    "X = new_df[['case_assigned_to',\n",
    "       'steps_EDA_0', 'steps_EDA_1', 'steps_EDA_2', 'steps_EDA_3',\n",
    "       'steps_EDA_4', 'steps_EDA_5', 'timespent_EDA_0', 'timespent_EDA_1',\n",
    "       'timespent_EDA_2', 'timespent_EDA_3', 'timespent_EDA_4',\n",
    "       'timespent_EDA_5', 'timespent_seconds']]\n",
    "\n",
    "# label\n",
    "y = new_df[['result']]\n",
    "\n",
    "feature_names = ['case_assigned_to',\n",
    "       'steps_EDA_0', 'steps_EDA_1', 'steps_EDA_2', 'steps_EDA_3',\n",
    "       'steps_EDA_4', 'steps_EDA_5', 'timespent_EDA_0', 'timespent_EDA_1',\n",
    "       'timespent_EDA_2', 'timespent_EDA_3', 'timespent_EDA_4',\n",
    "       'timespent_EDA_5', 'timespent_seconds']"
   ]
  },
  {
   "cell_type": "code",
   "execution_count": 31,
   "metadata": {},
   "outputs": [
    {
     "data": {
      "text/plain": [
       "(465, 14)"
      ]
     },
     "execution_count": 31,
     "metadata": {},
     "output_type": "execute_result"
    }
   ],
   "source": [
    "X.shape"
   ]
  },
  {
   "cell_type": "code",
   "execution_count": 32,
   "metadata": {},
   "outputs": [
    {
     "data": {
      "text/plain": [
       "(465, 1)"
      ]
     },
     "execution_count": 32,
     "metadata": {},
     "output_type": "execute_result"
    }
   ],
   "source": [
    "y.shape"
   ]
  },
  {
   "cell_type": "code",
   "execution_count": 33,
   "metadata": {},
   "outputs": [],
   "source": [
    "y = y.squeeze()"
   ]
  },
  {
   "cell_type": "code",
   "execution_count": 34,
   "metadata": {},
   "outputs": [],
   "source": [
    " # 70% training and 30% test\n",
    "X_train, X_test, y_train, y_test = train_test_split(X, y, test_size=0.3)\n"
   ]
  },
  {
   "cell_type": "code",
   "execution_count": 35,
   "metadata": {},
   "outputs": [],
   "source": [
    "from sklearn.ensemble import RandomForestClassifier"
   ]
  },
  {
   "cell_type": "code",
   "execution_count": 146,
   "metadata": {},
   "outputs": [],
   "source": [
    "#Create a Gaussian Classifier\n",
    "clf = RandomForestClassifier(n_estimators=100)\n",
    "\n",
    "#Train the model using the training sets \n",
    "clf.fit(X_train,y_train)\n",
    "\n",
    "y_pred_train = clf.predict(X_train)"
   ]
  },
  {
   "cell_type": "code",
   "execution_count": 147,
   "metadata": {},
   "outputs": [],
   "source": [
    "y_pred=clf.predict(X_test)"
   ]
  },
  {
   "cell_type": "code",
   "execution_count": 148,
   "metadata": {},
   "outputs": [
    {
     "name": "stdout",
     "output_type": "stream",
     "text": [
      "Train Accuracy: 1.0\n",
      "Test Accuracy: 0.7331288343558282\n"
     ]
    }
   ],
   "source": [
    "from sklearn import metrics\n",
    "\n",
    "# Model Accuracy, how often is the classifier correct?\n",
    "print(\"Train Accuracy:\",metrics.accuracy_score(y_train, y_pred_train))\n",
    "print(\"Test Accuracy:\",metrics.accuracy_score(y_test, y_pred))"
   ]
  },
  {
   "cell_type": "code",
   "execution_count": 140,
   "metadata": {},
   "outputs": [],
   "source": [
    "## try kappa score and other metrics too\n",
    "## 10F KV - and vizualise the distribution of accuracy and kappa value, put seed_value"
   ]
  },
  {
   "cell_type": "markdown",
   "metadata": {},
   "source": [
    "#### Accuracy with Random Forest Classifier: 82.85%\n",
    "(when all the features were considered)"
   ]
  },
  {
   "cell_type": "code",
   "execution_count": 141,
   "metadata": {},
   "outputs": [
    {
     "data": {
      "text/plain": [
       "0.34509220940977947"
      ]
     },
     "execution_count": 141,
     "metadata": {},
     "output_type": "execute_result"
    }
   ],
   "source": [
    "from sklearn.metrics import cohen_kappa_score\n",
    "cohen_kappa_score(y_test, y_pred)\n"
   ]
  },
  {
   "cell_type": "code",
   "execution_count": 142,
   "metadata": {},
   "outputs": [
    {
     "data": {
      "text/plain": [
       "1    307\n",
       "0    158\n",
       "Name: result, dtype: int64"
      ]
     },
     "execution_count": 142,
     "metadata": {},
     "output_type": "execute_result"
    }
   ],
   "source": [
    "new_df.result.value_counts()"
   ]
  },
  {
   "cell_type": "markdown",
   "metadata": {},
   "source": [
    "## Extracting import features"
   ]
  },
  {
   "cell_type": "code",
   "execution_count": 143,
   "metadata": {},
   "outputs": [
    {
     "data": {
      "text/plain": [
       "RandomForestClassifier()"
      ]
     },
     "execution_count": 143,
     "metadata": {},
     "output_type": "execute_result"
    }
   ],
   "source": [
    "from sklearn.ensemble import RandomForestClassifier\n",
    "\n",
    "#Create a Gaussian Classifier\n",
    "clf=RandomForestClassifier(n_estimators=100)\n",
    "\n",
    "#Train the model using the training sets y_pred=clf.predict(X_test)\n",
    "clf.fit(X_train,y_train)"
   ]
  },
  {
   "cell_type": "code",
   "execution_count": 144,
   "metadata": {},
   "outputs": [
    {
     "data": {
      "text/plain": [
       "RandomForestClassifier(n_jobs=1)"
      ]
     },
     "execution_count": 144,
     "metadata": {},
     "output_type": "execute_result"
    }
   ],
   "source": [
    "RandomForestClassifier(bootstrap=True, class_weight=None, criterion='gini',\n",
    "            max_depth=None, max_features='auto', max_leaf_nodes=None,\n",
    "            min_impurity_decrease=0.0, min_impurity_split=None,\n",
    "            min_samples_leaf=1, min_samples_split=2,\n",
    "            min_weight_fraction_leaf=0.0, n_estimators=100, n_jobs=1,\n",
    "            oob_score=False, random_state=None, verbose=0,\n",
    "            warm_start=False)"
   ]
  },
  {
   "cell_type": "code",
   "execution_count": 145,
   "metadata": {},
   "outputs": [
    {
     "ename": "ValueError",
     "evalue": "Length of passed values is 4, index implies 14.",
     "output_type": "error",
     "traceback": [
      "\u001b[1;31m---------------------------------------------------------------------------\u001b[0m",
      "\u001b[1;31mValueError\u001b[0m                                Traceback (most recent call last)",
      "\u001b[1;32m<ipython-input-145-7038166a72e3>\u001b[0m in \u001b[0;36m<module>\u001b[1;34m\u001b[0m\n\u001b[1;32m----> 1\u001b[1;33m \u001b[0mfeature_imp\u001b[0m \u001b[1;33m=\u001b[0m \u001b[0mpd\u001b[0m\u001b[1;33m.\u001b[0m\u001b[0mSeries\u001b[0m\u001b[1;33m(\u001b[0m\u001b[0mclf\u001b[0m\u001b[1;33m.\u001b[0m\u001b[0mfeature_importances_\u001b[0m\u001b[1;33m,\u001b[0m \u001b[0mindex\u001b[0m\u001b[1;33m=\u001b[0m\u001b[0mfeature_names\u001b[0m\u001b[1;33m)\u001b[0m\u001b[1;33m.\u001b[0m\u001b[0msort_values\u001b[0m\u001b[1;33m(\u001b[0m\u001b[0mascending\u001b[0m\u001b[1;33m=\u001b[0m\u001b[1;32mFalse\u001b[0m\u001b[1;33m)\u001b[0m\u001b[1;33m\u001b[0m\u001b[1;33m\u001b[0m\u001b[0m\n\u001b[0m\u001b[0;32m      2\u001b[0m \u001b[0mfeature_imp\u001b[0m\u001b[1;33m\u001b[0m\u001b[1;33m\u001b[0m\u001b[0m\n",
      "\u001b[1;32mD:\\Softwares\\Anaconda\\lib\\site-packages\\pandas\\core\\series.py\u001b[0m in \u001b[0;36m__init__\u001b[1;34m(self, data, index, dtype, name, copy, fastpath)\u001b[0m\n\u001b[0;32m    311\u001b[0m                 \u001b[1;32mtry\u001b[0m\u001b[1;33m:\u001b[0m\u001b[1;33m\u001b[0m\u001b[1;33m\u001b[0m\u001b[0m\n\u001b[0;32m    312\u001b[0m                     \u001b[1;32mif\u001b[0m \u001b[0mlen\u001b[0m\u001b[1;33m(\u001b[0m\u001b[0mindex\u001b[0m\u001b[1;33m)\u001b[0m \u001b[1;33m!=\u001b[0m \u001b[0mlen\u001b[0m\u001b[1;33m(\u001b[0m\u001b[0mdata\u001b[0m\u001b[1;33m)\u001b[0m\u001b[1;33m:\u001b[0m\u001b[1;33m\u001b[0m\u001b[1;33m\u001b[0m\u001b[0m\n\u001b[1;32m--> 313\u001b[1;33m                         raise ValueError(\n\u001b[0m\u001b[0;32m    314\u001b[0m                             \u001b[1;34mf\"Length of passed values is {len(data)}, \"\u001b[0m\u001b[1;33m\u001b[0m\u001b[1;33m\u001b[0m\u001b[0m\n\u001b[0;32m    315\u001b[0m                             \u001b[1;34mf\"index implies {len(index)}.\"\u001b[0m\u001b[1;33m\u001b[0m\u001b[1;33m\u001b[0m\u001b[0m\n",
      "\u001b[1;31mValueError\u001b[0m: Length of passed values is 4, index implies 14."
     ]
    }
   ],
   "source": [
    "feature_imp = pd.Series(clf.feature_importances_, index=feature_names).sort_values(ascending=False)\n",
    "feature_imp"
   ]
  },
  {
   "cell_type": "code",
   "execution_count": 44,
   "metadata": {},
   "outputs": [],
   "source": [
    "import matplotlib.pyplot as plt\n",
    "%matplotlib inline\n"
   ]
  },
  {
   "cell_type": "code",
   "execution_count": 45,
   "metadata": {},
   "outputs": [
    {
     "name": "stderr",
     "output_type": "stream",
     "text": [
      "No handles with labels found to put in legend.\n"
     ]
    },
    {
     "data": {
      "image/png": "[encoded data removed]",
      "text/plain": [
       "<Figure size 432x288 with 1 Axes>"
      ]
     },
     "metadata": {
      "needs_background": "light"
     },
     "output_type": "display_data"
    }
   ],
   "source": [
    "# Creating a bar plot\n",
    "sns.barplot(x=feature_imp, y=feature_imp.index)\n",
    "\n",
    "# Add labels to your graph\n",
    "plt.xlabel('Feature Importance Score')\n",
    "plt.ylabel('Features')\n",
    "plt.title(\"Visualizing Important Features\")\n",
    "plt.legend()\n",
    "plt.show()"
   ]
  },
  {
   "cell_type": "markdown",
   "metadata": {},
   "source": [
    "## Creating a model on Important Feature score"
   ]
  },
  {
   "cell_type": "code",
   "execution_count": 46,
   "metadata": {},
   "outputs": [],
   "source": [
    "# Split dataset into features and labels\n",
    "#### Removed unimportant features such as \"EDA 3,4,5\"\n",
    "X=new_df[['steps_EDA_1', 'steps_EDA_2', 'timespent_EDA_1','timespent_EDA_2']] \n",
    "y=new_df['result']         \n",
    "\n",
    "\n",
    "# Split dataset into training set and test set\n",
    "X_train, X_test, y_train, y_test = train_test_split(X, y, test_size=0.70, random_state=5) # 70% training and 30% test"
   ]
  },
  {
   "cell_type": "code",
   "execution_count": 47,
   "metadata": {},
   "outputs": [
    {
     "name": "stdout",
     "output_type": "stream",
     "text": [
      "Accuracy: 0.7239263803680982\n"
     ]
    }
   ],
   "source": [
    "#Create a Gaussian Classifier\n",
    "clf=RandomForestClassifier(n_estimators=100)\n",
    "\n",
    "#Train the model using the training sets y_pred=clf.predict(X_test)\n",
    "clf.fit(X_train,y_train)\n",
    "\n",
    "# prediction on test set\n",
    "y_pred=clf.predict(X_test)\n",
    "\n",
    "#Import scikit-learn metrics module for accuracy calculation\n",
    "from sklearn import metrics\n",
    "# Model Accuracy, how often is the classifier correct?\n",
    "print(\"Accuracy:\",metrics.accuracy_score(y_test, y_pred))"
   ]
  },
  {
   "cell_type": "code",
   "execution_count": 48,
   "metadata": {},
   "outputs": [
    {
     "data": {
      "text/plain": [
       "0.3885716667361314"
      ]
     },
     "execution_count": 48,
     "metadata": {},
     "output_type": "execute_result"
    }
   ],
   "source": [
    "cohen_kappa_score(y_test, y_pred)"
   ]
  },
  {
   "cell_type": "markdown",
   "metadata": {},
   "source": [
    "####  Accuracy: 73% (when only EDA 0,1,2 considered) |    \n",
    "#### Accuracy: > 70% (when only EDA 1,2 considered)"
   ]
  },
  {
   "cell_type": "markdown",
   "metadata": {},
   "source": [
    "### Knowing about epistemic data\n",
    "- iEE = Problem Identification - 1\n",
    "- EG = Evidence Generation - 2\n",
    "- cEE = Evidence evaluation - 3\n",
    "- CHG = - Hypothesis Generation - 4\n",
    "- DC = Drawing conclusion - 5\n",
    "- none = 0"
   ]
  },
  {
   "cell_type": "code",
   "execution_count": null,
   "metadata": {},
   "outputs": [],
   "source": []
  }
 ],
 "metadata": {
  "kernelspec": {
   "display_name": "Python 3",
   "language": "python",
   "name": "python3"
  },
  "language_info": {
   "codemirror_mode": {
    "name": "ipython",
    "version": 3
   },
   "file_extension": ".py",
   "mimetype": "text/x-python",
   "name": "python",
   "nbconvert_exporter": "python",
   "pygments_lexer": "ipython3",
   "version": "3.8.5"
  }
 },
 "nbformat": 4,
 "nbformat_minor": 4
}
